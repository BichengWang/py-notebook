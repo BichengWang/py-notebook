{
 "cells": [
  {
   "cell_type": "code",
   "execution_count": null,
   "id": "17965d79",
   "metadata": {},
   "outputs": [],
   "source": [
    "total = 16_000_000_000_000"
   ]
  },
  {
   "cell_type": "code",
   "execution_count": null,
   "id": "8fdc3689",
   "metadata": {},
   "outputs": [],
   "source": [
    "total_h = total / 1024 / 1024 / 1024 / 1024"
   ]
  },
  {
   "cell_type": "code",
   "execution_count": null,
   "id": "6cd60940",
   "metadata": {},
   "outputs": [],
   "source": []
  }
 ],
 "metadata": {
  "kernelspec": {
   "display_name": "Python 3",
   "language": "python",
   "name": "python3"
  }
 },
 "nbformat": 4,
 "nbformat_minor": 5
}
