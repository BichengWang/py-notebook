{
 "cells": [
  {
   "cell_type": "markdown",
   "metadata": {},
   "source": [
    "# Text classification with an RNN\n",
    "\n",
    "https://www.tensorflow.org/tutorials/text/text_classification_rnn"
   ]
  },
  {
   "cell_type": "markdown",
   "metadata": {},
   "source": [
    "## Setup"
   ]
  },
  {
   "cell_type": "markdown",
   "metadata": {},
   "source": [
    "The context words for each of the 8 words of this sentence are defined by a window size. The window size determines the span of words on either side of a `target_word` that can be considered context word. Take a look at this table of skip-grams for target words based on different window sizes.\n",
    "\n"
   ]
  },
  {
   "cell_type": "code",
   "execution_count": 1,
   "metadata": {},
   "outputs": [],
   "source": [
    "import numpy as np\n",
    "\n",
    "import tensorflow_datasets as tfds\n",
    "import tensorflow as tf\n",
    "\n",
    "tfds.disable_progress_bar()"
   ]
  },
  {
   "cell_type": "code",
   "execution_count": 2,
   "metadata": {},
   "outputs": [],
   "source": [
    "# Setup memory to fix critical issue\n",
    "physical_devices = tf.config.list_physical_devices('GPU') \n",
    "tf.config.experimental.set_memory_growth(physical_devices[0], True)"
   ]
  },
  {
   "cell_type": "code",
   "execution_count": 3,
   "metadata": {},
   "outputs": [],
   "source": [
    "import matplotlib.pyplot as plt\n",
    "\n",
    "def plot_graphs(history, metric):\n",
    "    plt.plot(history.history[metric])\n",
    "    plt.plot(history.history['val_'+metric], '')\n",
    "    plt.xlabel(\"Epochs\")\n",
    "    plt.ylabel(metric)\n",
    "    plt.legend([metric, 'val_'+metric])"
   ]
  },
  {
   "cell_type": "markdown",
   "metadata": {},
   "source": [
    "### Setup input pipeline"
   ]
  },
  {
   "cell_type": "code",
   "execution_count": 4,
   "metadata": {},
   "outputs": [
    {
     "data": {
      "text/plain": [
       "(TensorSpec(shape=(), dtype=tf.string, name=None),\n",
       " TensorSpec(shape=(), dtype=tf.int64, name=None))"
      ]
     },
     "execution_count": 4,
     "metadata": {},
     "output_type": "execute_result"
    }
   ],
   "source": [
    "dataset, info = tfds.load('imdb_reviews', with_info=True,\n",
    "                          as_supervised=True)\n",
    "train_dataset, test_dataset = dataset['train'], dataset['test']\n",
    "\n",
    "train_dataset.element_spec"
   ]
  },
  {
   "cell_type": "code",
   "execution_count": 5,
   "metadata": {},
   "outputs": [
    {
     "name": "stdout",
     "output_type": "stream",
     "text": [
      "text:  b\"This was an absolutely terrible movie. Don't be lured in by Christopher Walken or Michael Ironside. Both are great actors, but this must simply be their worst role in history. Even their great acting could not redeem this movie's ridiculous storyline. This movie is an early nineties US propaganda piece. The most pathetic scenes were those when the Columbian rebels were making their cases for revolutions. Maria Conchita Alonso appeared phony, and her pseudo-love affair with Walken was nothing but a pathetic emotional plug in a movie that was devoid of any real meaning. I am disappointed that there are movies like this, ruining actor's like Christopher Walken's good name. I could barely sit through it.\"\n",
      "label:  0\n"
     ]
    }
   ],
   "source": [
    "for example, label in train_dataset.take(1):\n",
    "    print('text: ', example.numpy())\n",
    "    print('label: ', label.numpy())"
   ]
  },
  {
   "cell_type": "code",
   "execution_count": 6,
   "metadata": {},
   "outputs": [],
   "source": [
    "BUFFER_SIZE = 10000\n",
    "BATCH_SIZE = 64"
   ]
  },
  {
   "cell_type": "code",
   "execution_count": 7,
   "metadata": {},
   "outputs": [],
   "source": [
    "train_dataset = train_dataset.shuffle(BUFFER_SIZE).batch(BATCH_SIZE).prefetch(tf.data.AUTOTUNE)\n",
    "test_dataset = test_dataset.batch(BATCH_SIZE).prefetch(tf.data.AUTOTUNE)"
   ]
  },
  {
   "cell_type": "code",
   "execution_count": 8,
   "metadata": {},
   "outputs": [
    {
     "name": "stdout",
     "output_type": "stream",
     "text": [
      "texts:  [b'Despite its flaws, I enjoyed \"Cigarette Burns\", John Carpenter\\'s Season One episode in the Masters of Horror series. Yes, the story seemed like a cheap cross between IN THE MOUTH OF MADNESS and 8MM, but it was still quite good for the budget and time constraints given to it. With \"Pro-Life\", however, the low budget and time constraints definitely show more than anything else. There is solid directing as always from Carpenter yet there is a quality to the writing and whole production itself that gives the feeling it was made in a total and complete rush. The script isn\\'t always clear, the message fuzzy, and the story is full of plot holes once you look back on them. Maybe had Carpenter re-written the script, it could have been a worthwhile episode. Instead, it\\'s a mess that only hardcore Carpenter fans will find the slightest enjoyment in. Definitely the worst Carpenter has ever done. 2/10'\n",
      " b\"The Good Thing about this movie: The concept is interesting and there are some funny scenes. It also makes you think of those little things in life that could greatly affect the life of someone else without you ever knowing. Its a small world and this little movie shows us.<br /><br />The Bad Thing:There are too many characters and its hard to tell who the main character is but its still a great movie.<br /><br />Its a great movie and many people compare it to Magnolia which I haven't seen.<br /><br />8/10<br /><br />Not Rated---I would rate it PG-13 for brief violence,some language and sexual situations.\"\n",
      " b'I only saw this movie once, and that was enough for me. The movie has very little if any plot and seems to be nothing but continuous scenes of psycho-sadistic violence and very little of anything else. I wanted to see this movie because it starred Zoe Trilling of the second \"Night of The Demons;\" and I wanted to see her playing someone normal. Unfortunately, the Tobe Hooper script barely begins and goes nowhere as Robert Englund dominates the film and chews up the scenery and plot. Zoe, I know where you are now; hiding from this film !']\n",
      "\n",
      "labels:  [0 1 0]\n"
     ]
    }
   ],
   "source": [
    "for example, label in train_dataset.take(1):\n",
    "    print('texts: ', example.numpy()[:3])\n",
    "    print()\n",
    "    print('labels: ', label.numpy()[:3])"
   ]
  },
  {
   "cell_type": "markdown",
   "metadata": {},
   "source": [
    "### Create the text encoder"
   ]
  },
  {
   "cell_type": "code",
   "execution_count": 9,
   "metadata": {},
   "outputs": [],
   "source": [
    "VOCAB_SIZE=1000\n",
    "encoder = tf.keras.layers.experimental.preprocessing.TextVectorization(\n",
    "    max_tokens=VOCAB_SIZE)\n",
    "encoder.adapt(train_dataset.map(lambda text, label: text))"
   ]
  },
  {
   "cell_type": "code",
   "execution_count": 10,
   "metadata": {},
   "outputs": [
    {
     "data": {
      "text/plain": [
       "array(['', '[UNK]', 'the', 'and', 'a', 'of', 'to', 'is', 'in', 'it', 'i',\n",
       "       'this', 'that', 'br', 'was', 'as', 'for', 'with', 'movie', 'but'],\n",
       "      dtype='<U14')"
      ]
     },
     "execution_count": 10,
     "metadata": {},
     "output_type": "execute_result"
    }
   ],
   "source": [
    "vocab = np.array(encoder.get_vocabulary())\n",
    "vocab[:20]"
   ]
  },
  {
   "cell_type": "code",
   "execution_count": 11,
   "metadata": {},
   "outputs": [
    {
     "data": {
      "text/plain": [
       "array([[450,  30,   1, ...,   0,   0,   0],\n",
       "       [  2,  50, 151, ...,   0,   0,   0],\n",
       "       [ 10,  61, 208, ...,   0,   0,   0]], dtype=int64)"
      ]
     },
     "execution_count": 11,
     "metadata": {},
     "output_type": "execute_result"
    }
   ],
   "source": [
    "encoded_example = encoder(example)[:3].numpy()\n",
    "encoded_example"
   ]
  },
  {
   "cell_type": "code",
   "execution_count": 12,
   "metadata": {},
   "outputs": [
    {
     "name": "stdout",
     "output_type": "stream",
     "text": [
      "Original:  b'Despite its flaws, I enjoyed \"Cigarette Burns\", John Carpenter\\'s Season One episode in the Masters of Horror series. Yes, the story seemed like a cheap cross between IN THE MOUTH OF MADNESS and 8MM, but it was still quite good for the budget and time constraints given to it. With \"Pro-Life\", however, the low budget and time constraints definitely show more than anything else. There is solid directing as always from Carpenter yet there is a quality to the writing and whole production itself that gives the feeling it was made in a total and complete rush. The script isn\\'t always clear, the message fuzzy, and the story is full of plot holes once you look back on them. Maybe had Carpenter re-written the script, it could have been a worthwhile episode. Instead, it\\'s a mess that only hardcore Carpenter fans will find the slightest enjoyment in. Definitely the worst Carpenter has ever done. 2/10'\n",
      "Round-trip:  despite its [UNK] i enjoyed [UNK] [UNK] john [UNK] season one episode in the [UNK] of horror series yes the story seemed like a cheap [UNK] between in the [UNK] of [UNK] and [UNK] but it was still quite good for the budget and time [UNK] given to it with [UNK] however the low budget and time [UNK] definitely show more than anything else there is [UNK] directing as always from [UNK] yet there is a quality to the writing and whole production itself that gives the feeling it was made in a total and complete [UNK] the script isnt always clear the message [UNK] and the story is full of plot [UNK] once you look back on them maybe had [UNK] [UNK] the script it could have been a [UNK] episode instead its a mess that only [UNK] [UNK] fans will find the [UNK] [UNK] in definitely the worst [UNK] has ever done [UNK]                                                                                                                                                                                                                                                                                                                                                                                                                                                                                                                                                                                                                                                                                                                                                                                                                                                                 \n",
      "\n",
      "Original:  b\"The Good Thing about this movie: The concept is interesting and there are some funny scenes. It also makes you think of those little things in life that could greatly affect the life of someone else without you ever knowing. Its a small world and this little movie shows us.<br /><br />The Bad Thing:There are too many characters and its hard to tell who the main character is but its still a great movie.<br /><br />Its a great movie and many people compare it to Magnolia which I haven't seen.<br /><br />8/10<br /><br />Not Rated---I would rate it PG-13 for brief violence,some language and sexual situations.\"\n",
      "Round-trip:  the good thing about this movie the [UNK] is interesting and there are some funny scenes it also makes you think of those little things in life that could [UNK] [UNK] the life of someone else without you ever [UNK] its a small world and this little movie shows [UNK] br the bad [UNK] are too many characters and its hard to tell who the main character is but its still a great moviebr br its a great movie and many people [UNK] it to [UNK] which i havent [UNK] br [UNK] br not [UNK] would [UNK] it [UNK] for [UNK] [UNK] [UNK] and sexual [UNK]                                                                                                                                                                                                                                                                                                                                                                                                                                                                                                                                                                                                                                                                                                                                                                                                                                                                                                                  \n",
      "\n",
      "Original:  b'I only saw this movie once, and that was enough for me. The movie has very little if any plot and seems to be nothing but continuous scenes of psycho-sadistic violence and very little of anything else. I wanted to see this movie because it starred Zoe Trilling of the second \"Night of The Demons;\" and I wanted to see her playing someone normal. Unfortunately, the Tobe Hooper script barely begins and goes nowhere as Robert Englund dominates the film and chews up the scenery and plot. Zoe, I know where you are now; hiding from this film !'\n",
      "Round-trip:  i only saw this movie once and that was enough for me the movie has very little if any plot and seems to be nothing but [UNK] scenes of [UNK] violence and very little of anything else i wanted to see this movie because it [UNK] [UNK] [UNK] of the second night of the [UNK] and i wanted to see her playing someone [UNK] unfortunately the [UNK] [UNK] script [UNK] begins and goes [UNK] as robert [UNK] [UNK] the film and [UNK] up the [UNK] and plot [UNK] i know where you are now [UNK] from this film                                                                                                                                                                                                                                                                                                                                                                                                                                                                                                                                                                                                                                                                                                                                                                                                                                                                                                                          \n",
      "\n"
     ]
    }
   ],
   "source": [
    "for n in range(3):\n",
    "    print(\"Original: \", example[n].numpy())\n",
    "    print(\"Round-trip: \", \" \".join(vocab[encoded_example[n]]))\n",
    "    print()"
   ]
  },
  {
   "cell_type": "markdown",
   "metadata": {},
   "source": [
    "### Create the model"
   ]
  },
  {
   "cell_type": "code",
   "execution_count": 13,
   "metadata": {},
   "outputs": [],
   "source": [
    "model = tf.keras.Sequential([\n",
    "    encoder,\n",
    "    tf.keras.layers.Embedding(\n",
    "        input_dim=len(encoder.get_vocabulary()),\n",
    "        output_dim=64,\n",
    "        # Use masking to handle the variable sequence lengths\n",
    "        mask_zero=True),\n",
    "    tf.keras.layers.Bidirectional(tf.keras.layers.LSTM(64)),\n",
    "    tf.keras.layers.Dense(64, activation='relu'),\n",
    "    tf.keras.layers.Dense(1)\n",
    "])"
   ]
  },
  {
   "cell_type": "code",
   "execution_count": 14,
   "metadata": {},
   "outputs": [
    {
     "name": "stdout",
     "output_type": "stream",
     "text": [
      "[False, True, True, True, True]\n"
     ]
    }
   ],
   "source": [
    "print([layer.supports_masking for layer in model.layers])"
   ]
  },
  {
   "cell_type": "code",
   "execution_count": 15,
   "metadata": {},
   "outputs": [
    {
     "name": "stdout",
     "output_type": "stream",
     "text": [
      "[-0.00082099]\n"
     ]
    }
   ],
   "source": [
    "# predict on a sample text without padding.\n",
    "\n",
    "sample_text = ('The movie was cool. The animation and the graphics '\n",
    "               'were out of this world. I would recommend this movie.')\n",
    "predictions = model.predict(np.array([sample_text]))\n",
    "print(predictions[0])"
   ]
  },
  {
   "cell_type": "code",
   "execution_count": 16,
   "metadata": {},
   "outputs": [
    {
     "name": "stdout",
     "output_type": "stream",
     "text": [
      "[-0.00082099]\n"
     ]
    }
   ],
   "source": [
    "# predict on a sample text with padding\n",
    "\n",
    "padding = \"the \" * 2000\n",
    "predictions = model.predict(np.array([sample_text, padding]))\n",
    "print(predictions[0])"
   ]
  },
  {
   "cell_type": "code",
   "execution_count": 17,
   "metadata": {},
   "outputs": [],
   "source": [
    "model.compile(loss=tf.keras.losses.BinaryCrossentropy(from_logits=True),\n",
    "              optimizer=tf.keras.optimizers.Adam(1e-4),\n",
    "              metrics=['accuracy'])"
   ]
  },
  {
   "cell_type": "markdown",
   "metadata": {},
   "source": [
    "### Train the model"
   ]
  },
  {
   "cell_type": "code",
   "execution_count": 18,
   "metadata": {},
   "outputs": [
    {
     "name": "stdout",
     "output_type": "stream",
     "text": [
      "Epoch 1/10\n",
      "391/391 [==============================] - 45s 105ms/step - loss: 0.6823 - accuracy: 0.5097 - val_loss: 0.4940 - val_accuracy: 0.7833\n",
      "Epoch 2/10\n",
      "391/391 [==============================] - 39s 99ms/step - loss: 0.4132 - accuracy: 0.8090 - val_loss: 0.3680 - val_accuracy: 0.8203\n",
      "Epoch 3/10\n",
      "391/391 [==============================] - 39s 101ms/step - loss: 0.3377 - accuracy: 0.8507 - val_loss: 0.3417 - val_accuracy: 0.8490\n",
      "Epoch 4/10\n",
      "391/391 [==============================] - 40s 102ms/step - loss: 0.3148 - accuracy: 0.8628 - val_loss: 0.3278 - val_accuracy: 0.8557\n",
      "Epoch 5/10\n",
      "391/391 [==============================] - 40s 102ms/step - loss: 0.3095 - accuracy: 0.8641 - val_loss: 0.3209 - val_accuracy: 0.8630\n",
      "Epoch 6/10\n",
      "391/391 [==============================] - 39s 99ms/step - loss: 0.3058 - accuracy: 0.8701 - val_loss: 0.3327 - val_accuracy: 0.8615\n",
      "Epoch 7/10\n",
      "391/391 [==============================] - 39s 100ms/step - loss: 0.3059 - accuracy: 0.8682 - val_loss: 0.3205 - val_accuracy: 0.8531\n",
      "Epoch 8/10\n",
      "391/391 [==============================] - 51s 130ms/step - loss: 0.2996 - accuracy: 0.8707 - val_loss: 0.3281 - val_accuracy: 0.8625\n",
      "Epoch 9/10\n",
      "391/391 [==============================] - 40s 103ms/step - loss: 0.2954 - accuracy: 0.8725 - val_loss: 0.3329 - val_accuracy: 0.8651\n",
      "Epoch 10/10\n",
      "391/391 [==============================] - 40s 102ms/step - loss: 0.3030 - accuracy: 0.8711 - val_loss: 0.3180 - val_accuracy: 0.8635\n"
     ]
    }
   ],
   "source": [
    "history = model.fit(train_dataset, epochs=10,\n",
    "                    validation_data=test_dataset, \n",
    "                    validation_steps=30)"
   ]
  },
  {
   "cell_type": "code",
   "execution_count": 19,
   "metadata": {},
   "outputs": [
    {
     "name": "stdout",
     "output_type": "stream",
     "text": [
      "391/391 [==============================] - 20s 51ms/step - loss: 0.3171 - accuracy: 0.8632\n",
      "Test Loss: 0.3171176612377167\n",
      "Test Accuracy: 0.8632400035858154\n"
     ]
    }
   ],
   "source": [
    "test_loss, test_acc = model.evaluate(test_dataset)\n",
    "\n",
    "print('Test Loss: {}'.format(test_loss))\n",
    "print('Test Accuracy: {}'.format(test_acc))"
   ]
  },
  {
   "cell_type": "code",
   "execution_count": 20,
   "metadata": {},
   "outputs": [
    {
     "data": {
      "text/plain": [
       "(0.0, 0.6526422768831253)"
      ]
     },
     "execution_count": 20,
     "metadata": {},
     "output_type": "execute_result"
    },
    {
     "data": {
      "image/png": "[encoded data removed]",
      "text/plain": [
       "<Figure size 1152x576 with 2 Axes>"
      ]
     },
     "metadata": {
      "needs_background": "light"
     },
     "output_type": "display_data"
    }
   ],
   "source": [
    "plt.figure(figsize=(16,8))\n",
    "plt.subplot(1,2,1)\n",
    "plot_graphs(history, 'accuracy')\n",
    "plt.ylim(None,1)\n",
    "plt.subplot(1,2,2)\n",
    "plot_graphs(history, 'loss')\n",
    "plt.ylim(0,None)"
   ]
  },
  {
   "cell_type": "code",
   "execution_count": 21,
   "metadata": {},
   "outputs": [],
   "source": [
    "sample_text = ('The movie was cool. The animation and the graphics '\n",
    "               'were out of this world. I would recommend this movie.')\n",
    "predictions = model.predict(np.array([sample_text]))"
   ]
  },
  {
   "cell_type": "markdown",
   "metadata": {},
   "source": [
    "### Stack two or more LSTM layers"
   ]
  },
  {
   "cell_type": "code",
   "execution_count": 22,
   "metadata": {},
   "outputs": [],
   "source": [
    "model = tf.keras.Sequential([\n",
    "    encoder,\n",
    "    tf.keras.layers.Embedding(len(encoder.get_vocabulary()), 64, mask_zero=True),\n",
    "    tf.keras.layers.Bidirectional(tf.keras.layers.LSTM(64,  return_sequences=True)),\n",
    "    tf.keras.layers.Bidirectional(tf.keras.layers.LSTM(32)),\n",
    "    tf.keras.layers.Dense(64, activation='relu'),\n",
    "    tf.keras.layers.Dropout(0.5),\n",
    "    tf.keras.layers.Dense(1)\n",
    "])"
   ]
  },
  {
   "cell_type": "code",
   "execution_count": 23,
   "metadata": {},
   "outputs": [],
   "source": [
    "model.compile(loss=tf.keras.losses.BinaryCrossentropy(from_logits=True),\n",
    "              optimizer=tf.keras.optimizers.Adam(1e-4),\n",
    "              metrics=['accuracy'])"
   ]
  },
  {
   "cell_type": "code",
   "execution_count": 24,
   "metadata": {},
   "outputs": [
    {
     "name": "stdout",
     "output_type": "stream",
     "text": [
      "Epoch 1/10\n",
      "391/391 [==============================] - 79s 176ms/step - loss: 0.6760 - accuracy: 0.5250 - val_loss: 0.4383 - val_accuracy: 0.8193\n",
      "Epoch 2/10\n",
      "391/391 [==============================] - 66s 168ms/step - loss: 0.4008 - accuracy: 0.8219 - val_loss: 0.3429 - val_accuracy: 0.8411\n",
      "Epoch 3/10\n",
      "391/391 [==============================] - 63s 162ms/step - loss: 0.3425 - accuracy: 0.8523 - val_loss: 0.3236 - val_accuracy: 0.8609\n",
      "Epoch 4/10\n",
      "391/391 [==============================] - 64s 163ms/step - loss: 0.3256 - accuracy: 0.8602 - val_loss: 0.3484 - val_accuracy: 0.8562\n",
      "Epoch 5/10\n",
      "391/391 [==============================] - 65s 166ms/step - loss: 0.3139 - accuracy: 0.8662 - val_loss: 0.3163 - val_accuracy: 0.8609\n",
      "Epoch 6/10\n",
      "391/391 [==============================] - 65s 167ms/step - loss: 0.3058 - accuracy: 0.8697 - val_loss: 0.3167 - val_accuracy: 0.8646\n",
      "Epoch 7/10\n",
      "391/391 [==============================] - 66s 168ms/step - loss: 0.3062 - accuracy: 0.8699 - val_loss: 0.3228 - val_accuracy: 0.8474\n",
      "Epoch 8/10\n",
      "391/391 [==============================] - 64s 164ms/step - loss: 0.2888 - accuracy: 0.8804 - val_loss: 0.3134 - val_accuracy: 0.8635\n",
      "Epoch 9/10\n",
      "391/391 [==============================] - 63s 162ms/step - loss: 0.2929 - accuracy: 0.8750 - val_loss: 0.3136 - val_accuracy: 0.8594\n",
      "Epoch 10/10\n",
      "391/391 [==============================] - 61s 156ms/step - loss: 0.2985 - accuracy: 0.8726 - val_loss: 0.3283 - val_accuracy: 0.8495\n"
     ]
    }
   ],
   "source": [
    "history = model.fit(train_dataset, epochs=10,\n",
    "                    validation_data=test_dataset,\n",
    "                    validation_steps=30)"
   ]
  },
  {
   "cell_type": "code",
   "execution_count": 25,
   "metadata": {},
   "outputs": [
    {
     "name": "stdout",
     "output_type": "stream",
     "text": [
      "391/391 [==============================] - 28s 73ms/step - loss: 0.3273 - accuracy: 0.8464\n",
      "Test Loss: 0.3273463547229767\n",
      "Test Accuracy: 0.8464400172233582\n"
     ]
    }
   ],
   "source": [
    "test_loss, test_acc = model.evaluate(test_dataset)\n",
    "\n",
    "print('Test Loss: {}'.format(test_loss))\n",
    "print('Test Accuracy: {}'.format(test_acc))"
   ]
  },
  {
   "cell_type": "code",
   "execution_count": 26,
   "metadata": {},
   "outputs": [
    {
     "name": "stdout",
     "output_type": "stream",
     "text": [
      "[[-1.622307]]\n"
     ]
    }
   ],
   "source": [
    "# predict on a sample text without padding.\n",
    "\n",
    "sample_text = ('The movie was not good. The animation and the graphics '\n",
    "                    'were terrible. I would not recommend this movie.')\n",
    "predictions = model.predict(np.array([sample_text]))\n",
    "print(predictions)"
   ]
  },
  {
   "cell_type": "code",
   "execution_count": 27,
   "metadata": {},
   "outputs": [
    {
     "data": {
      "image/png": "[encoded data removed]",
      "text/plain": [
       "<Figure size 1152x432 with 2 Axes>"
      ]
     },
     "metadata": {
      "needs_background": "light"
     },
     "output_type": "display_data"
    }
   ],
   "source": [
    "plt.figure(figsize=(16,6))\n",
    "plt.subplot(1,2,1)\n",
    "plot_graphs(history, 'accuracy')\n",
    "plt.subplot(1,2,2)\n",
    "plot_graphs(history, 'loss')"
   ]
  }
 ],
 "metadata": {
  "kernelspec": {
   "display_name": "Python 3",
   "language": "python",
   "name": "python3"
  },
  "language_info": {
   "codemirror_mode": {
    "name": "ipython",
    "version": 3
   },
   "file_extension": ".py",
   "mimetype": "text/x-python",
   "name": "python",
   "nbconvert_exporter": "python",
   "pygments_lexer": "ipython3",
   "version": "3.7.8"
  }
 },
 "nbformat": 4,
 "nbformat_minor": 1
}
