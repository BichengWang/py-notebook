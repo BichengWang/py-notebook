{
 "cells": [
  {
   "cell_type": "markdown",
   "metadata": {},
   "source": [
    "# Tune hyperparameters with the Keras Tuner\n",
    "\n",
    "https://www.tensorflow.org/tutorials/keras/keras_tuner"
   ]
  },
  {
   "cell_type": "markdown",
   "metadata": {},
   "source": [
    "## Import Keras"
   ]
  },
  {
   "cell_type": "code",
   "execution_count": 1,
   "metadata": {},
   "outputs": [
    {
     "name": "stdout",
     "output_type": "stream",
     "text": [
      "Note: you may need to restart the kernel to use updated packages.\n"
     ]
    }
   ],
   "source": [
    "pip install -q -U keras-tuner"
   ]
  },
  {
   "cell_type": "code",
   "execution_count": 2,
   "metadata": {},
   "outputs": [],
   "source": [
    "import tensorflow as tf\n",
    "from tensorflow import keras\n",
    "import kerastuner as kt"
   ]
  },
  {
   "cell_type": "code",
   "execution_count": 3,
   "metadata": {},
   "outputs": [],
   "source": [
    "# Setup memory to fix critical issue\n",
    "physical_devices = tf.config.list_physical_devices('GPU') \n",
    "tf.config.experimental.set_memory_growth(physical_devices[0], True)"
   ]
  },
  {
   "cell_type": "code",
   "execution_count": 24,
   "metadata": {},
   "outputs": [
    {
     "name": "stdout",
     "output_type": "stream",
     "text": [
      "Num GPUs Available:  1\n",
      "tf.Tensor(\n",
      "[[22. 28.]\n",
      " [49. 64.]], shape=(2, 2), dtype=float32)\n"
     ]
    }
   ],
   "source": [
    "# test running device\n",
    "print(\"Num GPUs Available: \", len(tf.config.list_physical_devices('GPU')))\n",
    "tf.debugging.set_log_device_placement(True)\n",
    "\n",
    "# Create some tensors\n",
    "a = tf.constant([[1.0, 2.0, 3.0], [4.0, 5.0, 6.0]])\n",
    "b = tf.constant([[1.0, 2.0], [3.0, 4.0], [5.0, 6.0]])\n",
    "c = tf.matmul(a, b)\n",
    "\n",
    "print(c)"
   ]
  },
  {
   "cell_type": "code",
   "execution_count": 27,
   "metadata": {},
   "outputs": [
    {
     "name": "stdout",
     "output_type": "stream",
     "text": [
      "1 Physical GPUs, 1 Logical GPU\n"
     ]
    }
   ],
   "source": [
    "gpus = tf.config.list_physical_devices('GPU')\n",
    "if gpus:\n",
    "    # Restrict TensorFlow to only use the first GPU\n",
    "    try:\n",
    "        tf.config.experimental.set_visible_devices(gpus[0], 'GPU')\n",
    "        logical_gpus = tf.config.experimental.list_logical_devices('GPU')\n",
    "        print(len(gpus), \"Physical GPUs,\", len(logical_gpus), \"Logical GPU\")\n",
    "    except RuntimeError as e:\n",
    "        # Visible devices must be set before GPUs have been initialized\n",
    "        print(e)"
   ]
  },
  {
   "cell_type": "markdown",
   "metadata": {},
   "source": [
    "## Dataset Example"
   ]
  },
  {
   "cell_type": "code",
   "execution_count": 4,
   "metadata": {},
   "outputs": [],
   "source": [
    "(img_train, label_train), (img_test, label_test) = keras.datasets.fashion_mnist.load_data()"
   ]
  },
  {
   "cell_type": "code",
   "execution_count": 5,
   "metadata": {},
   "outputs": [],
   "source": [
    "# Normalize pixel values between 0 and 1\n",
    "img_train = img_train.astype('float32') / 255.0\n",
    "img_test = img_test.astype('float32') / 255.0"
   ]
  },
  {
   "cell_type": "markdown",
   "metadata": {},
   "source": [
    "### Define the model"
   ]
  },
  {
   "cell_type": "code",
   "execution_count": 17,
   "metadata": {},
   "outputs": [],
   "source": [
    "def model_builder(hp):\n",
    "    model = keras.Sequential()\n",
    "    model.add(keras.layers.Flatten(input_shape=(28, 28)))\n",
    "    \n",
    "    # Tune the number of units in the first Dense layer\n",
    "    # Choose an optimal value between 32-512\n",
    "    hp_units = hp.Int('units', min_value=32, max_value=512, step=32)\n",
    "    model.add(keras.layers.Dense(units=hp_units, activation='relu'))\n",
    "    model.add(keras.layers.Dense(units=hp_units, activation='relu'))\n",
    "    model.add(keras.layers.Dense(10))\n",
    "    \n",
    "    # Tune the learning rate for the optimizer\n",
    "    # Choose an optimal value from 0.01, 0.001, or 0.0001\n",
    "    hp_learning_rate = hp.Choice('learning_rate', values=[1e-2, 1e-3, 1e-4])\n",
    "    \n",
    "    model.compile(optimizer=keras.optimizers.Adam(learning_rate=hp_learning_rate),\n",
    "                loss=keras.losses.SparseCategoricalCrossentropy(from_logits=True),\n",
    "                metrics=['accuracy'])\n",
    "    \n",
    "    return model"
   ]
  },
  {
   "cell_type": "markdown",
   "metadata": {},
   "source": [
    "### Instantiate the tuner and perform hypertuning"
   ]
  },
  {
   "cell_type": "code",
   "execution_count": 18,
   "metadata": {},
   "outputs": [],
   "source": [
    "tuner = kt.Hyperband(model_builder,\n",
    "                     objective='val_accuracy',\n",
    "                     max_epochs=10,\n",
    "                     factor=3,\n",
    "                     directory='my_dir',\n",
    "                     project_name='intro_to_kt')"
   ]
  },
  {
   "cell_type": "code",
   "execution_count": 19,
   "metadata": {},
   "outputs": [],
   "source": [
    "stop_early = tf.keras.callbacks.EarlyStopping(monitor='val_loss', patience=5)"
   ]
  },
  {
   "cell_type": "code",
   "execution_count": 20,
   "metadata": {},
   "outputs": [
    {
     "name": "stdout",
     "output_type": "stream",
     "text": [
      "Trial 30 Complete [00h 00m 30s]\n",
      "val_accuracy: 0.8484166860580444\n",
      "\n",
      "Best val_accuracy So Far: 0.8915833234786987\n",
      "Total elapsed time: 00h 07m 22s\n",
      "INFO:tensorflow:Oracle triggered exit\n",
      "\n",
      "The hyperparameter search is complete. The optimal number of units in the first densely-connected\n",
      "layer is 224 and the optimal learning rate for the optimizer\n",
      "is 0.001.\n",
      "\n"
     ]
    }
   ],
   "source": [
    "tuner.search(img_train, label_train, epochs=50, validation_split=0.2, callbacks=[stop_early])\n",
    "\n",
    "# Get the optimal hyperparameters\n",
    "best_hps=tuner.get_best_hyperparameters(num_trials=1)[0]\n",
    "\n",
    "print(f\"\"\"\n",
    "The hyperparameter search is complete. The optimal number of units in the first densely-connected\n",
    "layer is {best_hps.get('units')} and the optimal learning rate for the optimizer\n",
    "is {best_hps.get('learning_rate')}.\n",
    "\"\"\")"
   ]
  },
  {
   "cell_type": "markdown",
   "metadata": {},
   "source": [
    "## Train the model"
   ]
  },
  {
   "cell_type": "code",
   "execution_count": 21,
   "metadata": {},
   "outputs": [
    {
     "name": "stdout",
     "output_type": "stream",
     "text": [
      "Epoch 1/50\n",
      "1500/1500 [==============================] - 4s 3ms/step - loss: 0.6217 - accuracy: 0.7792 - val_loss: 0.4288 - val_accuracy: 0.8437\n",
      "Epoch 2/50\n",
      "1500/1500 [==============================] - 4s 2ms/step - loss: 0.3718 - accuracy: 0.8629 - val_loss: 0.3659 - val_accuracy: 0.8668\n",
      "Epoch 3/50\n",
      "1500/1500 [==============================] - 4s 2ms/step - loss: 0.3305 - accuracy: 0.8767 - val_loss: 0.3816 - val_accuracy: 0.8618\n",
      "Epoch 4/50\n",
      "1500/1500 [==============================] - 4s 2ms/step - loss: 0.2949 - accuracy: 0.8893 - val_loss: 0.3584 - val_accuracy: 0.8648\n",
      "Epoch 5/50\n",
      "1500/1500 [==============================] - 4s 2ms/step - loss: 0.2837 - accuracy: 0.8942 - val_loss: 0.3311 - val_accuracy: 0.8823\n",
      "Epoch 6/50\n",
      "1500/1500 [==============================] - 4s 2ms/step - loss: 0.2693 - accuracy: 0.9012 - val_loss: 0.3256 - val_accuracy: 0.8861\n",
      "Epoch 7/50\n",
      "1500/1500 [==============================] - 4s 3ms/step - loss: 0.2539 - accuracy: 0.9031 - val_loss: 0.3074 - val_accuracy: 0.8904\n",
      "Epoch 8/50\n",
      "1500/1500 [==============================] - 4s 2ms/step - loss: 0.2396 - accuracy: 0.9088 - val_loss: 0.3729 - val_accuracy: 0.8785\n",
      "Epoch 9/50\n",
      "1500/1500 [==============================] - 4s 3ms/step - loss: 0.2390 - accuracy: 0.9081 - val_loss: 0.3219 - val_accuracy: 0.8884\n",
      "Epoch 10/50\n",
      "1500/1500 [==============================] - 4s 2ms/step - loss: 0.2278 - accuracy: 0.9139 - val_loss: 0.3132 - val_accuracy: 0.8920\n",
      "Epoch 11/50\n",
      "1500/1500 [==============================] - 4s 2ms/step - loss: 0.2130 - accuracy: 0.9188 - val_loss: 0.3215 - val_accuracy: 0.8938\n",
      "Epoch 12/50\n",
      "1500/1500 [==============================] - 4s 2ms/step - loss: 0.1995 - accuracy: 0.9249 - val_loss: 0.3162 - val_accuracy: 0.8938\n",
      "Epoch 13/50\n",
      "1500/1500 [==============================] - 4s 2ms/step - loss: 0.1939 - accuracy: 0.9242 - val_loss: 0.3299 - val_accuracy: 0.8926\n",
      "Epoch 14/50\n",
      "1500/1500 [==============================] - 4s 2ms/step - loss: 0.1897 - accuracy: 0.9286 - val_loss: 0.3635 - val_accuracy: 0.8846\n",
      "Epoch 15/50\n",
      "1500/1500 [==============================] - 4s 2ms/step - loss: 0.1844 - accuracy: 0.9290 - val_loss: 0.3444 - val_accuracy: 0.8950\n",
      "Epoch 16/50\n",
      "1500/1500 [==============================] - 4s 2ms/step - loss: 0.1728 - accuracy: 0.9335 - val_loss: 0.3360 - val_accuracy: 0.8957\n",
      "Epoch 17/50\n",
      "1500/1500 [==============================] - 4s 3ms/step - loss: 0.1757 - accuracy: 0.9336 - val_loss: 0.3399 - val_accuracy: 0.8963\n",
      "Epoch 18/50\n",
      "1500/1500 [==============================] - 4s 2ms/step - loss: 0.1631 - accuracy: 0.9374 - val_loss: 0.3663 - val_accuracy: 0.8942\n",
      "Epoch 19/50\n",
      "1500/1500 [==============================] - 4s 2ms/step - loss: 0.1579 - accuracy: 0.9399 - val_loss: 0.3780 - val_accuracy: 0.8958\n",
      "Epoch 20/50\n",
      "1500/1500 [==============================] - 4s 3ms/step - loss: 0.1540 - accuracy: 0.9428 - val_loss: 0.3710 - val_accuracy: 0.8963\n",
      "Epoch 21/50\n",
      "1500/1500 [==============================] - 4s 2ms/step - loss: 0.1486 - accuracy: 0.9414 - val_loss: 0.3989 - val_accuracy: 0.8928\n",
      "Epoch 22/50\n",
      "1500/1500 [==============================] - 4s 3ms/step - loss: 0.1422 - accuracy: 0.9444 - val_loss: 0.3964 - val_accuracy: 0.8933\n",
      "Epoch 23/50\n",
      "1500/1500 [==============================] - 4s 2ms/step - loss: 0.1500 - accuracy: 0.9426 - val_loss: 0.3814 - val_accuracy: 0.8934\n",
      "Epoch 24/50\n",
      "1500/1500 [==============================] - 4s 3ms/step - loss: 0.1384 - accuracy: 0.9462 - val_loss: 0.3918 - val_accuracy: 0.8958\n",
      "Epoch 25/50\n",
      "1500/1500 [==============================] - 4s 2ms/step - loss: 0.1301 - accuracy: 0.9510 - val_loss: 0.4516 - val_accuracy: 0.8839\n",
      "Epoch 26/50\n",
      "1500/1500 [==============================] - 4s 2ms/step - loss: 0.1352 - accuracy: 0.9488 - val_loss: 0.4112 - val_accuracy: 0.8893\n",
      "Epoch 27/50\n",
      "1500/1500 [==============================] - 4s 2ms/step - loss: 0.1252 - accuracy: 0.9514 - val_loss: 0.4352 - val_accuracy: 0.8945\n",
      "Epoch 28/50\n",
      "1500/1500 [==============================] - 4s 2ms/step - loss: 0.1212 - accuracy: 0.9535 - val_loss: 0.4256 - val_accuracy: 0.8980\n",
      "Epoch 29/50\n",
      "1500/1500 [==============================] - 4s 2ms/step - loss: 0.1167 - accuracy: 0.9551 - val_loss: 0.4280 - val_accuracy: 0.8911\n",
      "Epoch 30/50\n",
      "1500/1500 [==============================] - 4s 2ms/step - loss: 0.1123 - accuracy: 0.9550 - val_loss: 0.4668 - val_accuracy: 0.8896\n",
      "Epoch 31/50\n",
      "1500/1500 [==============================] - 4s 2ms/step - loss: 0.1145 - accuracy: 0.9557 - val_loss: 0.4660 - val_accuracy: 0.8932\n",
      "Epoch 32/50\n",
      "1500/1500 [==============================] - 4s 2ms/step - loss: 0.1075 - accuracy: 0.9582 - val_loss: 0.4890 - val_accuracy: 0.8854\n",
      "Epoch 33/50\n",
      "1500/1500 [==============================] - 4s 2ms/step - loss: 0.1044 - accuracy: 0.9591 - val_loss: 0.4785 - val_accuracy: 0.8918\n",
      "Epoch 34/50\n",
      "1500/1500 [==============================] - 4s 2ms/step - loss: 0.1075 - accuracy: 0.9594 - val_loss: 0.4747 - val_accuracy: 0.8910\n",
      "Epoch 35/50\n",
      "1500/1500 [==============================] - 4s 2ms/step - loss: 0.0957 - accuracy: 0.9635 - val_loss: 0.4949 - val_accuracy: 0.8935\n",
      "Epoch 36/50\n",
      "1500/1500 [==============================] - 4s 2ms/step - loss: 0.0988 - accuracy: 0.9617 - val_loss: 0.4984 - val_accuracy: 0.8898\n",
      "Epoch 37/50\n",
      "1500/1500 [==============================] - 4s 2ms/step - loss: 0.0952 - accuracy: 0.9648 - val_loss: 0.5084 - val_accuracy: 0.8895\n",
      "Epoch 38/50\n",
      "1500/1500 [==============================] - 4s 2ms/step - loss: 0.0944 - accuracy: 0.9643 - val_loss: 0.5617 - val_accuracy: 0.8898\n",
      "Epoch 39/50\n",
      "1500/1500 [==============================] - 4s 3ms/step - loss: 0.0915 - accuracy: 0.9646 - val_loss: 0.5643 - val_accuracy: 0.8923\n",
      "Epoch 40/50\n",
      "1500/1500 [==============================] - 4s 3ms/step - loss: 0.0836 - accuracy: 0.9686 - val_loss: 0.5806 - val_accuracy: 0.8887\n",
      "Epoch 41/50\n",
      "1500/1500 [==============================] - 4s 2ms/step - loss: 0.0851 - accuracy: 0.9678 - val_loss: 0.5347 - val_accuracy: 0.8941\n",
      "Epoch 42/50\n",
      "1500/1500 [==============================] - 4s 2ms/step - loss: 0.0879 - accuracy: 0.9661 - val_loss: 0.5341 - val_accuracy: 0.8928\n",
      "Epoch 43/50\n",
      "1500/1500 [==============================] - 4s 2ms/step - loss: 0.0800 - accuracy: 0.9683 - val_loss: 0.5930 - val_accuracy: 0.8903\n",
      "Epoch 44/50\n",
      "1500/1500 [==============================] - 4s 3ms/step - loss: 0.0856 - accuracy: 0.9680 - val_loss: 0.5794 - val_accuracy: 0.8979\n",
      "Epoch 45/50\n",
      "1500/1500 [==============================] - 4s 2ms/step - loss: 0.0796 - accuracy: 0.9709 - val_loss: 0.6346 - val_accuracy: 0.8922\n",
      "Epoch 46/50\n",
      "1500/1500 [==============================] - 4s 2ms/step - loss: 0.0772 - accuracy: 0.9712 - val_loss: 0.5719 - val_accuracy: 0.8881\n",
      "Epoch 47/50\n",
      "1500/1500 [==============================] - 4s 3ms/step - loss: 0.0810 - accuracy: 0.9704 - val_loss: 0.6070 - val_accuracy: 0.8921\n",
      "Epoch 48/50\n",
      "1500/1500 [==============================] - 4s 3ms/step - loss: 0.0746 - accuracy: 0.9713 - val_loss: 0.6428 - val_accuracy: 0.8926\n",
      "Epoch 49/50\n",
      "1500/1500 [==============================] - 4s 2ms/step - loss: 0.0768 - accuracy: 0.9712 - val_loss: 0.5786 - val_accuracy: 0.8923\n",
      "Epoch 50/50\n",
      "1500/1500 [==============================] - 4s 2ms/step - loss: 0.0716 - accuracy: 0.9736 - val_loss: 0.7296 - val_accuracy: 0.8899\n",
      "Best epoch: 28\n"
     ]
    }
   ],
   "source": [
    "# Build the model with the optimal hyperparameters and train it on the data for 50 epochs\n",
    "model = tuner.hypermodel.build(best_hps)\n",
    "history = model.fit(img_train, label_train, epochs=50, validation_split=0.2)\n",
    "\n",
    "# use cross validation accuracy maximum's epoch as the best epoch\n",
    "val_acc_per_epoch = history.history['val_accuracy']\n",
    "best_epoch = val_acc_per_epoch.index(max(val_acc_per_epoch)) + 1\n",
    "print('Best epoch: %d' % (best_epoch,))"
   ]
  },
  {
   "cell_type": "code",
   "execution_count": 22,
   "metadata": {},
   "outputs": [
    {
     "name": "stdout",
     "output_type": "stream",
     "text": [
      "Epoch 1/28\n",
      "313/313 [==============================] - 1s 2ms/step - loss: 0.9063 - accuracy: 0.6794\n",
      "Epoch 2/28\n",
      "313/313 [==============================] - 1s 2ms/step - loss: 0.5069 - accuracy: 0.8153\n",
      "Epoch 3/28\n",
      "313/313 [==============================] - 1s 2ms/step - loss: 0.4440 - accuracy: 0.8415\n",
      "Epoch 4/28\n",
      "313/313 [==============================] - 1s 2ms/step - loss: 0.3917 - accuracy: 0.8603\n",
      "Epoch 5/28\n",
      "313/313 [==============================] - 1s 2ms/step - loss: 0.3658 - accuracy: 0.8653\n",
      "Epoch 6/28\n",
      "313/313 [==============================] - 1s 2ms/step - loss: 0.3398 - accuracy: 0.8699\n",
      "Epoch 7/28\n",
      "313/313 [==============================] - 1s 2ms/step - loss: 0.3287 - accuracy: 0.8721\n",
      "Epoch 8/28\n",
      "313/313 [==============================] - 1s 2ms/step - loss: 0.3118 - accuracy: 0.8841\n",
      "Epoch 9/28\n",
      "313/313 [==============================] - 1s 2ms/step - loss: 0.2978 - accuracy: 0.8870\n",
      "Epoch 10/28\n",
      "313/313 [==============================] - 1s 2ms/step - loss: 0.2817 - accuracy: 0.8974\n",
      "Epoch 11/28\n",
      "313/313 [==============================] - 1s 2ms/step - loss: 0.2576 - accuracy: 0.8993\n",
      "Epoch 12/28\n",
      "313/313 [==============================] - 1s 2ms/step - loss: 0.2532 - accuracy: 0.9029\n",
      "Epoch 13/28\n",
      "313/313 [==============================] - 1s 2ms/step - loss: 0.2354 - accuracy: 0.9095\n",
      "Epoch 14/28\n",
      "313/313 [==============================] - 1s 2ms/step - loss: 0.2154 - accuracy: 0.9181\n",
      "Epoch 15/28\n",
      "313/313 [==============================] - 1s 2ms/step - loss: 0.2048 - accuracy: 0.9254\n",
      "Epoch 16/28\n",
      "313/313 [==============================] - 1s 2ms/step - loss: 0.2024 - accuracy: 0.9237\n",
      "Epoch 17/28\n",
      "313/313 [==============================] - 1s 2ms/step - loss: 0.2091 - accuracy: 0.9199\n",
      "Epoch 18/28\n",
      "313/313 [==============================] - 1s 2ms/step - loss: 0.1909 - accuracy: 0.9286\n",
      "Epoch 19/28\n",
      "313/313 [==============================] - 1s 2ms/step - loss: 0.2002 - accuracy: 0.9273\n",
      "Epoch 20/28\n",
      "313/313 [==============================] - 1s 2ms/step - loss: 0.1566 - accuracy: 0.9425\n",
      "Epoch 21/28\n",
      "313/313 [==============================] - 1s 2ms/step - loss: 0.1498 - accuracy: 0.9445\n",
      "Epoch 22/28\n",
      "313/313 [==============================] - 1s 2ms/step - loss: 0.1583 - accuracy: 0.9406\n",
      "Epoch 23/28\n",
      "313/313 [==============================] - 1s 2ms/step - loss: 0.1466 - accuracy: 0.9420\n",
      "Epoch 24/28\n",
      "313/313 [==============================] - 1s 2ms/step - loss: 0.1374 - accuracy: 0.9466\n",
      "Epoch 25/28\n",
      "313/313 [==============================] - 1s 2ms/step - loss: 0.1466 - accuracy: 0.9410\n",
      "Epoch 26/28\n",
      "313/313 [==============================] - 1s 2ms/step - loss: 0.1272 - accuracy: 0.9500\n",
      "Epoch 27/28\n",
      "313/313 [==============================] - 1s 2ms/step - loss: 0.1119 - accuracy: 0.9578\n",
      "Epoch 28/28\n",
      "313/313 [==============================] - 1s 2ms/step - loss: 0.1162 - accuracy: 0.9564\n"
     ]
    },
    {
     "data": {
      "text/plain": [
       "<tensorflow.python.keras.callbacks.History at 0x163fbe2cac8>"
      ]
     },
     "execution_count": 22,
     "metadata": {},
     "output_type": "execute_result"
    }
   ],
   "source": [
    "hypermodel = tuner.hypermodel.build(best_hps)\n",
    "\n",
    "# Retrain the model\n",
    "hypermodel.fit(img_test, label_test, epochs=best_epoch)"
   ]
  },
  {
   "cell_type": "code",
   "execution_count": 23,
   "metadata": {},
   "outputs": [
    {
     "name": "stdout",
     "output_type": "stream",
     "text": [
      "313/313 [==============================] - 1s 2ms/step - loss: 0.1169 - accuracy: 0.9579\n",
      "[test loss, test accuracy]: [0.11690054833889008, 0.9578999876976013]\n"
     ]
    }
   ],
   "source": [
    "eval_result = hypermodel.evaluate(img_test, label_test)\n",
    "print(\"[test loss, test accuracy]:\", eval_result)"
   ]
  },
  {
   "cell_type": "code",
   "execution_count": null,
   "metadata": {},
   "outputs": [],
   "source": []
  }
 ],
 "metadata": {
  "kernelspec": {
   "display_name": "Python 3",
   "language": "python",
   "name": "python3"
  },
  "language_info": {
   "codemirror_mode": {
    "name": "ipython",
    "version": 3
   },
   "file_extension": ".py",
   "mimetype": "text/x-python",
   "name": "python",
   "nbconvert_exporter": "python",
   "pygments_lexer": "ipython3",
   "version": "3.7.8"
  }
 },
 "nbformat": 4,
 "nbformat_minor": 1
}