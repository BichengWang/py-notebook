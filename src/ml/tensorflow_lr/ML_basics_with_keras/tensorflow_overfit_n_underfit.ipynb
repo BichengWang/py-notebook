{
 "cells": [
  {
   "cell_type": "markdown",
   "metadata": {},
   "source": [
    "# Overfit and Underfit\n",
    "\n",
    "https://www.tensorflow.org/tutorials/keras/overfit_and_underfit"
   ]
  },
  {
   "cell_type": "markdown",
   "metadata": {},
   "source": [
    "## Import Keras"
   ]
  },
  {
   "cell_type": "code",
   "execution_count": 1,
   "metadata": {},
   "outputs": [
    {
     "name": "stdout",
     "output_type": "stream",
     "text": [
      "2.4.1\n"
     ]
    }
   ],
   "source": [
    "import tensorflow as tf\n",
    "\n",
    "from tensorflow.keras import layers\n",
    "\n",
    "print(tf.__version__)"
   ]
  },
  {
   "cell_type": "code",
   "execution_count": 2,
   "metadata": {},
   "outputs": [],
   "source": [
    "!pip install -q git+https://github.com/tensorflow/docs"
   ]
  },
  {
   "cell_type": "code",
   "execution_count": 3,
   "metadata": {},
   "outputs": [],
   "source": [
    "import tensorflow_docs as tfdocs\n",
    "import tensorflow_docs.modeling\n",
    "import tensorflow_docs.plots"
   ]
  },
  {
   "cell_type": "code",
   "execution_count": 4,
   "metadata": {},
   "outputs": [],
   "source": [
    "from matplotlib import pyplot as plt\n",
    "\n",
    "import numpy as np\n",
    "\n",
    "import pathlib\n",
    "import shutil\n",
    "import tempfile"
   ]
  },
  {
   "cell_type": "code",
   "execution_count": 5,
   "metadata": {},
   "outputs": [],
   "source": [
    "logdir = pathlib.Path(tempfile.mkdtemp())/\"tensorboard_logs\"\n",
    "shutil.rmtree(logdir, ignore_errors=True)"
   ]
  },
  {
   "cell_type": "markdown",
   "metadata": {},
   "source": [
    "## The Higgs Dataset"
   ]
  },
  {
   "cell_type": "code",
   "execution_count": 6,
   "metadata": {},
   "outputs": [],
   "source": [
    "gz = tf.keras.utils.get_file('HIGGS.csv.gz', 'http://mlphysics.ics.uci.edu/data/higgs/HIGGS.csv.gz')\n",
    "\n",
    "FEATURES = 28\n",
    "\n",
    "ds = tf.data.experimental.CsvDataset(gz,[float(),]*(FEATURES+1), compression_type=\"GZIP\")"
   ]
  },
  {
   "cell_type": "code",
   "execution_count": 7,
   "metadata": {},
   "outputs": [],
   "source": [
    "def pack_row(*row):\n",
    "    label = row[0]\n",
    "    features = tf.stack(row[1:], 1)\n",
    "    return features, label"
   ]
  },
  {
   "cell_type": "code",
   "execution_count": 8,
   "metadata": {},
   "outputs": [],
   "source": [
    "packed_ds = ds.batch(10000).map(pack_row).unbatch()"
   ]
  },
  {
   "cell_type": "code",
   "execution_count": 9,
   "metadata": {},
   "outputs": [
    {
     "name": "stdout",
     "output_type": "stream",
     "text": [
      "tf.Tensor(\n",
      "[ 0.8692932  -0.6350818   0.22569026  0.32747006 -0.6899932   0.75420225\n",
      " -0.24857314 -1.0920639   0.          1.3749921  -0.6536742   0.9303491\n",
      "  1.1074361   1.1389043  -1.5781983  -1.0469854   0.          0.65792954\n",
      " -0.01045457 -0.04576717  3.1019614   1.35376     0.9795631   0.97807616\n",
      "  0.92000484  0.72165745  0.98875093  0.87667835], shape=(28,), dtype=float32)\n"
     ]
    },
    {
     "data": {
      "image/png": "[encoded data removed]",
      "text/plain": [
       "<Figure size 432x288 with 1 Axes>"
      ]
     },
     "metadata": {
      "needs_background": "light"
     },
     "output_type": "display_data"
    }
   ],
   "source": [
    "for features, label in packed_ds.batch(1000).take(1):\n",
    "    print(features[0])\n",
    "    plt.hist(features.numpy().flatten(), bins = 101)"
   ]
  },
  {
   "cell_type": "code",
   "execution_count": 10,
   "metadata": {},
   "outputs": [],
   "source": [
    "N_VALIDATION = int(1e3)\n",
    "N_TRAIN = int(1e4)\n",
    "BUFFER_SIZE = int(1e4)\n",
    "BATCH_SIZE = 500\n",
    "STEPS_PER_EPOCH = N_TRAIN // BATCH_SIZE"
   ]
  },
  {
   "cell_type": "code",
   "execution_count": 11,
   "metadata": {},
   "outputs": [],
   "source": [
    "validate_ds = packed_ds.take(N_VALIDATION).cache()\n",
    "train_ds = packed_ds.skip(N_VALIDATION).take(N_TRAIN).cache()"
   ]
  },
  {
   "cell_type": "code",
   "execution_count": 12,
   "metadata": {},
   "outputs": [
    {
     "data": {
      "text/plain": [
       "<CacheDataset shapes: ((28,), ()), types: (tf.float32, tf.float32)>"
      ]
     },
     "execution_count": 12,
     "metadata": {},
     "output_type": "execute_result"
    }
   ],
   "source": [
    "train_ds"
   ]
  },
  {
   "cell_type": "code",
   "execution_count": 13,
   "metadata": {},
   "outputs": [],
   "source": [
    "validate_ds = validate_ds.batch(BATCH_SIZE)\n",
    "train_ds = train_ds.shuffle(BUFFER_SIZE).repeat().batch(BATCH_SIZE)"
   ]
  },
  {
   "cell_type": "markdown",
   "metadata": {},
   "source": [
    "### Overfitting"
   ]
  },
  {
   "cell_type": "markdown",
   "metadata": {},
   "source": [
    "### Training Procedure"
   ]
  },
  {
   "cell_type": "code",
   "execution_count": 14,
   "metadata": {},
   "outputs": [],
   "source": [
    "lr_schedule = tf.keras.optimizers.schedules.InverseTimeDecay(\n",
    "    0.001, \n",
    "    decay_steps=STEPS_PER_EPOCH * 1000, \n",
    "    decay_rate=1,\n",
    "    staircase=False\n",
    ")"
   ]
  },
  {
   "cell_type": "code",
   "execution_count": 15,
   "metadata": {},
   "outputs": [],
   "source": [
    "def get_optimizer():\n",
    "    return tf.keras.optimizers.Adam(lr_schedule)"
   ]
  },
  {
   "cell_type": "code",
   "execution_count": 16,
   "metadata": {},
   "outputs": [
    {
     "data": {
      "image/png": "[encoded data removed]",
      "text/plain": [
       "<Figure size 576x432 with 1 Axes>"
      ]
     },
     "metadata": {
      "needs_background": "light"
     },
     "output_type": "display_data"
    }
   ],
   "source": [
    "step = np.linspace(0, 100000)\n",
    "lr = lr_schedule(step)\n",
    "plt.figure(figsize = (8, 6))\n",
    "plt.plot(step / STEPS_PER_EPOCH, lr)\n",
    "plt.ylim([0, max(plt.ylim())])\n",
    "plt.xlabel('Epoch')\n",
    "_ = plt.ylabel('Learning Rate')"
   ]
  },
  {
   "cell_type": "code",
   "execution_count": 17,
   "metadata": {},
   "outputs": [],
   "source": [
    "def get_callbacks(name):\n",
    "    return [\n",
    "        tfdocs.modeling.EpochDots(),\n",
    "        tf.keras.callbacks.EarlyStopping(monitor='val_binary_crossentropy', patience=200),\n",
    "        tf.keras.callbacks.TensorBoard(logdir / name),\n",
    "    ]"
   ]
  },
  {
   "cell_type": "code",
   "execution_count": 18,
   "metadata": {},
   "outputs": [],
   "source": [
    "def compile_and_fit(model, name, optimizer=None, max_epochs=10000):\n",
    "    if optimizer is None:\n",
    "        optimizer = get_optimizer()\n",
    "    model.compile(\n",
    "        optimizer=optimizer,\n",
    "        loss=tf.keras.losses.BinaryCrossentropy(from_logits=True),\n",
    "        metrics=[\n",
    "            tf.keras.losses.BinaryCrossentropy(\n",
    "                from_logits=True, \n",
    "                name='binary_crossentropy'\n",
    "            ),\n",
    "            'accuracy'\n",
    "        ]\n",
    "    )\n",
    "    \n",
    "    model.summary()\n",
    "    \n",
    "    history = model.fit(\n",
    "        train_ds,\n",
    "        steps_per_epoch = STEPS_PER_EPOCH,\n",
    "        epochs = max_epochs,\n",
    "        validation_data = validate_ds,\n",
    "        callbacks = get_callbacks(name),\n",
    "        verbose = 0\n",
    "    )\n",
    "    \n",
    "    return history"
   ]
  },
  {
   "cell_type": "code",
   "execution_count": 19,
   "metadata": {
    "scrolled": true
   },
   "outputs": [
    {
     "name": "stdout",
     "output_type": "stream",
     "text": [
      "Model: \"sequential\"\n",
      "_________________________________________________________________\n",
      "Layer (type)                 Output Shape              Param #   \n",
      "=================================================================\n",
      "dense (Dense)                (None, 16)                464       \n",
      "_________________________________________________________________\n",
      "dense_1 (Dense)              (None, 1)                 17        \n",
      "=================================================================\n",
      "Total params: 481\n",
      "Trainable params: 481\n",
      "Non-trainable params: 0\n",
      "_________________________________________________________________\n",
      "WARNING:tensorflow:Callback method `on_train_batch_begin` is slow compared to the batch time (batch time: 0.0024s vs `on_train_batch_begin` time: 0.0025s). Check your callbacks.\n",
      "WARNING:tensorflow:Callback method `on_train_batch_end` is slow compared to the batch time (batch time: 0.0024s vs `on_train_batch_end` time: 0.0211s). Check your callbacks.\n",
      "\n",
      "Epoch: 0, accuracy:0.4654,  binary_crossentropy:0.7973,  loss:0.7973,  val_accuracy:0.4980,  val_binary_crossentropy:0.7386,  val_loss:0.7386,  \n",
      "....................................................................................................\n",
      "Epoch: 100, accuracy:0.5843,  binary_crossentropy:0.6316,  loss:0.6316,  val_accuracy:0.5760,  val_binary_crossentropy:0.6319,  val_loss:0.6319,  \n",
      "....................................................................................................\n",
      "Epoch: 200, accuracy:0.6057,  binary_crossentropy:0.6199,  loss:0.6199,  val_accuracy:0.6000,  val_binary_crossentropy:0.6220,  val_loss:0.6220,  \n",
      "....................................................................................................\n",
      "Epoch: 300, accuracy:0.6188,  binary_crossentropy:0.6081,  loss:0.6081,  val_accuracy:0.6430,  val_binary_crossentropy:0.6129,  val_loss:0.6129,  \n",
      "....................................................................................................\n",
      "Epoch: 400, accuracy:0.6474,  binary_crossentropy:0.5966,  loss:0.5966,  val_accuracy:0.6340,  val_binary_crossentropy:0.6055,  val_loss:0.6055,  \n",
      "....................................................................................................\n",
      "Epoch: 500, accuracy:0.6562,  binary_crossentropy:0.5907,  loss:0.5907,  val_accuracy:0.6280,  val_binary_crossentropy:0.6054,  val_loss:0.6054,  \n",
      "....................................................................................................\n",
      "Epoch: 600, accuracy:0.6600,  binary_crossentropy:0.5874,  loss:0.5874,  val_accuracy:0.6530,  val_binary_crossentropy:0.6014,  val_loss:0.6014,  \n",
      "....................................................................................................\n",
      "Epoch: 700, accuracy:0.6662,  binary_crossentropy:0.5850,  loss:0.5850,  val_accuracy:0.6060,  val_binary_crossentropy:0.6063,  val_loss:0.6063,  \n",
      "....................................................................................................\n",
      "Epoch: 800, accuracy:0.6679,  binary_crossentropy:0.5813,  loss:0.5813,  val_accuracy:0.6250,  val_binary_crossentropy:0.6034,  val_loss:0.6034,  \n",
      "....................................................................................................\n",
      "Epoch: 900, accuracy:0.6722,  binary_crossentropy:0.5789,  loss:0.5789,  val_accuracy:0.6270,  val_binary_crossentropy:0.6031,  val_loss:0.6031,  \n",
      "....................................................................................................\n",
      "Epoch: 1000, accuracy:0.6732,  binary_crossentropy:0.5771,  loss:0.5771,  val_accuracy:0.6540,  val_binary_crossentropy:0.5979,  val_loss:0.5979,  \n",
      "....................................................................................................\n",
      "Epoch: 1100, accuracy:0.6765,  binary_crossentropy:0.5755,  loss:0.5755,  val_accuracy:0.6550,  val_binary_crossentropy:0.5976,  val_loss:0.5976,  \n",
      "....................................................................................................\n",
      "Epoch: 1200, accuracy:0.6721,  binary_crossentropy:0.5742,  loss:0.5742,  val_accuracy:0.6400,  val_binary_crossentropy:0.5986,  val_loss:0.5986,  \n",
      "....................................................................................................\n",
      "Epoch: 1300, accuracy:0.6735,  binary_crossentropy:0.5730,  loss:0.5730,  val_accuracy:0.6610,  val_binary_crossentropy:0.5964,  val_loss:0.5964,  \n",
      "....................................................................................................\n",
      "Epoch: 1400, accuracy:0.6760,  binary_crossentropy:0.5717,  loss:0.5717,  val_accuracy:0.6580,  val_binary_crossentropy:0.5963,  val_loss:0.5963,  \n",
      "....................................................................................................\n",
      "Epoch: 1500, accuracy:0.6791,  binary_crossentropy:0.5710,  loss:0.5710,  val_accuracy:0.6370,  val_binary_crossentropy:0.5981,  val_loss:0.5981,  \n",
      "....................................................................................................\n",
      "Epoch: 1600, accuracy:0.6781,  binary_crossentropy:0.5702,  loss:0.5702,  val_accuracy:0.6590,  val_binary_crossentropy:0.5956,  val_loss:0.5956,  \n",
      "....................................................................................................\n",
      "Epoch: 1700, accuracy:0.6798,  binary_crossentropy:0.5696,  loss:0.5696,  val_accuracy:0.6490,  val_binary_crossentropy:0.5968,  val_loss:0.5968,  \n",
      "....................................................................................................\n",
      "Epoch: 1800, accuracy:0.6837,  binary_crossentropy:0.5686,  loss:0.5686,  val_accuracy:0.6360,  val_binary_crossentropy:0.5988,  val_loss:0.5988,  \n",
      "..................................................."
     ]
    }
   ],
   "source": [
    "tiny_model = tf.keras.Sequential([\n",
    "    layers.Dense(16, activation='elu', input_shape=(FEATURES,)),\n",
    "    layers.Dense(1)\n",
    "])\n",
    "\n",
    "size_histories = {}\n",
    "\n",
    "size_histories['Tiny'] = compile_and_fit(tiny_model, 'sizes/Tiny')"
   ]
  },
  {
   "cell_type": "code",
   "execution_count": 20,
   "metadata": {},
   "outputs": [
    {
     "data": {
      "text/plain": [
       "(0.5, 0.7)"
      ]
     },
     "execution_count": 20,
     "metadata": {},
     "output_type": "execute_result"
    },
    {
     "data": {
      "image/png": "[encoded data removed]",
      "text/plain": [
       "<Figure size 432x288 with 1 Axes>"
      ]
     },
     "metadata": {
      "needs_background": "light"
     },
     "output_type": "display_data"
    }
   ],
   "source": [
    "plotter = tfdocs.plots.HistoryPlotter(metric = 'binary_crossentropy', smoothing_std=10)\n",
    "plotter.plot(size_histories)\n",
    "plt.ylim([0.5, 0.7])"
   ]
  },
  {
   "cell_type": "markdown",
   "metadata": {},
   "source": [
    "### Small Model"
   ]
  },
  {
   "cell_type": "code",
   "execution_count": 21,
   "metadata": {},
   "outputs": [],
   "source": [
    "small_model = tf.keras.Sequential([\n",
    "    layers.Dense(16, activation='elu', input_shape=(FEATURES,)),\n",
    "    layers.Dense(16, activation='elu'),\n",
    "    layers.Dense(1)\n",
    "])"
   ]
  },
  {
   "cell_type": "code",
   "execution_count": 22,
   "metadata": {
    "scrolled": false
   },
   "outputs": [
    {
     "name": "stdout",
     "output_type": "stream",
     "text": [
      "Model: \"sequential_1\"\n",
      "_________________________________________________________________\n",
      "Layer (type)                 Output Shape              Param #   \n",
      "=================================================================\n",
      "dense_2 (Dense)              (None, 16)                464       \n",
      "_________________________________________________________________\n",
      "dense_3 (Dense)              (None, 16)                272       \n",
      "_________________________________________________________________\n",
      "dense_4 (Dense)              (None, 1)                 17        \n",
      "=================================================================\n",
      "Total params: 753\n",
      "Trainable params: 753\n",
      "Non-trainable params: 0\n",
      "_________________________________________________________________\n",
      "WARNING:tensorflow:Callback method `on_train_batch_end` is slow compared to the batch time (batch time: 0.0028s vs `on_train_batch_end` time: 0.0238s). Check your callbacks.\n",
      "\n",
      "Epoch: 0, accuracy:0.4854,  binary_crossentropy:0.7819,  loss:0.7819,  val_accuracy:0.4970,  val_binary_crossentropy:0.7215,  val_loss:0.7215,  \n",
      "....................................................................................................\n",
      "Epoch: 100, accuracy:0.6135,  binary_crossentropy:0.6163,  loss:0.6163,  val_accuracy:0.5890,  val_binary_crossentropy:0.6157,  val_loss:0.6157,  \n",
      "....................................................................................................\n",
      "Epoch: 200, accuracy:0.6611,  binary_crossentropy:0.5909,  loss:0.5909,  val_accuracy:0.6470,  val_binary_crossentropy:0.5938,  val_loss:0.5938,  \n",
      "....................................................................................................\n",
      "Epoch: 300, accuracy:0.6741,  binary_crossentropy:0.5807,  loss:0.5807,  val_accuracy:0.6590,  val_binary_crossentropy:0.5886,  val_loss:0.5886,  \n",
      "....................................................................................................\n",
      "Epoch: 400, accuracy:0.6795,  binary_crossentropy:0.5739,  loss:0.5739,  val_accuracy:0.6760,  val_binary_crossentropy:0.5853,  val_loss:0.5853,  \n",
      "....................................................................................................\n",
      "Epoch: 500, accuracy:0.6838,  binary_crossentropy:0.5688,  loss:0.5688,  val_accuracy:0.6750,  val_binary_crossentropy:0.5863,  val_loss:0.5863,  \n",
      "....................................................................................................\n",
      "Epoch: 600, accuracy:0.6897,  binary_crossentropy:0.5648,  loss:0.5648,  val_accuracy:0.6910,  val_binary_crossentropy:0.5849,  val_loss:0.5849,  \n",
      "....................................................................................................\n",
      "Epoch: 700, accuracy:0.6938,  binary_crossentropy:0.5616,  loss:0.5616,  val_accuracy:0.6760,  val_binary_crossentropy:0.5861,  val_loss:0.5861,  \n",
      "....."
     ]
    }
   ],
   "source": [
    "size_histories['Small'] = compile_and_fit(small_model, 'sizes/Small')"
   ]
  },
  {
   "cell_type": "markdown",
   "metadata": {
    "scrolled": true
   },
   "source": [
    "### Medium Model"
   ]
  },
  {
   "cell_type": "code",
   "execution_count": 23,
   "metadata": {},
   "outputs": [],
   "source": [
    "medium_model = tf.keras.Sequential([\n",
    "    layers.Dense(64, activation='elu', input_shape=(FEATURES,)),\n",
    "    layers.Dense(64, activation='elu'),\n",
    "    layers.Dense(64, activation='elu'),\n",
    "    layers.Dense(1)\n",
    "])"
   ]
  },
  {
   "cell_type": "code",
   "execution_count": 24,
   "metadata": {},
   "outputs": [
    {
     "name": "stdout",
     "output_type": "stream",
     "text": [
      "Model: \"sequential_2\"\n",
      "_________________________________________________________________\n",
      "Layer (type)                 Output Shape              Param #   \n",
      "=================================================================\n",
      "dense_5 (Dense)              (None, 64)                1856      \n",
      "_________________________________________________________________\n",
      "dense_6 (Dense)              (None, 64)                4160      \n",
      "_________________________________________________________________\n",
      "dense_7 (Dense)              (None, 64)                4160      \n",
      "_________________________________________________________________\n",
      "dense_8 (Dense)              (None, 1)                 65        \n",
      "=================================================================\n",
      "Total params: 10,241\n",
      "Trainable params: 10,241\n",
      "Non-trainable params: 0\n",
      "_________________________________________________________________\n",
      "WARNING:tensorflow:Callback method `on_train_batch_end` is slow compared to the batch time (batch time: 0.0030s vs `on_train_batch_end` time: 0.0251s). Check your callbacks.\n",
      "\n",
      "Epoch: 0, accuracy:0.4957,  binary_crossentropy:0.6930,  loss:0.6930,  val_accuracy:0.4920,  val_binary_crossentropy:0.6808,  val_loss:0.6808,  \n",
      "....................................................................................................\n",
      "Epoch: 100, accuracy:0.7184,  binary_crossentropy:0.5239,  loss:0.5239,  val_accuracy:0.6640,  val_binary_crossentropy:0.6088,  val_loss:0.6088,  \n",
      "....................................................................................................\n",
      "Epoch: 200, accuracy:0.7880,  binary_crossentropy:0.4246,  loss:0.4246,  val_accuracy:0.6530,  val_binary_crossentropy:0.6917,  val_loss:0.6917,  \n",
      "......................................................................"
     ]
    }
   ],
   "source": [
    "size_histories['Medium'] = compile_and_fit(medium_model, 'sizes/Medium')"
   ]
  },
  {
   "cell_type": "markdown",
   "metadata": {},
   "source": [
    "### Large Model"
   ]
  },
  {
   "cell_type": "code",
   "execution_count": 25,
   "metadata": {},
   "outputs": [],
   "source": [
    "large_model = tf.keras.Sequential([\n",
    "    layers.Dense(512, activation='elu', input_shape=(FEATURES,)),\n",
    "    layers.Dense(512, activation='elu'),\n",
    "    layers.Dense(512, activation='elu'),\n",
    "    layers.Dense(512, activation='elu'),\n",
    "    layers.Dense(1),\n",
    "])"
   ]
  },
  {
   "cell_type": "code",
   "execution_count": null,
   "metadata": {
    "scrolled": true
   },
   "outputs": [
    {
     "name": "stdout",
     "output_type": "stream",
     "text": [
      "Model: \"sequential_3\"\n",
      "_________________________________________________________________\n",
      "Layer (type)                 Output Shape              Param #   \n",
      "=================================================================\n",
      "dense_9 (Dense)              (None, 512)               14848     \n",
      "_________________________________________________________________\n",
      "dense_10 (Dense)             (None, 512)               262656    \n",
      "_________________________________________________________________\n",
      "dense_11 (Dense)             (None, 512)               262656    \n",
      "_________________________________________________________________\n",
      "dense_12 (Dense)             (None, 512)               262656    \n",
      "_________________________________________________________________\n",
      "dense_13 (Dense)             (None, 1)                 513       \n",
      "=================================================================\n",
      "Total params: 803,329\n",
      "Trainable params: 803,329\n",
      "Non-trainable params: 0\n",
      "_________________________________________________________________\n",
      "WARNING:tensorflow:Callback method `on_train_batch_end` is slow compared to the batch time (batch time: 0.0046s vs `on_train_batch_end` time: 0.0278s). Check your callbacks.\n",
      "\n",
      "Epoch: 0, accuracy:0.5089,  binary_crossentropy:0.7916,  loss:0.7916,  val_accuracy:0.4610,  val_binary_crossentropy:0.7010,  val_loss:0.7010,  \n",
      "................"
     ]
    }
   ],
   "source": [
    "size_histories['large'] = compile_and_fit(large_model, 'sizes/large')"
   ]
  },
  {
   "cell_type": "markdown",
   "metadata": {},
   "source": [
    "### Plot the training and validation losses"
   ]
  },
  {
   "cell_type": "code",
   "execution_count": null,
   "metadata": {},
   "outputs": [],
   "source": [
    "plotter.plot(size_histories)\n",
    "a = plt.xsacle('log')\n",
    "plt.xlim([5, max(plt.xlim())])\n",
    "plt.ylim([0.5, 0.7])\n",
    "plt.xlabel(\"Epochs [Log Scale]\")"
   ]
  },
  {
   "cell_type": "markdown",
   "metadata": {},
   "source": [
    "#### Draw the model input output relationship"
   ]
  },
  {
   "cell_type": "code",
   "execution_count": 57,
   "metadata": {},
   "outputs": [],
   "source": [
    "x = tf.linspace(0.0, 250, 251)\n",
    "y = horsepower_model.predict(x)"
   ]
  },
  {
   "cell_type": "code",
   "execution_count": 58,
   "metadata": {},
   "outputs": [],
   "source": [
    "def plot_horsepower(x, y):\n",
    "    plt.scatter(train_features['Horsepower'], train_labels, label='Data')\n",
    "    plt.plot(x, y, color='k', label='Predictions')\n",
    "    plt.xlabel('Horsepower')\n",
    "    plt.ylabel('MPG')\n",
    "    plt.legend()"
   ]
  },
  {
   "cell_type": "code",
   "execution_count": 59,
   "metadata": {},
   "outputs": [
    {
     "data": {
      "image/png": "[encoded data removed]",
      "text/plain": [
       "<Figure size 432x288 with 1 Axes>"
      ]
     },
     "metadata": {
      "needs_background": "light"
     },
     "output_type": "display_data"
    }
   ],
   "source": [
    "plot_horsepower(x, y)"
   ]
  },
  {
   "cell_type": "markdown",
   "metadata": {},
   "source": [
    "### Multiple Inputs Model"
   ]
  },
  {
   "cell_type": "code",
   "execution_count": 60,
   "metadata": {},
   "outputs": [],
   "source": [
    "linear_model = tf.keras.Sequential([\n",
    "    normalizer, # use fully parameters normalizer input layer\n",
    "    layers.Dense(units=1)\n",
    "])"
   ]
  },
  {
   "cell_type": "code",
   "execution_count": 61,
   "metadata": {},
   "outputs": [
    {
     "data": {
      "text/plain": [
       "array([[-0.332],\n",
       "       [-0.407],\n",
       "       [-0.857],\n",
       "       [-1.58 ],\n",
       "       [ 1.026],\n",
       "       [-0.954],\n",
       "       [ 1.065],\n",
       "       [ 2.634],\n",
       "       [-0.394],\n",
       "       [ 2.304]], dtype=float32)"
      ]
     },
     "execution_count": 61,
     "metadata": {},
     "output_type": "execute_result"
    }
   ],
   "source": [
    "linear_model.predict(train_features[:10])"
   ]
  },
  {
   "cell_type": "code",
   "execution_count": 62,
   "metadata": {},
   "outputs": [
    {
     "data": {
      "text/plain": [
       "<tf.Variable 'dense_2/kernel:0' shape=(9, 1) dtype=float32, numpy=\n",
       "array([[-0.492],\n",
       "       [-0.362],\n",
       "       [-0.09 ],\n",
       "       [ 0.567],\n",
       "       [ 0.395],\n",
       "       [-0.574],\n",
       "       [ 0.598],\n",
       "       [ 0.424],\n",
       "       [-0.352]], dtype=float32)>"
      ]
     },
     "execution_count": 62,
     "metadata": {},
     "output_type": "execute_result"
    }
   ],
   "source": [
    "linear_model.layers[1].kernel"
   ]
  },
  {
   "cell_type": "code",
   "execution_count": 64,
   "metadata": {},
   "outputs": [],
   "source": [
    "linear_model.compile(\n",
    "    optimizer=tf.optimizers.Adam(learning_rate=0.1),\n",
    "    loss='mean_absolute_error'\n",
    ")"
   ]
  },
  {
   "cell_type": "code",
   "execution_count": 67,
   "metadata": {},
   "outputs": [
    {
     "name": "stdout",
     "output_type": "stream",
     "text": [
      "Wall time: 4.78 s\n"
     ]
    }
   ],
   "source": [
    "%%time\n",
    "\n",
    "epochs = 100\n",
    "\n",
    "history = linear_model.fit(\n",
    "    train_features,\n",
    "    train_labels,\n",
    "    epochs=epochs,\n",
    "    verbose=0,\n",
    "    validation_split=0.2\n",
    ")"
   ]
  },
  {
   "cell_type": "code",
   "execution_count": 68,
   "metadata": {},
   "outputs": [
    {
     "data": {
      "image/png": "[encoded data removed]",
      "text/plain": [
       "<Figure size 432x288 with 1 Axes>"
      ]
     },
     "metadata": {
      "needs_background": "light"
     },
     "output_type": "display_data"
    }
   ],
   "source": [
    "plot_loss(history)"
   ]
  },
  {
   "cell_type": "code",
   "execution_count": 69,
   "metadata": {},
   "outputs": [],
   "source": [
    "test_results['linear_model'] = linear_model.evaluate(test_features, test_labels, verbose=0)"
   ]
  },
  {
   "cell_type": "markdown",
   "metadata": {},
   "source": [
    "## DNN Regression"
   ]
  },
  {
   "cell_type": "code",
   "execution_count": 70,
   "metadata": {},
   "outputs": [],
   "source": [
    "def build_and_compile_model(norm):\n",
    "    model = keras.Sequential([\n",
    "        norm,\n",
    "        layers.Dense(128, activation='relu'),\n",
    "        layers.Dense(128, activation='relu'),\n",
    "        layers.Dense(1)\n",
    "    ])\n",
    "    \n",
    "    model.compile(\n",
    "        loss='mean_absolute_error',\n",
    "        optimizer=tf.keras.optimizers.Adam(learning_rate=0.001)\n",
    "    )\n",
    "    \n",
    "    return model"
   ]
  },
  {
   "cell_type": "markdown",
   "metadata": {},
   "source": [
    "### One Variable"
   ]
  },
  {
   "cell_type": "code",
   "execution_count": 90,
   "metadata": {},
   "outputs": [],
   "source": [
    "dnn_horsepower_model = build_and_compile_model(horsepower_normalizer)"
   ]
  },
  {
   "cell_type": "code",
   "execution_count": 91,
   "metadata": {},
   "outputs": [
    {
     "name": "stdout",
     "output_type": "stream",
     "text": [
      "Model: \"sequential_4\"\n",
      "_________________________________________________________________\n",
      "Layer (type)                 Output Shape              Param #   \n",
      "=================================================================\n",
      "normalization_2 (Normalizati (None, 1)                 3         \n",
      "_________________________________________________________________\n",
      "dense_6 (Dense)              (None, 128)               256       \n",
      "_________________________________________________________________\n",
      "dense_7 (Dense)              (None, 128)               16512     \n",
      "_________________________________________________________________\n",
      "dense_8 (Dense)              (None, 1)                 129       \n",
      "=================================================================\n",
      "Total params: 16,900\n",
      "Trainable params: 16,897\n",
      "Non-trainable params: 3\n",
      "_________________________________________________________________\n"
     ]
    }
   ],
   "source": [
    "dnn_horsepower_model.summary()"
   ]
  },
  {
   "cell_type": "code",
   "execution_count": 92,
   "metadata": {},
   "outputs": [
    {
     "name": "stdout",
     "output_type": "stream",
     "text": [
      "Wall time: 5.55 s\n"
     ]
    }
   ],
   "source": [
    "%%time\n",
    "\n",
    "epochs=100\n",
    "\n",
    "history = dnn_horsepower_model.fit(\n",
    "    train_features['Horsepower'],\n",
    "    train_labels,\n",
    "    verbose=0,\n",
    "    epochs=epochs,\n",
    "    validation_split=0.2\n",
    ")"
   ]
  },
  {
   "cell_type": "code",
   "execution_count": 94,
   "metadata": {
    "scrolled": true
   },
   "outputs": [
    {
     "data": {
      "image/png": "[encoded data removed]",
      "text/plain": [
       "<Figure size 432x288 with 1 Axes>"
      ]
     },
     "metadata": {
      "needs_background": "light"
     },
     "output_type": "display_data"
    }
   ],
   "source": [
    "plot_loss(history)"
   ]
  },
  {
   "cell_type": "code",
   "execution_count": 95,
   "metadata": {},
   "outputs": [],
   "source": [
    "x = tf.linspace(0.0, 250, 251)\n",
    "y = dnn_horsepower_model.predict(x)"
   ]
  },
  {
   "cell_type": "code",
   "execution_count": 96,
   "metadata": {},
   "outputs": [
    {
     "data": {
      "image/png": "[encoded data removed]",
      "text/plain": [
       "<Figure size 432x288 with 1 Axes>"
      ]
     },
     "metadata": {
      "needs_background": "light"
     },
     "output_type": "display_data"
    }
   ],
   "source": [
    "plot_horsepower(x, y)"
   ]
  },
  {
   "cell_type": "code",
   "execution_count": 97,
   "metadata": {},
   "outputs": [],
   "source": [
    "test_results['dnn_horsepower_model'] = dnn_horsepower_model.evaluate(\n",
    "    test_features['Horsepower'],\n",
    "    test_labels,\n",
    "    verbose=0\n",
    ")"
   ]
  },
  {
   "cell_type": "markdown",
   "metadata": {},
   "source": [
    "### Full Parameters Model"
   ]
  },
  {
   "cell_type": "code",
   "execution_count": 98,
   "metadata": {},
   "outputs": [
    {
     "name": "stdout",
     "output_type": "stream",
     "text": [
      "Model: \"sequential_5\"\n",
      "_________________________________________________________________\n",
      "Layer (type)                 Output Shape              Param #   \n",
      "=================================================================\n",
      "normalization_1 (Normalizati (None, 9)                 19        \n",
      "_________________________________________________________________\n",
      "dense_9 (Dense)              (None, 128)               1280      \n",
      "_________________________________________________________________\n",
      "dense_10 (Dense)             (None, 128)               16512     \n",
      "_________________________________________________________________\n",
      "dense_11 (Dense)             (None, 1)                 129       \n",
      "=================================================================\n",
      "Total params: 17,940\n",
      "Trainable params: 17,921\n",
      "Non-trainable params: 19\n",
      "_________________________________________________________________\n"
     ]
    }
   ],
   "source": [
    "dnn_model = build_and_compile_model(normalizer)\n",
    "dnn_model.summary()"
   ]
  },
  {
   "cell_type": "code",
   "execution_count": 101,
   "metadata": {},
   "outputs": [
    {
     "name": "stdout",
     "output_type": "stream",
     "text": [
      "Wall time: 5.43 s\n"
     ]
    }
   ],
   "source": [
    "%%time\n",
    "\n",
    "epochs=100\n",
    "\n",
    "history = dnn_model.fit(\n",
    "    train_features,\n",
    "    train_labels,\n",
    "    verbose=0,\n",
    "    epochs=epochs,\n",
    "    validation_split=0.2\n",
    ")"
   ]
  },
  {
   "cell_type": "code",
   "execution_count": 102,
   "metadata": {},
   "outputs": [
    {
     "data": {
      "image/png": "[encoded data removed]",
      "text/plain": [
       "<Figure size 432x288 with 1 Axes>"
      ]
     },
     "metadata": {
      "needs_background": "light"
     },
     "output_type": "display_data"
    }
   ],
   "source": [
    "plot_loss(history)"
   ]
  },
  {
   "cell_type": "code",
   "execution_count": 104,
   "metadata": {},
   "outputs": [],
   "source": [
    "test_results['dnn_model'] = dnn_model.evaluate(test_features, test_labels, verbose=0)"
   ]
  },
  {
   "cell_type": "markdown",
   "metadata": {},
   "source": [
    "## Performance Summary"
   ]
  },
  {
   "cell_type": "code",
   "execution_count": 106,
   "metadata": {},
   "outputs": [
    {
     "data": {
      "text/html": [
       "<div>\n",
       "<style scoped>\n",
       "    .dataframe tbody tr th:only-of-type {\n",
       "        vertical-align: middle;\n",
       "    }\n",
       "\n",
       "    .dataframe tbody tr th {\n",
       "        vertical-align: top;\n",
       "    }\n",
       "\n",
       "    .dataframe thead th {\n",
       "        text-align: right;\n",
       "    }\n",
       "</style>\n",
       "<table border=\"1\" class=\"dataframe\">\n",
       "  <thead>\n",
       "    <tr style=\"text-align: right;\">\n",
       "      <th></th>\n",
       "      <th>Mean absolute error [MPG]</th>\n",
       "    </tr>\n",
       "  </thead>\n",
       "  <tbody>\n",
       "    <tr>\n",
       "      <th>horsepower_model</th>\n",
       "      <td>3.649389</td>\n",
       "    </tr>\n",
       "    <tr>\n",
       "      <th>linear_model</th>\n",
       "      <td>2.465422</td>\n",
       "    </tr>\n",
       "    <tr>\n",
       "      <th>dnn_horsepower_model</th>\n",
       "      <td>2.877020</td>\n",
       "    </tr>\n",
       "    <tr>\n",
       "      <th>dnn_model</th>\n",
       "      <td>1.662053</td>\n",
       "    </tr>\n",
       "  </tbody>\n",
       "</table>\n",
       "</div>"
      ],
      "text/plain": [
       "                      Mean absolute error [MPG]\n",
       "horsepower_model                       3.649389\n",
       "linear_model                           2.465422\n",
       "dnn_horsepower_model                   2.877020\n",
       "dnn_model                              1.662053"
      ]
     },
     "execution_count": 106,
     "metadata": {},
     "output_type": "execute_result"
    }
   ],
   "source": [
    "pd.DataFrame(test_results, index=['Mean absolute error [MPG]']).T"
   ]
  },
  {
   "cell_type": "markdown",
   "metadata": {},
   "source": [
    "### Predictions"
   ]
  },
  {
   "cell_type": "code",
   "execution_count": 108,
   "metadata": {},
   "outputs": [
    {
     "data": {
      "image/png": "[encoded data removed]",
      "text/plain": [
       "<Figure size 432x288 with 1 Axes>"
      ]
     },
     "metadata": {
      "needs_background": "light"
     },
     "output_type": "display_data"
    }
   ],
   "source": [
    "test_predictions = dnn_model.predict(test_features).flatten()\n",
    "\n",
    "a = plt.axes(aspect='equal')\n",
    "plt.scatter(test_labels, test_predictions)\n",
    "plt.xlabel('True Values [MPG]')\n",
    "plt.ylabel('Predictions [MPG]')\n",
    "lims = [0, 50]\n",
    "plt.xlim(lims)\n",
    "plt.ylim(lims)\n",
    "_ = plt.plot(lims, lims)"
   ]
  },
  {
   "cell_type": "code",
   "execution_count": 109,
   "metadata": {},
   "outputs": [
    {
     "data": {
      "image/png": "[encoded data removed]",
      "text/plain": [
       "<Figure size 432x288 with 1 Axes>"
      ]
     },
     "metadata": {
      "needs_background": "light"
     },
     "output_type": "display_data"
    }
   ],
   "source": [
    "error = test_predictions - test_labels\n",
    "plt.hist(error, bins=25)\n",
    "plt.xlabel('Prediction Error [MPG]')\n",
    "_ = plt.ylabel('Count')"
   ]
  },
  {
   "cell_type": "markdown",
   "metadata": {},
   "source": [
    "### Model Benchmark"
   ]
  },
  {
   "cell_type": "code",
   "execution_count": 111,
   "metadata": {},
   "outputs": [
    {
     "name": "stdout",
     "output_type": "stream",
     "text": [
      "INFO:tensorflow:Assets written to: dnn_model\\assets\n"
     ]
    }
   ],
   "source": [
    "dnn_model.save('dnn_model')"
   ]
  },
  {
   "cell_type": "code",
   "execution_count": 112,
   "metadata": {},
   "outputs": [],
   "source": [
    "reloaded = tf.keras.models.load_model('dnn_model')\n",
    "\n",
    "test_results['reloaded'] = reloaded.evaluate(\n",
    "    test_features, test_labels, verbose=0)"
   ]
  },
  {
   "cell_type": "code",
   "execution_count": 113,
   "metadata": {},
   "outputs": [
    {
     "data": {
      "text/html": [
       "<div>\n",
       "<style scoped>\n",
       "    .dataframe tbody tr th:only-of-type {\n",
       "        vertical-align: middle;\n",
       "    }\n",
       "\n",
       "    .dataframe tbody tr th {\n",
       "        vertical-align: top;\n",
       "    }\n",
       "\n",
       "    .dataframe thead th {\n",
       "        text-align: right;\n",
       "    }\n",
       "</style>\n",
       "<table border=\"1\" class=\"dataframe\">\n",
       "  <thead>\n",
       "    <tr style=\"text-align: right;\">\n",
       "      <th></th>\n",
       "      <th>Mean absolute error [MPG]</th>\n",
       "    </tr>\n",
       "  </thead>\n",
       "  <tbody>\n",
       "    <tr>\n",
       "      <th>horsepower_model</th>\n",
       "      <td>3.649389</td>\n",
       "    </tr>\n",
       "    <tr>\n",
       "      <th>linear_model</th>\n",
       "      <td>2.465422</td>\n",
       "    </tr>\n",
       "    <tr>\n",
       "      <th>dnn_horsepower_model</th>\n",
       "      <td>2.877020</td>\n",
       "    </tr>\n",
       "    <tr>\n",
       "      <th>dnn_model</th>\n",
       "      <td>1.662053</td>\n",
       "    </tr>\n",
       "    <tr>\n",
       "      <th>reloaded</th>\n",
       "      <td>1.662053</td>\n",
       "    </tr>\n",
       "  </tbody>\n",
       "</table>\n",
       "</div>"
      ],
      "text/plain": [
       "                      Mean absolute error [MPG]\n",
       "horsepower_model                       3.649389\n",
       "linear_model                           2.465422\n",
       "dnn_horsepower_model                   2.877020\n",
       "dnn_model                              1.662053\n",
       "reloaded                               1.662053"
      ]
     },
     "execution_count": 113,
     "metadata": {},
     "output_type": "execute_result"
    }
   ],
   "source": [
    "pd.DataFrame(test_results, index=['Mean absolute error [MPG]']).T"
   ]
  },
  {
   "cell_type": "markdown",
   "metadata": {},
   "source": [
    "## Conclusions"
   ]
  },
  {
   "cell_type": "markdown",
   "metadata": {},
   "source": [
    "To prevent overfitting in NN:\n",
    "    * Get trianing sample\n",
    "    * Reduce NN capacity\n",
    "    * Weight Regularization\n",
    "    * Dropout"
   ]
  },
  {
   "cell_type": "code",
   "execution_count": null,
   "metadata": {},
   "outputs": [],
   "source": []
  }
 ],
 "metadata": {
  "kernelspec": {
   "display_name": "Python 3",
   "language": "python",
   "name": "python3"
  },
  "language_info": {
   "codemirror_mode": {
    "name": "ipython",
    "version": 3
   },
   "file_extension": ".py",
   "mimetype": "text/x-python",
   "name": "python",
   "nbconvert_exporter": "python",
   "pygments_lexer": "ipython3",
   "version": "3.7.8"
  }
 },
 "nbformat": 4,
 "nbformat_minor": 1
}