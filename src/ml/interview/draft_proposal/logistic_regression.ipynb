{
 "cells": [
  {
   "cell_type": "markdown",
   "metadata": {},
   "source": [
    "# Logistic Regression"
   ]
  },
  {
   "cell_type": "markdown",
   "metadata": {},
   "source": [
    "sigmoid = 1 / 1 + exp(-z)\n",
    "\n",
    "Prob(Y=1|X) = sigmoid(z)\n",
    "\n",
    "log-loss / cross-entropy loss\n",
    "\n",
    "loss(W) = -1/m sum(y ln Prob + (1 - y) ln (1 - Prob))"
   ]
  },
  {
   "cell_type": "code",
   "execution_count": 1,
   "metadata": {},
   "outputs": [],
   "source": [
    "import numpy as np \n",
    "\n",
    "class LogisticRegression:\n",
    "    def __init__(self, lr = 0.01, max_epoch = 1000, tol = 1e-4):\n",
    "        self.lr = lr\n",
    "        self.max_epoch = max_epoch\n",
    "        self.tol = tol\n",
    "        self.w = None\n",
    "        self.b = None\n",
    "        \n",
    "    def _init_weights(self, feature_num):\n",
    "        self.w = np.random.rand(feature_num)\n",
    "        self.b = np.random.rand(1)\n",
    "        \n",
    "    def _loss(self, y, y_pred):\n",
    "        return -np.mean(y * np.log(y_pred) + (1 - y) * np.log(1 - y_pred))\n",
    "    \n",
    "    def _weights_update(self, X, y, y_pred):\n",
    "        sample_num = X.shape[0]\n",
    "        dw = np.dot(X.T, y_pred - y) / sample_num\n",
    "        db = np.mean(y_pred - y)\n",
    "        self.w -= self.lr * dw\n",
    "        self.b -= self.lr * db\n",
    "        \n",
    "    def _sigmoid(self, z):\n",
    "        return 1 / (1 + np.exp(-z))\n",
    "        \n",
    "    def fit(self, X, y):\n",
    "        sample_num, feature_num = X.shape\n",
    "        self._init_weights(feature_num)\n",
    "        for i in range(self.max_epoch):\n",
    "            y_pred = self.predict(X)\n",
    "            loss = self._loss(y, y_pred)\n",
    "            if loss < self.tol:\n",
    "                break\n",
    "            self._weights_update(X, y, y_pred)\n",
    "        return\n",
    "    \n",
    "    def predict(self, X):\n",
    "        z = np.dot(X, self.w) + self.b\n",
    "        y_pred = self._sigmoid(z)\n",
    "        return y_pred"
   ]
  },
  {
   "cell_type": "markdown",
   "metadata": {},
   "source": [
    "## Test"
   ]
  },
  {
   "cell_type": "code",
   "execution_count": 2,
   "metadata": {},
   "outputs": [
    {
     "name": "stdout",
     "output_type": "stream",
     "text": [
      "[0.9530667  0.97554793]\n"
     ]
    }
   ],
   "source": [
    "# create sample dataset\n",
    "X = np.array([[1, 2], [2, 3], [3, 4], [4, 5], [5, 6]])\n",
    "y = np.array([0, 0, 1, 1, 1])\n",
    "\n",
    "# initialize logistic regression model\n",
    "lr = LogisticRegression()\n",
    "\n",
    "# train model on sample dataset\n",
    "lr.fit(X, y)\n",
    "\n",
    "# make predictions on new data\n",
    "X_new = np.array([[6, 7], [7, 8]])\n",
    "y_pred = lr.predict(X_new)\n",
    "\n",
    "print(y_pred)  # [1, 1]"
   ]
  },
  {
   "cell_type": "markdown",
   "metadata": {},
   "source": [
    "# Follow Up"
   ]
  },
  {
   "cell_type": "markdown",
   "metadata": {},
   "source": [
    "a. regularization:   \n",
    "\n",
    "Regularization can help prevent overfitting and improve the generalization performance of the model. You could add L1 or L2 regularization to the cost function and adjust the regularization strength with a hyperparameter. Here's an example of how to add L2 regularization to the code;\n",
    "\n",
    "\n",
    "b. sophisticated optimization algorithm:   \n",
    "\n",
    "Gradient descent is a simple and effective optimization algorithm, but it may not be the most efficient or accurate for large or complex datasets. You could try using a more sophisticated algorithm, such as stochastic gradient descent (SGD), mini-batch SGD, or Adam, which can converge faster and find better optima. Here's an example of how to use mini-batch SGD."
   ]
  },
  {
   "cell_type": "code",
   "execution_count": 3,
   "metadata": {},
   "outputs": [],
   "source": [
    "import numpy as np\n",
    "\n",
    "class CustomLogisticRegression(LogisticRegression):\n",
    "    def __init__(self, lr=0.01, max_epoch=1000, tol = 1e-4, regularization='l2', reg_strength=0.1, batch_size=32):\n",
    "        super().__init__(lr, max_epoch, tol)\n",
    "        self.regularization = regularization\n",
    "        self.reg_strength = reg_strength\n",
    "        self.batch_size = batch_size\n",
    "        self.w = None\n",
    "        self.b = None\n",
    "        \n",
    "    def _loss(self, y, y_pred):\n",
    "        sample_num = y.shape[0]\n",
    "        loss = -np.mean(y * np.log(y_pred) + (1 - y) * np.log(1 - y_pred))\n",
    "        if self.regularization == 'l1':\n",
    "            loss += self.reg_strength * np.sum(np.abs(self.w))\n",
    "        elif self.regularization == 'l2':\n",
    "            loss += self.reg_strength * np.sum(self.w ** 2)\n",
    "        return loss\n",
    "    \n",
    "    def _weights_update(self, X, y, y_pred):\n",
    "        sample_num = X.shape[0]\n",
    "        dw = np.dot(X.T, (y_pred - y)) / sample_num\n",
    "        db = np.mean(y_pred - y)\n",
    "        if self.regularization == 'l1':\n",
    "            dw += self.reg_strength * np.sign(self.w)\n",
    "        elif self.regularization == 'l2':\n",
    "            dw += self.reg_strength * 2 * self.w\n",
    "        self.w -= self.lr * dw\n",
    "        self.b -= self.lr * db\n",
    "    \n",
    "    def fit(self, X, y):\n",
    "        sample_num, feature_num = X.shape\n",
    "        self._init_weights(feature_num)\n",
    "        \n",
    "        batch_num = sample_num // self.batch_size\n",
    "        for i in range(self.max_epoch):\n",
    "            for j in range(batch_num):\n",
    "                batch_indices = np.random.choice(sample_num, batch_num, replace=False)\n",
    "                X_batch, y_batch = X[batch_indices], y[batch_indices]\n",
    "                y_pred_batch = self.predict(X_batch)\n",
    "                loss = self._loss(y_batch, y_pred_batch)\n",
    "                if loss < self.tol:\n",
    "                    break\n",
    "                self._weights_update(X_batch, y_batch, y_pred_batch)\n",
    "        return"
   ]
  },
  {
   "cell_type": "markdown",
   "metadata": {},
   "source": [
    "Regularization: You can choose between L1 or L2 regularization by setting the regularization parameter to either 'l1' or 'l2', and adjust the regularization strength with the reg_strength parameter.\n",
    "\n",
    "Mini-batch stochastic gradient descent: The model uses mini-batch SGD (instead of simple gradient descent) to update the weights and bias, which can converge faster and find better optima."
   ]
  },
  {
   "cell_type": "code",
   "execution_count": 4,
   "metadata": {},
   "outputs": [
    {
     "name": "stdout",
     "output_type": "stream",
     "text": [
      "[0.96705924 0.98504835]\n"
     ]
    }
   ],
   "source": [
    "# create sample dataset\n",
    "X = np.array([[1, 2], [2, 3], [3, 4], [4, 5], [5, 6]])\n",
    "y = np.array([0, 0, 1, 1, 1])\n",
    "\n",
    "# initialize logistic regression model\n",
    "lr = CustomLogisticRegression(lr=0.01, max_epoch=1000, regularization='l2', reg_strength=0.1, batch_size=2)\n",
    "\n",
    "# train model on sample dataset\n",
    "lr.fit(X, y)\n",
    "\n",
    "# make predictions on new data\n",
    "X_new = np.array([[6, 7], [7, 8]])\n",
    "y_pred = lr.predict(X_new)\n",
    "\n",
    "print(y_pred)  # [1, 1]"
   ]
  },
  {
   "cell_type": "markdown",
   "metadata": {},
   "source": [
    "It is difficult to visualize logistic regression since it is a high-dimensional problem. However, we can visualize the decision boundary of a logistic regression model for a two-dimensional dataset.\n",
    "\n",
    "Here's an example of how to visualize the decision boundary of the LogisticRegression class on a 2D dataset using the matplotlib library:"
   ]
  },
  {
   "cell_type": "code",
   "execution_count": 5,
   "metadata": {},
   "outputs": [
    {
     "data": {
      "image/png": "[encoded data removed]",
      "text/plain": [
       "<Figure size 640x480 with 1 Axes>"
      ]
     },
     "metadata": {},
     "output_type": "display_data"
    }
   ],
   "source": [
    "import matplotlib.pyplot as plt\n",
    "\n",
    "# create 2D dataset\n",
    "X = np.array([[1, 2], [2, 3], [3, 4], [4, 5], [5, 6]])\n",
    "y = np.array([0, 0, 1, 1, 1])\n",
    "\n",
    "# initialize logistic regression model\n",
    "lr = CustomLogisticRegression(lr=0.01, max_epoch=1000, regularization='l2', reg_strength=0.1, batch_size=2)\n",
    "\n",
    "# train model on dataset\n",
    "lr.fit(X, y)\n",
    "\n",
    "# plot decision boundary\n",
    "x1 = np.linspace(0, 6, 100)\n",
    "x2 = np.linspace(0, 8, 100)\n",
    "xx, yy = np.meshgrid(x1, x2)\n",
    "Z = lr.predict(np.c_[xx.ravel(), yy.ravel()])\n",
    "Z = Z.reshape(xx.shape)\n",
    "plt.contourf(xx, yy, Z, cmap=plt.cm.Spectral, alpha=0.8)\n",
    "\n",
    "# plot data points\n",
    "plt.scatter(X[:,0], X[:,1], c=y, cmap=plt.cm.Spectral)\n",
    "\n",
    "plt.show()"
   ]
  },
  {
   "cell_type": "markdown",
   "metadata": {},
   "source": [
    "# Multi-Dimension Logistic Regression"
   ]
  },
  {
   "cell_type": "markdown",
   "metadata": {},
   "source": [
    "F(X) = X W\n",
    "\n",
    "H(X) = sigmoid(F(X))\n",
    "\n",
    "Cost = - 1/n sum(Y log(H(X)) + (1 - Y) log (1 - H(X)))"
   ]
  },
  {
   "cell_type": "code",
   "execution_count": 6,
   "metadata": {},
   "outputs": [],
   "source": [
    "import numpy as np\n",
    "import random\n",
    "\n",
    "n, k, p=100, 8, 3 \n",
    "X=np.random.random([n,k])\n",
    "W=np.random.random([k,p])\n",
    "y=np.random.randint(p, size=(1,n))\n",
    "Y=np.zeros((n,p))\n",
    "Y[np.arange(n), y]=1\n",
    "\n",
    "max_itr=5000\n",
    "alpha=0.01\n",
    "Lambda=0.01"
   ]
  },
  {
   "cell_type": "markdown",
   "metadata": {},
   "source": [
    "Gradient:   \n",
    "X.T (H(X) - Y) + 2 lambda W"
   ]
  },
  {
   "cell_type": "code",
   "execution_count": 7,
   "metadata": {},
   "outputs": [],
   "source": [
    "# F(x)= w[0]*x + w[1]\n",
    "def F(X, W):\n",
    "    return np.matmul(X,W)\n",
    "\n",
    "def H(F):\n",
    "    return 1/(1+np.exp(-F))\n",
    "\n",
    "def cost(Y_est, Y):\n",
    "    E= - (1/n) * (np.sum(Y*np.log(Y_est) + (1-Y)*np.log(1-Y_est)))  + np.linalg.norm(W,2)\n",
    "    return E, np.sum(np.argmax(Y_est,1)==y)/n\n",
    "\n",
    "def gradient(Y_est, Y, X):\n",
    "    return (1/n) * np.matmul(X.T, (Y_est - Y) ) + Lambda* 2* W"
   ]
  },
  {
   "cell_type": "code",
   "execution_count": 8,
   "metadata": {},
   "outputs": [],
   "source": [
    "def fit(W, X, Y, alpha, max_itr):\n",
    "    for i in range(max_itr):\n",
    "        \n",
    "        F_x=F(X,W)\n",
    "        Y_est=H(F_x)\n",
    "        E, c= cost(Y_est, Y)\n",
    "        Wg=gradient(Y_est, Y, X)\n",
    "        W=W - alpha * Wg\n",
    "        if i%1000==0:\n",
    "            print(E, c)\n",
    "        \n",
    "    return W, Y_est"
   ]
  },
  {
   "cell_type": "code",
   "execution_count": 9,
   "metadata": {},
   "outputs": [
    {
     "name": "stdout",
     "output_type": "stream",
     "text": [
      "8.820768992496212 0.33\n",
      "4.979910127193113 0.42\n",
      "4.95940465839811 0.42\n",
      "4.946460515333037 0.41\n",
      "4.938615078382928 0.42\n"
     ]
    }
   ],
   "source": [
    "X=np.concatenate( (X, np.ones((n,1))), axis=1 ) \n",
    "W=np.concatenate( (W, np.random.random((1,p)) ), axis=0 )\n",
    "\n",
    "W, Y_est = fit(W, X, Y, alpha, max_itr)"
   ]
  }
 ],
 "metadata": {
  "kernelspec": {
   "display_name": "python-notebook",
   "language": "python",
   "name": "python3"
  },
  "language_info": {
   "codemirror_mode": {
    "name": "ipython",
    "version": 3
   },
   "file_extension": ".py",
   "mimetype": "text/x-python",
   "name": "python",
   "nbconvert_exporter": "python",
   "pygments_lexer": "ipython3",
   "version": "3.9.19"
  }
 },
 "nbformat": 4,
 "nbformat_minor": 2
}
