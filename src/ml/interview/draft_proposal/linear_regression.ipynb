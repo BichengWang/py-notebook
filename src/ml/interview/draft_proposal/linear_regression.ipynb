{
 "cells": [
  {
   "cell_type": "markdown",
   "metadata": {},
   "source": [
    "# Linear Regression"
   ]
  },
  {
   "cell_type": "markdown",
   "metadata": {},
   "source": [
    "y = wx + b"
   ]
  },
  {
   "cell_type": "markdown",
   "metadata": {},
   "source": [
    "SSE(sum of squared errors) min: W = arg min((Y - WX)^2)\n",
    "\n",
    "MSE (mean squared error) MSE: loss = 1/2m (XW - Y)^T (XW-Y)\n",
    "\n",
    "d_loss / d_w = 1/m X^T (XW - Y)\n",
    "\n",
    "use the gradient descent as follows:\n",
    "\n",
    "W := -alpha 1/m * X^T (XW - Y)\n",
    "b := -alpha 1/m * 1 * (XW - Y)"
   ]
  },
  {
   "cell_type": "code",
   "execution_count": 1,
   "metadata": {},
   "outputs": [],
   "source": [
    "import numpy as np\n",
    "\n",
    "class LinearRegression:\n",
    "    def __init__(self, iter=100, lr=.1):\n",
    "        super().__init__()\n",
    "        self.iter = iter\n",
    "        self.lr = lr\n",
    "        self.weights = None\n",
    "        self.bias = None\n",
    "        \n",
    "    def _weight_initialization(self, feature_num):\n",
    "        self.weights = np.zeros(feature_num)\n",
    "        self.bias = 0.\n",
    "        \n",
    "    def _gradient_descent(self, X, y, y_pred):\n",
    "        sample_num = X.shape[0]\n",
    "        dw = (1/sample_num) * np.dot(X.T, (y_pred - y))\n",
    "        db = (1/sample_num) * np.sum(y_pred - y)\n",
    "        self.weights -= self.lr * dw\n",
    "        self.bias -= self.lr * db\n",
    "        return \n",
    "    \n",
    "    def fit(self, X, y):\n",
    "        sample_num, feature_num = X.shape\n",
    "        self._weight_initialization(feature_num)\n",
    "        for _ in range(self.iter):\n",
    "            y_pred = np.dot(X, self.weights) + self.bias\n",
    "            self._gradient_descent(X, y, y_pred)\n",
    "        return\n",
    "    \n",
    "    def predict(self, X):\n",
    "        return np.dot(X, self.weights) + self.bias"
   ]
  },
  {
   "cell_type": "markdown",
   "metadata": {},
   "source": [
    "## Test"
   ]
  },
  {
   "cell_type": "code",
   "execution_count": 2,
   "metadata": {},
   "outputs": [
    {
     "name": "stdout",
     "output_type": "stream",
     "text": [
      "[0.61834151 1.06733787]\n",
      "1.0673378656599855\n",
      "[2.75301724 3.37135876 3.98970027 4.60804178 5.2263833 ]\n"
     ]
    }
   ],
   "source": [
    "X = np.array([[1, 1], [2, 1], [3, 1], [4, 1], [5, 1]])\n",
    "y = np.array([2, 4, 5, 4, 5])\n",
    "lr = LinearRegression()\n",
    "lr.fit(X, y)\n",
    "y_pred = lr.predict(X)\n",
    "\n",
    "# [0.61834151 1.06733787]\n",
    "print(lr.weights)\n",
    "# 1.0673378656599855\n",
    "print(lr.bias)\n",
    "# [2.75301724 3.37135876 3.98970027 4.60804178 5.2263833 ]\n",
    "print(y_pred)"
   ]
  },
  {
   "cell_type": "markdown",
   "metadata": {},
   "source": [
    "## Vectorized Representation with Direct Solution"
   ]
  },
  {
   "cell_type": "code",
   "execution_count": 3,
   "metadata": {},
   "outputs": [],
   "source": [
    "import numpy as np\n",
    "\n",
    "\n",
    "class LinearRegression:\n",
    "    def __init__(self):\n",
    "        self.W = None\n",
    "\n",
    "    def fit(self, X, y):\n",
    "        '''\n",
    "        X: n x d \n",
    "        '''\n",
    "        n = X.shape[0]\n",
    "        # Add bias term to X -> [1 X]\n",
    "        X = np.hstack([np.ones((n, 1)), X])\n",
    "        self.W = np.linalg.inv(X.T.dot(X)).dot(X.T).dot(y)\n",
    "\n",
    "    def predict(self, X):\n",
    "        n = X.shape[0]\n",
    "        X = np.hstack([X, np.ones((n, 1))])\n",
    "        return X.do(self.W)"
   ]
  },
  {
   "cell_type": "code",
   "execution_count": 4,
   "metadata": {},
   "outputs": [
    {
     "name": "stdout",
     "output_type": "stream",
     "text": [
      "[-0.64516129  0.96774194  1.09677419]\n",
      "[2.75301724 3.37135876 3.98970027 4.60804178 5.2263833 ]\n"
     ]
    }
   ],
   "source": [
    "# X = np.array([[1., 2.], [2., 3.], [7., 8.]]) # singular matrix\n",
    "# y = np.array([3., 5., 15.])\n",
    "# Create example input data\n",
    "X = np.array([[1., 2.], [2., 3.], [7., 8.], [7.,9.]])  # non-singular matrix\n",
    "y = np.array([3., 4., 15., 16.])\n",
    "lr = LinearRegression()\n",
    "lr.fit(X, y)\n",
    "print(lr.W)\n",
    "print(y_pred)"
   ]
  },
  {
   "cell_type": "markdown",
   "metadata": {},
   "source": [
    "# Follow Up"
   ]
  },
  {
   "cell_type": "markdown",
   "metadata": {},
   "source": [
    "Add input validation: Add input validation to check that the input arrays X and y have the same length and are not empty.\n",
    "\n",
    "Use NumPy broadcasting: Instead of looping through the data to calculate the numerator and denominator, we can use NumPy broadcasting to perform the calculations in a vectorized way. This will make the code faster and more efficient.\n",
    "\n",
    "Add regularization: Regularization can help prevent overfitting by adding a penalty term to the cost function. One common regularization technique is L2 regularization, which adds the sum of squares of the coefficients to the cost function. This can be easily added to the code by adding a regularization parameter to the constructor.\n",
    "\n",
    "Use gradient descent: For large datasets, calculating the inverse of the matrix in the normal equation can be computationally expensive. To overcome this, we can use gradient descent to minimize the cost function. This can be implemented by adding a method that updates the coefficients iteratively using the gradient descent algorithm."
   ]
  },
  {
   "cell_type": "code",
   "execution_count": 5,
   "metadata": {},
   "outputs": [],
   "source": [
    "import numpy as np\n",
    "\n",
    "\n",
    "class LinearRegressionGD:\n",
    "    def __init__(self, regul=0):\n",
    "        self.regul = regul\n",
    "        self.W = None\n",
    "\n",
    "    def fit(self, X, y, lr=0.01, num_iter=1000):\n",
    "        # Input validation\n",
    "        if len(X) != len(y) or len(X) == 0:\n",
    "            raise ValueError(\"X and y must have the same length and cannot be empty\")\n",
    "        \n",
    "        # Add bias term to X -> [1 X]\n",
    "        X = np.hstack([np.ones((len(X), 1)), X])\n",
    "\n",
    "        # Initialize W to zeros\n",
    "        self.W = np.zeros(X.shape[1])\n",
    "\n",
    "        # Use gradient descent to minimize cost function\n",
    "        for i in range(num_iter):\n",
    "            # Calculate predicted values\n",
    "            y_pred = np.dot(X, self.W)\n",
    "\n",
    "            # Calculate cost function\n",
    "            cost = np.sum((y_pred - y) ** 2) + self.regul * np.sum(self.W ** 2)\n",
    "\n",
    "            # Calculate gradients\n",
    "            gradients = 2 * np.dot(X.T, (y_pred - y)) + 2 * self.regul * self.W\n",
    "\n",
    "            # Update W\n",
    "            self.W = self.W - lr * gradients\n",
    "\n",
    "            if (i % 1000 == 0 ): print(cost)\n",
    "\n",
    "    def predict(self, X):\n",
    "        # Add bias term to X\n",
    "        X = np.hstack([np.ones((len(X), 1)), X])\n",
    "\n",
    "        # Calculate predicted values\n",
    "        y_pred = np.dot(X, self.W)\n",
    "        return y_pred"
   ]
  },
  {
   "cell_type": "code",
   "execution_count": 6,
   "metadata": {},
   "outputs": [
    {
     "name": "stdout",
     "output_type": "stream",
     "text": [
      "86.0\n",
      "2.8791287270130335\n",
      "2.8791287270130344\n",
      "2.8791287270130344\n",
      "2.8791287270130344\n",
      "2.8791287270130344\n",
      "2.8791287270130344\n",
      "2.8791287270130344\n",
      "2.8791287270130344\n",
      "2.8791287270130344\n",
      "[1.99964292 0.65345474]\n",
      "[2.65309766 3.3065524  3.96000714 4.61346188 5.26691662]\n"
     ]
    }
   ],
   "source": [
    "X = np.array([[1, 2, 3, 4, 5]]).T\n",
    "y = np.array([2, 4, 5, 4, 5])\n",
    "lr = LinearRegressionGD(regul=0.1)\n",
    "lr.fit(X, y, lr=0.01, num_iter=10000)\n",
    "print(lr.W)  # Output: [ 1.99964292  0.65345474 ]\n",
    "y_pred = lr.predict(X)\n",
    "print(y_pred)  # # Output: [2.65309766, 3.3065524, 3.96000714, 4.61346188, 5.26691662]"
   ]
  },
  {
   "cell_type": "code",
   "execution_count": 7,
   "metadata": {},
   "outputs": [
    {
     "data": {
      "image/png": "[encoded data removed]",
      "text/plain": [
       "<Figure size 640x480 with 1 Axes>"
      ]
     },
     "metadata": {},
     "output_type": "display_data"
    }
   ],
   "source": [
    "import matplotlib.pyplot as plt \n",
    "\n",
    "# Plot the data and the linear regression line\n",
    "plt.scatter(X, y, color='blue')\n",
    "plt.plot(X, y_pred, color='red')\n",
    "plt.xlabel('X')\n",
    "plt.ylabel('y')\n",
    "plt.title('Linear Regression')\n",
    "plt.show()"
   ]
  },
  {
   "cell_type": "markdown",
   "metadata": {},
   "source": [
    "# Multi-Dimension Linear Regression"
   ]
  },
  {
   "cell_type": "code",
   "execution_count": 8,
   "metadata": {},
   "outputs": [],
   "source": [
    "import numpy as np\n",
    "import random\n",
    "\n",
    "n, k, p=100, 8, 2\n",
    "X=np.random.random([n,k])\n",
    "W=np.random.random([k,p])\n",
    "Y=np.random.random([n,p])\n",
    "max_itr=1000\n",
    "alpha=0.001\n",
    "Lambda=0.01"
   ]
  },
  {
   "cell_type": "markdown",
   "metadata": {},
   "source": [
    "F(X) = X W   \n",
    "gradient = 2 X.T (Y_hat) + 2 Lambda W"
   ]
  },
  {
   "cell_type": "code",
   "execution_count": 9,
   "metadata": {},
   "outputs": [],
   "source": [
    "# F(x)= w[0]*x + w[1]\n",
    "def F(X, W):\n",
    "    return np.matmul(X,W)\n",
    "\n",
    "def cost(Y_est, Y, W, Lambda):\n",
    "    E=Y_est-Y\n",
    "    return E, np.linalg.norm(E,2)+ Lambda * np.linalg.norm(W,2)\n",
    "\n",
    "def gradient(E,X, W, Lambda):\n",
    "    return 2* np.matmul(X.T, E) + Lambda* 2* W"
   ]
  },
  {
   "cell_type": "code",
   "execution_count": 10,
   "metadata": {},
   "outputs": [],
   "source": [
    "def fit(W, X, Y, alpha, Lambda, max_itr):\n",
    "    for i in range(max_itr):\n",
    "        \n",
    "        Y_est=F(X,W)\n",
    "        E, c= cost(Y_est, Y, W, Lambda)\n",
    "        Wg=gradient(E, X, W, Lambda)\n",
    "        W=W - alpha * Wg\n",
    "        if i%100==0:\n",
    "            print(c)\n",
    "        \n",
    "    return W"
   ]
  },
  {
   "cell_type": "code",
   "execution_count": 11,
   "metadata": {},
   "outputs": [
    {
     "name": "stdout",
     "output_type": "stream",
     "text": [
      "40.19639826326441\n",
      "3.02850553065586\n",
      "2.9171753071545212\n",
      "2.888084292961416\n",
      "2.877659728536121\n",
      "2.8737351739769834\n",
      "2.872265346591553\n",
      "2.871733799980027\n",
      "2.8715562632046545\n",
      "2.871507563769664\n"
     ]
    }
   ],
   "source": [
    "X=np.concatenate( (X, np.ones((n,1))), axis=1 ) \n",
    "W=np.concatenate( (W, np.random.random((1,p)) ), axis=0 )\n",
    "\n",
    "W = fit(W, X, Y, alpha, Lambda, max_itr)"
   ]
  },
  {
   "cell_type": "code",
   "execution_count": 12,
   "metadata": {},
   "outputs": [],
   "source": [
    "Y_pred = F(X, W)"
   ]
  },
  {
   "cell_type": "code",
   "execution_count": 13,
   "metadata": {},
   "outputs": [
    {
     "data": {
      "text/plain": [
       "<matplotlib.legend.Legend at 0x7f5e62ad26a0>"
      ]
     },
     "execution_count": 13,
     "metadata": {},
     "output_type": "execute_result"
    },
    {
     "data": {
      "image/png": "[encoded data removed]",
      "text/plain": [
       "<Figure size 640x480 with 1 Axes>"
      ]
     },
     "metadata": {},
     "output_type": "display_data"
    }
   ],
   "source": [
    "import matplotlib.pyplot as plt\n",
    "\n",
    "for i in range(Y_pred.shape[1]):\n",
    "    plt.scatter(Y[:, i], Y_pred[:, i], label=f'Dimension {i}')\n",
    "\n",
    "plt.legend()"
   ]
  },
  {
   "cell_type": "code",
   "execution_count": null,
   "metadata": {},
   "outputs": [],
   "source": []
  },
  {
   "cell_type": "code",
   "execution_count": null,
   "metadata": {},
   "outputs": [],
   "source": []
  }
 ],
 "metadata": {
  "kernelspec": {
   "display_name": "python-notebook",
   "language": "python",
   "name": "python3"
  },
  "language_info": {
   "codemirror_mode": {
    "name": "ipython",
    "version": 3
   },
   "file_extension": ".py",
   "mimetype": "text/x-python",
   "name": "python",
   "nbconvert_exporter": "python",
   "pygments_lexer": "ipython3",
   "version": "3.9.19"
  }
 },
 "nbformat": 4,
 "nbformat_minor": 2
}
