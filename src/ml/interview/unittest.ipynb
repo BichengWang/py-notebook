{
 "cells": [
  {
   "cell_type": "code",
   "execution_count": 1,
   "metadata": {},
   "outputs": [
    {
     "name": "stderr",
     "output_type": "stream",
     "text": [
      "usage: ipykernel_launcher.py [-h] [-v] [-q] [--locals] [-f] [-c] [-b]\n",
      "                             [tests [tests ...]]\n",
      "ipykernel_launcher.py: error: argument -f/--failfast: ignored explicit argument '/home/bicheng.wang/.local/share/jupyter/runtime/kernel-v362d95e6d810ac2014fb96536c0a0c18d4676fdac.json'\n"
     ]
    },
    {
     "ename": "SystemExit",
     "evalue": "2",
     "output_type": "error",
     "traceback": [
      "An exception has occurred, use %tb to see the full traceback.\n",
      "\u001b[0;31mSystemExit\u001b[0m\u001b[0;31m:\u001b[0m 2\n"
     ]
    },
    {
     "name": "stderr",
     "output_type": "stream",
     "text": [
      "/usr/local/miniconda/envs/piperenv/lib/python3.6/site-packages/IPython/core/interactiveshell.py:2889: UserWarning: To exit: use 'exit', 'quit', or Ctrl-D.\n",
      "  warn(\"To exit: use 'exit', 'quit', or Ctrl-D.\", stacklevel=1)\n"
     ]
    }
   ],
   "source": [
    "import unittest\n",
    "import pandas as pd\n",
    "import numpy as np\n",
    "import torch\n",
    "import tensorflow\n",
    "\n",
    "# step 1, dummy list: common divisor\n",
    "# step 2, merge them\n",
    "\n",
    "class Solution:\n",
    "    def __init__(self, *args, **kwargs):\n",
    "        super().__init__(*args, **kwargs)\n",
    "    \n",
    "    def insertGreatestCommonDivisors(self, head):\n",
    "        \"\"\"\n",
    "        head: list node\n",
    "        return: list node with greatest common divisors\n",
    "        step 1, dummy list: common divisor\n",
    "        step 2, merge them\n",
    "        \"\"\"\n",
    "        def compute_divisor(a, b):\n",
    "            \"\"\"\n",
    "            return greatest common divisor\n",
    "            \"\"\"\n",
    "            return math.gcd(a, b)\n",
    "        if not head or not head.next: return head\n",
    "        # step 1 create greatest common divisor list\n",
    "        dummy = ListNode(val=0)\n",
    "        pointer, prev, curr = dummy, head, head.next\n",
    "\n",
    "        while curr:\n",
    "            # compute common greatest divisor\n",
    "            pointer.next = ListNode(val=compute_divisor(prev.val, curr.val))\n",
    "            # move pointers\n",
    "            prev, curr = curr, curr.next\n",
    "            pointer = pointer.next\n",
    "        # step 2 merge lists, ensure the dummy list length always equal to head length - 1\n",
    "        pointer, prev = dummy.next, head\n",
    "        \n",
    "        while prev and pointer:\n",
    "            curr = prev.next\n",
    "            prev.next = pointer\n",
    "            pointer, pointer.next = pointer.next, curr\n",
    "            prev = curr\n",
    "        del dummy\n",
    "        return head\n",
    "\n",
    "\n",
    "class Solution:\n",
    "    def minRemoveToMakeValid(self, s: str) -> str:\n",
    "        rm_idx = set()\n",
    "        st = []\n",
    "        for i, c in enumerate(s):\n",
    "            if c == '(':\n",
    "                st.append(i)\n",
    "            elif c == ')' and not st:\n",
    "                rm_idx.add()\n",
    "\n",
    "class Obj:\n",
    "    def __init__(self, *args, **kwargs):\n",
    "        super().__init__()\n",
    "\n",
    "    def method1(s):\n",
    "        if s == 'error':\n",
    "            raise TypeError\n",
    "        return s\n",
    "\n",
    "class TestMethods(unittest.TestCase):\n",
    "    def test_method1(self):\n",
    "        obj = Obj()\n",
    "        self.assertEqual(obj.method1(''), '')\n",
    "        with self.assertRaises(TypeError):\n",
    "            obj.method1('error')\n",
    "\n",
    "    def test_upper(self):\n",
    "        self.assertEqual('foo'.upper(), 'FOO')\n",
    "\n",
    "    def test_isupper(self):\n",
    "        self.assertTrue('FOO'.isupper())\n",
    "        self.assertFalse('Foo'.isupper())\n",
    "\n",
    "    def test_split(self):\n",
    "        s = 'hello world'\n",
    "        self.assertEqual(s.split(), ['hello', 'world'])\n",
    "        # s.split should throw when the separator is not a string\n",
    "        with self.assertRaises(TypeError):\n",
    "            s.split(2)\n",
    "\n",
    "unittest.main(exit=False)\n"
   ]
  },
  {
   "cell_type": "code",
   "execution_count": null,
   "metadata": {},
   "outputs": [],
   "source": []
  }
 ],
 "metadata": {
  "kernelspec": {
   "display_name": "piperenv",
   "language": "python",
   "name": "python3"
  },
  "language_info": {
   "codemirror_mode": {
    "name": "ipython",
    "version": 3
   },
   "file_extension": ".py",
   "mimetype": "text/x-python",
   "name": "python",
   "nbconvert_exporter": "python",
   "pygments_lexer": "ipython3",
   "version": "3.6.13"
  }
 },
 "nbformat": 4,
 "nbformat_minor": 2
}
