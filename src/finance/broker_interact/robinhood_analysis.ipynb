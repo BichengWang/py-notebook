{
 "cells": [
  {
   "cell_type": "markdown",
   "metadata": {},
   "source": [
    "# Target Market Analysis"
   ]
  },
  {
   "cell_type": "code",
   "execution_count": 1,
   "metadata": {},
   "outputs": [],
   "source": [
    "from importlib import reload\n",
    "\n",
    "import sys\n",
    "import logging\n",
    "\n",
    "\n",
    "sys.path.append('/Users/bichengwang/Documents/codes/python-notebook/src')\n",
    "reload(sys)\n",
    "logging.basicConfig(level=logging.INFO)\n",
    "logger = logging.getLogger(__name__)\n",
    "logger.propagate = True"
   ]
  },
  {
   "cell_type": "code",
   "execution_count": 23,
   "metadata": {},
   "outputs": [],
   "source": [
    "import pandas as pd\n",
    "import numpy as np\n",
    "from tabulate import tabulate\n",
    "\n",
    "def tabulate_printer(dic):\n",
    "    return \"\\n{}\".format(tabulate(\n",
    "        [[k,v] for k, v in dic.items()], \n",
    "        headers=['Key', 'Value'], tablefmt='grid'))\n",
    "\n",
    "# Define a custom converter function\n",
    "def money_to_float(value):\n",
    "    # Remove the dollar sign and commas\n",
    "    value = value.replace('$', '').replace(',', '')\n",
    "    value = \"0\" if not value else value\n",
    "    # Check for parentheses to determine if it's a negative number\n",
    "    if value.startswith('(') and value.endswith(')'):\n",
    "        value = '-' + value[1:-1] if value[1:-1] else 0\n",
    "    return float(value)\n",
    "\n",
    "def loader(file_name='robinhood_report.csv'):\n",
    "    return pd.read_csv(\n",
    "        '/Users/bichengwang/Documents/codes/python-notebook/data/.local/{}'.format(file_name),\n",
    "        converters={\n",
    "            'Amount': money_to_float,\n",
    "            'Price': money_to_float,\n",
    "        },\n",
    "    )\n",
    "\n",
    "\n"
   ]
  },
  {
   "cell_type": "code",
   "execution_count": 24,
   "metadata": {},
   "outputs": [
    {
     "data": {
      "text/html": [
       "<div>\n",
       "<style scoped>\n",
       "    .dataframe tbody tr th:only-of-type {\n",
       "        vertical-align: middle;\n",
       "    }\n",
       "\n",
       "    .dataframe tbody tr th {\n",
       "        vertical-align: top;\n",
       "    }\n",
       "\n",
       "    .dataframe thead th {\n",
       "        text-align: right;\n",
       "    }\n",
       "</style>\n",
       "<table border=\"1\" class=\"dataframe\">\n",
       "  <thead>\n",
       "    <tr style=\"text-align: right;\">\n",
       "      <th></th>\n",
       "      <th>Activity Date</th>\n",
       "      <th>Process Date</th>\n",
       "      <th>Settle Date</th>\n",
       "      <th>Instrument</th>\n",
       "      <th>Description</th>\n",
       "      <th>Trans Code</th>\n",
       "      <th>Quantity</th>\n",
       "      <th>Price</th>\n",
       "      <th>Amount</th>\n",
       "    </tr>\n",
       "  </thead>\n",
       "  <tbody>\n",
       "    <tr>\n",
       "      <th>0</th>\n",
       "      <td>5/2/2024</td>\n",
       "      <td>5/2/2024</td>\n",
       "      <td>5/6/2024</td>\n",
       "      <td>SVIX</td>\n",
       "      <td>-1x Short VIX Futures ETF CUSIP: 92891H101</td>\n",
       "      <td>Buy</td>\n",
       "      <td>5</td>\n",
       "      <td>40.49</td>\n",
       "      <td>-202.45</td>\n",
       "    </tr>\n",
       "    <tr>\n",
       "      <th>1</th>\n",
       "      <td>5/2/2024</td>\n",
       "      <td>5/2/2024</td>\n",
       "      <td>5/6/2024</td>\n",
       "      <td>TSLA</td>\n",
       "      <td>Tesla CUSIP: 88160R101</td>\n",
       "      <td>Sell</td>\n",
       "      <td>24</td>\n",
       "      <td>176.63</td>\n",
       "      <td>4239.08</td>\n",
       "    </tr>\n",
       "    <tr>\n",
       "      <th>2</th>\n",
       "      <td>5/2/2024</td>\n",
       "      <td>5/2/2024</td>\n",
       "      <td>5/6/2024</td>\n",
       "      <td>VOO</td>\n",
       "      <td>Vanguard S&amp;P 500 ETF CUSIP: 922908363</td>\n",
       "      <td>Buy</td>\n",
       "      <td>1</td>\n",
       "      <td>462.62</td>\n",
       "      <td>-462.62</td>\n",
       "    </tr>\n",
       "    <tr>\n",
       "      <th>3</th>\n",
       "      <td>5/1/2024</td>\n",
       "      <td>5/1/2024</td>\n",
       "      <td>5/3/2024</td>\n",
       "      <td>SPYV</td>\n",
       "      <td>SPDR Portfolio S&amp;P 500 Value ETF CUSIP: 78464A508</td>\n",
       "      <td>Sell</td>\n",
       "      <td>1</td>\n",
       "      <td>47.76</td>\n",
       "      <td>47.76</td>\n",
       "    </tr>\n",
       "    <tr>\n",
       "      <th>4</th>\n",
       "      <td>5/1/2024</td>\n",
       "      <td>5/1/2024</td>\n",
       "      <td>5/3/2024</td>\n",
       "      <td>TSLA</td>\n",
       "      <td>Tesla CUSIP: 88160R101</td>\n",
       "      <td>Sell</td>\n",
       "      <td>25</td>\n",
       "      <td>179.50</td>\n",
       "      <td>4487.34</td>\n",
       "    </tr>\n",
       "  </tbody>\n",
       "</table>\n",
       "</div>"
      ],
      "text/plain": [
       "  Activity Date Process Date Settle Date Instrument  \\\n",
       "0      5/2/2024     5/2/2024    5/6/2024       SVIX   \n",
       "1      5/2/2024     5/2/2024    5/6/2024       TSLA   \n",
       "2      5/2/2024     5/2/2024    5/6/2024        VOO   \n",
       "3      5/1/2024     5/1/2024    5/3/2024       SPYV   \n",
       "4      5/1/2024     5/1/2024    5/3/2024       TSLA   \n",
       "\n",
       "                                         Description Trans Code Quantity  \\\n",
       "0         -1x Short VIX Futures ETF CUSIP: 92891H101        Buy        5   \n",
       "1                             Tesla CUSIP: 88160R101       Sell       24   \n",
       "2              Vanguard S&P 500 ETF CUSIP: 922908363        Buy        1   \n",
       "3  SPDR Portfolio S&P 500 Value ETF CUSIP: 78464A508       Sell        1   \n",
       "4                             Tesla CUSIP: 88160R101       Sell       25   \n",
       "\n",
       "    Price   Amount  \n",
       "0   40.49  -202.45  \n",
       "1  176.63  4239.08  \n",
       "2  462.62  -462.62  \n",
       "3   47.76    47.76  \n",
       "4  179.50  4487.34  "
      ]
     },
     "execution_count": 24,
     "metadata": {},
     "output_type": "execute_result"
    }
   ],
   "source": [
    "df = loader()\n",
    "# Now df contains your data with the 'date' column parsed as datetime objects\n",
    "df.head()"
   ]
  },
  {
   "cell_type": "code",
   "execution_count": 36,
   "metadata": {},
   "outputs": [
    {
     "name": "stdout",
     "output_type": "stream",
     "text": [
      "Trans Code  Instrument\n",
      "Buy         TSLA         -485089.80\n",
      "Sell        TSLA          485787.74\n",
      "Name: Amount, dtype: float64\n"
     ]
    }
   ],
   "source": [
    "print(df[(df['Instrument'] == 'TSLA') & (df['Trans Code'].isin({'Buy', 'Sell'}))].groupby(['Trans Code', 'Instrument'])['Amount'].sum())"
   ]
  }
 ],
 "metadata": {
  "kernelspec": {
   "display_name": "Python 3",
   "language": "python",
   "name": "python3"
  },
  "language_info": {
   "codemirror_mode": {
    "name": "ipython",
    "version": 3
   },
   "file_extension": ".py",
   "mimetype": "text/x-python",
   "name": "python",
   "nbconvert_exporter": "python",
   "pygments_lexer": "ipython3",
   "version": "3.9.6"
  }
 },
 "nbformat": 4,
 "nbformat_minor": 1
}
