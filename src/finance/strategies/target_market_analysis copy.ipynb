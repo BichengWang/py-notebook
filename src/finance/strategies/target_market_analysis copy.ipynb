{
 "cells": [
  {
   "cell_type": "markdown",
   "metadata": {},
   "source": [
    "# Target Market Analysis"
   ]
  },
  {
   "cell_type": "markdown",
   "metadata": {},
   "source": []
  },
  {
   "cell_type": "markdown",
   "metadata": {},
   "source": [
    "## Investment Analysis"
   ]
  },
  {
   "cell_type": "markdown",
   "metadata": {},
   "source": [
    "### House pricing increase compare"
   ]
  },
  {
   "cell_type": "code",
   "execution_count": 7,
   "metadata": {},
   "outputs": [
    {
     "name": "stdout",
     "output_type": "stream",
     "text": [
      "                 Date   Close\n",
      "0   1/5/1990 16:00:00  352.20\n",
      "1  1/12/1990 16:00:00  339.93\n",
      "2  1/19/1990 16:00:00  339.15\n",
      "3  1/26/1990 16:00:00  325.80\n",
      "4   2/2/1990 16:00:00  330.92\n"
     ]
    },
    {
     "name": "stderr",
     "output_type": "stream",
     "text": [
      "/var/folders/ls/5qzq87350jz6pv6jwnpg6mkm0000gn/T/ipykernel_35832/735624823.py:4: FutureWarning: The argument 'date_parser' is deprecated and will be removed in a future version. Please use 'date_format' instead, or read your data in as 'object' dtype and then call 'to_datetime'.\n",
      "  df = pd.read_csv('/Users/bichengwang/Documents/codes/python-notebook/src/finance/data/SPX GOOGLEFINANCE.csv', date_parser=pd.to_datetime)\n"
     ]
    }
   ],
   "source": [
    "import pandas as pd\n",
    "\n",
    "# Assuming your CSV file is named 'data.csv' and contains a column named 'date' with dates in 'YYYY-MM-DD' format\n",
    "df = pd.read_csv('/Users/bichengwang/Documents/codes/python-notebook/src/finance/data/SPX GOOGLEFINANCE.csv', date_parser=pd.to_datetime)\n",
    "\n",
    "# Now df contains your data with the 'date' column parsed as datetime objects\n",
    "print(df.head())"
   ]
  },
  {
   "cell_type": "code",
   "execution_count": 37,
   "metadata": {},
   "outputs": [],
   "source": [
    "import numpy as np"
   ]
  },
  {
   "cell_type": "code",
   "execution_count": 44,
   "metadata": {},
   "outputs": [
    {
     "name": "stdout",
     "output_type": "stream",
     "text": [
      "                  Date   Close  ratio  Moving_Average   Diff   Mark  \\\n",
      "0    1/5/1990 16:00:00  352.20    NaN             NaN    NaN  False   \n",
      "1   1/12/1990 16:00:00  339.93 -12.27             NaN -12.27  False   \n",
      "2   1/19/1990 16:00:00  339.15  -0.78             NaN  -0.78  False   \n",
      "3   1/26/1990 16:00:00  325.80 -13.35        339.2700 -13.35  False   \n",
      "4    2/2/1990 16:00:00  330.92   5.12        333.9500   5.12  False   \n",
      "5    2/9/1990 16:00:00  333.62   2.70        332.3725   2.70  False   \n",
      "6   2/16/1990 16:00:00  332.72  -0.90        330.7650  -0.90  False   \n",
      "7   2/23/1990 16:00:00  324.15  -8.57        330.3525  -8.57  False   \n",
      "8    3/2/1990 16:00:00  335.54  11.39        331.5075  11.39   True   \n",
      "9    3/9/1990 16:00:00  337.93   2.39        332.5850   2.39   True   \n",
      "10  3/16/1990 16:00:00  341.91   3.98        334.8825   3.98   True   \n",
      "11  3/23/1990 16:00:00  337.22  -4.69        338.1500  -4.69  False   \n",
      "12  3/30/1990 16:00:00  339.94   2.72        339.2500   2.72   True   \n",
      "13   4/6/1990 16:00:00  340.08   0.14        339.7875   0.14   True   \n",
      "14  4/12/1990 16:00:00  344.34   4.26        340.3950   4.26   True   \n",
      "15  4/20/1990 16:00:00  335.12  -9.22        339.8700  -9.22  False   \n",
      "16  4/27/1990 16:00:00  329.11  -6.01        337.1625  -6.01  False   \n",
      "17   5/4/1990 16:00:00  338.39   9.28        336.7400   9.28   True   \n",
      "18  5/11/1990 16:00:00  352.00  13.61        338.6550  13.61   True   \n",
      "19  5/18/1990 16:00:00  354.64   2.64        343.5350   2.64   True   \n",
      "\n",
      "           EMA  \n",
      "0   352.200000  \n",
      "1   347.292000  \n",
      "2   344.035200  \n",
      "3   336.741120  \n",
      "4   334.412672  \n",
      "5   334.095603  \n",
      "6   333.545362  \n",
      "7   329.787217  \n",
      "8   332.088330  \n",
      "9   334.424998  \n",
      "10  337.418999  \n",
      "11  337.339399  \n",
      "12  338.379640  \n",
      "13  339.059784  \n",
      "14  341.171870  \n",
      "15  338.751122  \n",
      "16  334.894673  \n",
      "17  336.292804  \n",
      "18  342.575682  \n",
      "19  347.401409  \n",
      "{'ratio': 0.33163908828838556, 'origin': 15.002529858210272, 'value': 4.975425324196137, 'beta': 0.32595653823983367, 'alpha': 0.746708608850416, 'annual_sharp_ratio': 8.676340962574303}\n"
     ]
    },
    {
     "name": "stderr",
     "output_type": "stream",
     "text": [
      "/var/folders/ls/5qzq87350jz6pv6jwnpg6mkm0000gn/T/ipykernel_35832/2532839252.py:9: SettingWithCopyWarning: \n",
      "A value is trying to be set on a copy of a slice from a DataFrame.\n",
      "Try using .loc[row_indexer,col_indexer] = value instead\n",
      "\n",
      "See the caveats in the documentation: https://pandas.pydata.org/pandas-docs/stable/user_guide/indexing.html#returning-a-view-versus-a-copy\n",
      "  df['Moving_Average'] = df['Close'].rolling(window=span).mean()\n",
      "/var/folders/ls/5qzq87350jz6pv6jwnpg6mkm0000gn/T/ipykernel_35832/2532839252.py:10: SettingWithCopyWarning: \n",
      "A value is trying to be set on a copy of a slice from a DataFrame.\n",
      "Try using .loc[row_indexer,col_indexer] = value instead\n",
      "\n",
      "See the caveats in the documentation: https://pandas.pydata.org/pandas-docs/stable/user_guide/indexing.html#returning-a-view-versus-a-copy\n",
      "  df['EMA'] = df['Close'].ewm(span=span, adjust=False).mean()\n",
      "/var/folders/ls/5qzq87350jz6pv6jwnpg6mkm0000gn/T/ipykernel_35832/2532839252.py:11: SettingWithCopyWarning: \n",
      "A value is trying to be set on a copy of a slice from a DataFrame.\n",
      "Try using .loc[row_indexer,col_indexer] = value instead\n",
      "\n",
      "See the caveats in the documentation: https://pandas.pydata.org/pandas-docs/stable/user_guide/indexing.html#returning-a-view-versus-a-copy\n",
      "  df['Mark'] = df['Close'] > df['EMA']\n"
     ]
    }
   ],
   "source": [
    "df['Diff'] = df['Close'] - df['Close'].shift(1)\n",
    "# 300, 310, 305 -> \n",
    "# NaN, 300, 310 -> \n",
    "# agent() -> \n",
    "\n",
    "def buy_and_sell(df, annual_risk_free_rate=0.06, span=4):\n",
    "    # span lookback weeks\n",
    "    # risk free rate\n",
    "    df['Moving_Average'] = df['Close'].rolling(window=span).mean()\n",
    "    df['EMA'] = df['Close'].ewm(span=span, adjust=False).mean()\n",
    "    df['Mark'] = df['Close'] > df['EMA']\n",
    "    marks = df['Mark'].values\n",
    "    curr = marks[0]\n",
    "    prices = df['Close'].values\n",
    "    spx_returns = (df['Close'] / prices[0]).values\n",
    "    base = 1.\n",
    "    share = 0.\n",
    "    security_returns = []\n",
    "\n",
    "    ### buy in strategy\n",
    "    for mark, price in zip(marks, prices):\n",
    "        if mark != curr:\n",
    "            if not mark:\n",
    "                share += base / price\n",
    "                base = 0.\n",
    "            else:\n",
    "                base += share * price\n",
    "                share = 0.\n",
    "        curr = mark\n",
    "        security_returns.append(base + share * price)\n",
    "    ratio = (base + share * prices[-1]) / (prices[-1] / prices[0])\n",
    "\n",
    "    # Calculate the mean returns\n",
    "    security_mean_return = np.mean(security_returns)\n",
    "    spx_mean_return = np.mean(spx_returns)\n",
    "\n",
    "    # Calculate the covariance and variance of returns\n",
    "    covariance = np.cov(security_returns, spx_returns)[0, 1]\n",
    "    variance_spx = np.var(spx_returns)\n",
    "\n",
    "    # Calculate beta\n",
    "    beta = covariance / variance_spx\n",
    "\n",
    "    # Calculate alpha\n",
    "    alpha = security_mean_return - (beta * spx_mean_return)\n",
    "\n",
    "    # Calculate the excess return of the security over the risk-free rate\n",
    "    # Sample weekly returns of the security and risk-free rate\n",
    "    annual_security_returns =  np.array([y/x for x, y in zip(security_returns[:-52], security_returns[52:])])\n",
    "\n",
    "    # Calculate the excess return of the security over the risk-free rate\n",
    "    excess_returns = annual_security_returns - annual_risk_free_rate\n",
    "\n",
    "    # Calculate the annualized average excess return\n",
    "    annualized_excess_return = np.mean(excess_returns)  # Approximate number of weeks in a year\n",
    "\n",
    "    # Calculate the annualized standard deviation of returns\n",
    "    annualized_std_dev = np.std(annual_security_returns) # Approximate number of weeks in a year\n",
    "\n",
    "    # Calculate the annual Sharpe Ratio\n",
    "    annual_sharpe_ratio = annualized_excess_return / annualized_std_dev\n",
    "\n",
    "    def calculate_maximum_withdrawal_rate(weekly_returns, target_years, tolerance=1e-6):\n",
    "        withdrawal_rate = 0.01  # Starting withdrawal rate\n",
    "        while True:\n",
    "            # Calculate portfolio balance after target_years with current withdrawal rate\n",
    "            balance = calculate_portfolio_balance(weekly_returns, withdrawal_rate)\n",
    "            if balance > 0:  # If portfolio lasts for target_years, reduce withdrawal rate\n",
    "                withdrawal_rate += tolerance\n",
    "            else:  # If portfolio doesn't last, return previous withdrawal rate\n",
    "                return withdrawal_rate - tolerance\n",
    "\n",
    "    return {\n",
    "        'ratio':ratio, \n",
    "        'origin':(prices[-1]/prices[0]), \n",
    "        'value':security_returns[-1],\n",
    "        'beta': beta, \n",
    "        'alpha': alpha,\n",
    "        'annual_sharp_ratio': annual_sharpe_ratio,\n",
    "    }\n",
    "\n",
    "\n",
    "print(df.head(20))\n",
    "print(buy_and_sell(df.iloc[12:]))\n"
   ]
  },
  {
   "cell_type": "code",
   "execution_count": 36,
   "metadata": {},
   "outputs": [
    {
     "ename": "AttributeError",
     "evalue": "'Series' object has no attribute 'value'",
     "output_type": "error",
     "traceback": [
      "\u001b[0;31m---------------------------------------------------------------------------\u001b[0m",
      "\u001b[0;31mAttributeError\u001b[0m                            Traceback (most recent call last)",
      "\u001b[0;32m/var/folders/ls/5qzq87350jz6pv6jwnpg6mkm0000gn/T/ipykernel_35832/2867857828.py\u001b[0m in \u001b[0;36m?\u001b[0;34m()\u001b[0m\n\u001b[0;32m----> 1\u001b[0;31m \u001b[0marr\u001b[0m \u001b[0;34m=\u001b[0m \u001b[0mdf\u001b[0m\u001b[0;34m[\u001b[0m\u001b[0;34m'Close'\u001b[0m\u001b[0;34m]\u001b[0m\u001b[0;34m.\u001b[0m\u001b[0mvalue\u001b[0m\u001b[0;34m\u001b[0m\u001b[0;34m\u001b[0m\u001b[0m\n\u001b[0m\u001b[1;32m      2\u001b[0m \u001b[0;34m(\u001b[0m\u001b[0marr\u001b[0m \u001b[0;34m/\u001b[0m \u001b[0marr\u001b[0m\u001b[0;34m[\u001b[0m\u001b[0;36m0\u001b[0m\u001b[0;34m]\u001b[0m\u001b[0;34m)\u001b[0m\u001b[0;34m[\u001b[0m\u001b[0;34m:\u001b[0m\u001b[0;36m3\u001b[0m\u001b[0;34m]\u001b[0m\u001b[0;34m\u001b[0m\u001b[0;34m\u001b[0m\u001b[0m\n",
      "\u001b[0;32m~/Documents/codes/python-notebook/venv/lib/python3.9/site-packages/pandas/core/generic.py\u001b[0m in \u001b[0;36m?\u001b[0;34m(self, name)\u001b[0m\n\u001b[1;32m   6295\u001b[0m             \u001b[0;32mand\u001b[0m \u001b[0mname\u001b[0m \u001b[0;32mnot\u001b[0m \u001b[0;32min\u001b[0m \u001b[0mself\u001b[0m\u001b[0;34m.\u001b[0m\u001b[0m_accessors\u001b[0m\u001b[0;34m\u001b[0m\u001b[0;34m\u001b[0m\u001b[0m\n\u001b[1;32m   6296\u001b[0m             \u001b[0;32mand\u001b[0m \u001b[0mself\u001b[0m\u001b[0;34m.\u001b[0m\u001b[0m_info_axis\u001b[0m\u001b[0;34m.\u001b[0m\u001b[0m_can_hold_identifiers_and_holds_name\u001b[0m\u001b[0;34m(\u001b[0m\u001b[0mname\u001b[0m\u001b[0;34m)\u001b[0m\u001b[0;34m\u001b[0m\u001b[0;34m\u001b[0m\u001b[0m\n\u001b[1;32m   6297\u001b[0m         ):\n\u001b[1;32m   6298\u001b[0m             \u001b[0;32mreturn\u001b[0m \u001b[0mself\u001b[0m\u001b[0;34m[\u001b[0m\u001b[0mname\u001b[0m\u001b[0;34m]\u001b[0m\u001b[0;34m\u001b[0m\u001b[0;34m\u001b[0m\u001b[0m\n\u001b[0;32m-> 6299\u001b[0;31m         \u001b[0;32mreturn\u001b[0m \u001b[0mobject\u001b[0m\u001b[0;34m.\u001b[0m\u001b[0m__getattribute__\u001b[0m\u001b[0;34m(\u001b[0m\u001b[0mself\u001b[0m\u001b[0;34m,\u001b[0m \u001b[0mname\u001b[0m\u001b[0;34m)\u001b[0m\u001b[0;34m\u001b[0m\u001b[0;34m\u001b[0m\u001b[0m\n\u001b[0m",
      "\u001b[0;31mAttributeError\u001b[0m: 'Series' object has no attribute 'value'"
     ]
    }
   ],
   "source": []
  },
  {
   "cell_type": "code",
   "execution_count": null,
   "metadata": {},
   "outputs": [],
   "source": []
  }
 ],
 "metadata": {
  "kernelspec": {
   "display_name": "Python 3",
   "language": "python",
   "name": "python3"
  },
  "language_info": {
   "codemirror_mode": {
    "name": "ipython",
    "version": 3
   },
   "file_extension": ".py",
   "mimetype": "text/x-python",
   "name": "python",
   "nbconvert_exporter": "python",
   "pygments_lexer": "ipython3",
   "version": "3.9.6"
  }
 },
 "nbformat": 4,
 "nbformat_minor": 1
}
