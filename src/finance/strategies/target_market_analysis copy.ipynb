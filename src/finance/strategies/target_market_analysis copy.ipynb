{
 "cells": [
  {
   "cell_type": "markdown",
   "metadata": {},
   "source": [
    "# Target Market Analysis"
   ]
  },
  {
   "cell_type": "markdown",
   "metadata": {},
   "source": []
  },
  {
   "cell_type": "markdown",
   "metadata": {},
   "source": [
    "## Investment Analysis"
   ]
  },
  {
   "cell_type": "markdown",
   "metadata": {},
   "source": [
    "### House pricing increase compare"
   ]
  },
  {
   "cell_type": "code",
   "execution_count": 2,
   "metadata": {},
   "outputs": [
    {
     "name": "stdout",
     "output_type": "stream",
     "text": [
      "                 Date   Close\n",
      "0   1/5/1990 16:00:00  352.20\n",
      "1  1/12/1990 16:00:00  339.93\n",
      "2  1/19/1990 16:00:00  339.15\n",
      "3  1/26/1990 16:00:00  325.80\n",
      "4   2/2/1990 16:00:00  330.92\n"
     ]
    }
   ],
   "source": [
    "import pandas as pd\n",
    "\n",
    "def loader(ticker='SPX'):\n",
    "    return pd.read_csv('/Users/bichengwang/Documents/codes/python-notebook/src/finance/data/{} GOOGLEFINANCE.csv'.format(ticker.upper()))\n",
    "\n",
    "df = loader()\n",
    "# Now df contains your data with the 'date' column parsed as datetime objects\n",
    "print(df.head())"
   ]
  },
  {
   "cell_type": "code",
   "execution_count": null,
   "metadata": {},
   "outputs": [],
   "source": []
  },
  {
   "cell_type": "code",
   "execution_count": 3,
   "metadata": {},
   "outputs": [],
   "source": [
    "import numpy as np"
   ]
  },
  {
   "cell_type": "code",
   "execution_count": 4,
   "metadata": {},
   "outputs": [
    {
     "name": "stdout",
     "output_type": "stream",
     "text": [
      "                     Date    Close    Diff\n",
      "1776  12/22/2023 16:00:00  4754.63   35.44\n",
      "1777  12/29/2023 16:00:00  4769.83   15.20\n",
      "1778    1/5/2024 16:00:00  4697.24  -72.59\n",
      "1779   1/12/2024 16:00:00  4783.83   86.59\n",
      "1780   1/19/2024 16:00:00  4839.81   55.98\n",
      "1781   1/26/2024 16:00:00  4890.97   51.16\n",
      "1782    2/2/2024 16:00:00  4958.61   67.64\n",
      "1783    2/9/2024 16:00:00  5026.61   68.00\n",
      "1784   2/16/2024 16:00:00  5005.57  -21.04\n",
      "1785   2/23/2024 16:00:00  5088.80   83.23\n",
      "1786    3/1/2024 16:00:00  5137.08   48.28\n",
      "1787    3/8/2024 16:00:00  5123.69  -13.39\n",
      "1788   3/15/2024 16:00:00  5117.09   -6.60\n",
      "1789   3/22/2024 16:00:00  5234.18  117.09\n",
      "1790   3/28/2024 16:00:00  5254.35   20.17\n",
      "1791    4/5/2024 16:00:00  5204.34  -50.01\n",
      "1792   4/12/2024 16:00:00  5123.41  -80.93\n",
      "1793   4/19/2024 16:00:00  4967.23 -156.18\n",
      "1794   4/26/2024 16:00:00  5099.96  132.73\n",
      "1795    5/3/2024 16:00:00  5127.79   27.83\n",
      "{'ratio': 0.32983918700009845, 'origin': 15.084397246572925, 'value': 4.975425324196137, 'beta': 0.32560251804654844, 'alpha': 0.7480200071937413, 'annual_sharp_ratio': 8.678298325143066, 'latest_recommand': ['Hold', 'Hold', 'Hold', 'Hold', 'Hold', 'Hold', 'Buy', 'Hold', 'Sell', 'Hold']}\n"
     ]
    },
    {
     "name": "stderr",
     "output_type": "stream",
     "text": [
      "/var/folders/ls/5qzq87350jz6pv6jwnpg6mkm0000gn/T/ipykernel_41216/1730280971.py:9: SettingWithCopyWarning: \n",
      "A value is trying to be set on a copy of a slice from a DataFrame.\n",
      "Try using .loc[row_indexer,col_indexer] = value instead\n",
      "\n",
      "See the caveats in the documentation: https://pandas.pydata.org/pandas-docs/stable/user_guide/indexing.html#returning-a-view-versus-a-copy\n",
      "  df['Moving_Average'] = df['Close'].rolling(window=span).mean()\n",
      "/var/folders/ls/5qzq87350jz6pv6jwnpg6mkm0000gn/T/ipykernel_41216/1730280971.py:10: SettingWithCopyWarning: \n",
      "A value is trying to be set on a copy of a slice from a DataFrame.\n",
      "Try using .loc[row_indexer,col_indexer] = value instead\n",
      "\n",
      "See the caveats in the documentation: https://pandas.pydata.org/pandas-docs/stable/user_guide/indexing.html#returning-a-view-versus-a-copy\n",
      "  df['EMA'] = df['Close'].ewm(span=span, adjust=False).mean()\n",
      "/var/folders/ls/5qzq87350jz6pv6jwnpg6mkm0000gn/T/ipykernel_41216/1730280971.py:11: SettingWithCopyWarning: \n",
      "A value is trying to be set on a copy of a slice from a DataFrame.\n",
      "Try using .loc[row_indexer,col_indexer] = value instead\n",
      "\n",
      "See the caveats in the documentation: https://pandas.pydata.org/pandas-docs/stable/user_guide/indexing.html#returning-a-view-versus-a-copy\n",
      "  df['Mark'] = df['Close'] > df['EMA']\n"
     ]
    }
   ],
   "source": [
    "df['Diff'] = df['Close'] - df['Close'].shift(1)\n",
    "# 300, 310, 305 -> \n",
    "# NaN, 300, 310 -> \n",
    "# agent() -> \n",
    "\n",
    "def buy_and_sell(df, annual_risk_free_rate=0.06, span=4):\n",
    "    # span lookback weeks\n",
    "    # risk free rate\n",
    "    df['Moving_Average'] = df['Close'].rolling(window=span).mean()\n",
    "    df['EMA'] = df['Close'].ewm(span=span, adjust=False).mean()\n",
    "    df['Mark'] = df['Close'] > df['EMA']\n",
    "    marks = df['Mark'].values\n",
    "    curr = marks[0]\n",
    "    prices = df['Close'].values\n",
    "    spx_returns = (df['Close'] / prices[0]).values\n",
    "    base = 1.\n",
    "    share = 0.\n",
    "    security_returns = []\n",
    "    strategy = []\n",
    "    ### buy in strategy\n",
    "    for mark, price in zip(marks, prices):\n",
    "        if mark != curr:\n",
    "            if not mark:\n",
    "                share += base / price\n",
    "                base = 0.\n",
    "                strategy.append('Buy')\n",
    "            else:\n",
    "                base += share * price\n",
    "                share = 0.\n",
    "                strategy.append('Sell')\n",
    "        else:\n",
    "            strategy.append('Hold')\n",
    "        curr = mark\n",
    "        security_returns.append(base + share * price)\n",
    "    ratio = (base + share * prices[-1]) / (prices[-1] / prices[0])\n",
    "\n",
    "    # Calculate the mean returns\n",
    "    security_mean_return = np.mean(security_returns)\n",
    "    spx_mean_return = np.mean(spx_returns)\n",
    "\n",
    "    # Calculate the covariance and variance of returns\n",
    "    covariance = np.cov(security_returns, spx_returns)[0, 1]\n",
    "    variance_spx = np.var(spx_returns)\n",
    "\n",
    "    # Calculate beta\n",
    "    beta = covariance / variance_spx\n",
    "\n",
    "    # Calculate alpha\n",
    "    alpha = security_mean_return - (beta * spx_mean_return)\n",
    "\n",
    "    # Calculate the excess return of the security over the risk-free rate\n",
    "    # Sample weekly returns of the security and risk-free rate\n",
    "    annual_security_returns =  np.array([y/x for x, y in zip(security_returns[:-52], security_returns[52:])])\n",
    "\n",
    "    # Calculate the excess return of the security over the risk-free rate\n",
    "    excess_returns = annual_security_returns - annual_risk_free_rate\n",
    "\n",
    "    # Calculate the annualized average excess return\n",
    "    annualized_excess_return = np.mean(excess_returns)  # Approximate number of weeks in a year\n",
    "\n",
    "    # Calculate the annualized standard deviation of returns\n",
    "    annualized_std_dev = np.std(annual_security_returns) # Approximate number of weeks in a year\n",
    "\n",
    "    # Calculate the annual Sharpe Ratio\n",
    "    annual_sharpe_ratio = annualized_excess_return / annualized_std_dev\n",
    "\n",
    "    def calculate_maximum_withdrawal_rate(weekly_returns, target_years, tolerance=1e-6):\n",
    "        withdrawal_rate = 0.01  # Starting withdrawal rate\n",
    "        while True:\n",
    "            # Calculate portfolio balance after target_years with current withdrawal rate\n",
    "            balance = calculate_portfolio_balance(weekly_returns, withdrawal_rate)\n",
    "            if balance > 0:  # If portfolio lasts for target_years, reduce withdrawal rate\n",
    "                withdrawal_rate += tolerance\n",
    "            else:  # If portfolio doesn't last, return previous withdrawal rate\n",
    "                return withdrawal_rate - tolerance\n",
    "\n",
    "    return {\n",
    "        'ratio':ratio, \n",
    "        'origin':(prices[-1]/prices[0]), \n",
    "        'value':security_returns[-1],\n",
    "        'beta': beta, \n",
    "        'alpha': alpha,\n",
    "        'annual_sharp_ratio': annual_sharpe_ratio,\n",
    "        'latest_recommand': strategy[-10:]\n",
    "    }\n",
    "\n",
    "\n",
    "print(df.tail(20))\n",
    "print(buy_and_sell(df.iloc[12:]))\n",
    "\n"
   ]
  },
  {
   "cell_type": "code",
   "execution_count": 5,
   "metadata": {},
   "outputs": [
    {
     "data": {
      "text/plain": [
       "{'ratio': 0.33163908828838556,\n",
       " 'origin': 15.002529858210272,\n",
       " 'value': 4.975425324196137,\n",
       " 'beta': 0.32595653823983367,\n",
       " 'alpha': 0.746708608850416,\n",
       " 'annual_sharp_ratio': 8.676340962574303,\n",
       " 'latest_recommand': ['Hold',\n",
       "  'Hold',\n",
       "  'Hold',\n",
       "  'Hold',\n",
       "  'Hold',\n",
       "  'Hold',\n",
       "  'Hold',\n",
       "  'Buy',\n",
       "  'Hold',\n",
       "  'Sell']}"
      ]
     },
     "execution_count": 5,
     "metadata": {},
     "output_type": "execute_result"
    }
   ],
   "source": [
    "{'ratio': 0.2009051019811337, 'origin': 15.002529858210272, 'value': 3.014084791138738, 'beta': 0.11909202741528965, 'alpha': 1.3269781290650928, 'annual_sharp_ratio': 9.085094808947634, 'latest_recommand': ['Hold', 'Hold', 'Hold', 'Hold', 'Hold', 'Hold', 'Hold', 'Sell', 'Hold', 'Buy']}\n",
    "{'ratio': 0.33163908828838556, 'origin': 15.002529858210272, 'value': 4.975425324196137, 'beta': 0.32595653823983367, 'alpha': 0.746708608850416, 'annual_sharp_ratio': 8.676340962574303, 'latest_recommand': ['Hold', 'Hold', 'Hold', 'Hold', 'Hold', 'Hold', 'Hold', 'Buy', 'Hold', 'Sell']}\n",
    "\n"
   ]
  },
  {
   "cell_type": "code",
   "execution_count": 6,
   "metadata": {},
   "outputs": [],
   "source": [
    "df = loader('TQQQ')"
   ]
  },
  {
   "cell_type": "code",
   "execution_count": 7,
   "metadata": {},
   "outputs": [
    {
     "name": "stdout",
     "output_type": "stream",
     "text": [
      "                    Date  Close  Diff\n",
      "723  12/22/2023 16:00:00  50.35  1.11\n",
      "724  12/29/2023 16:00:00  50.70  0.35\n",
      "725    1/5/2024 16:00:00  45.98 -4.72\n",
      "726   1/12/2024 16:00:00  50.34  4.36\n",
      "727   1/19/2024 16:00:00  54.54  4.20\n",
      "728   1/26/2024 16:00:00  55.44  0.90\n",
      "729    2/2/2024 16:00:00  57.24  1.80\n",
      "730    2/9/2024 16:00:00  60.27  3.03\n",
      "731   2/16/2024 16:00:00  57.41 -2.86\n",
      "732   2/23/2024 16:00:00  59.62  2.21\n",
      "733    3/1/2024 16:00:00  63.13  3.51\n",
      "734    3/8/2024 16:00:00  60.06 -3.07\n",
      "735   3/15/2024 16:00:00  57.76 -2.30\n",
      "736   3/22/2024 16:00:00  62.63  4.87\n",
      "737   3/28/2024 16:00:00  61.56 -1.07\n",
      "738    4/5/2024 16:00:00  59.86 -1.70\n",
      "739   4/12/2024 16:00:00  58.72 -1.14\n",
      "740   4/19/2024 16:00:00  49.48 -9.24\n",
      "741   4/26/2024 16:00:00  55.28  5.80\n",
      "742    5/3/2024 16:00:00  56.70  1.42\n",
      "{'ratio': 0.07915371322276353, 'origin': 118.12500000000001, 'value': 9.350032374438943, 'beta': 0.07161197762916727, 'alpha': 2.9955889329097336, 'annual_sharp_ratio': 3.072658621435376, 'latest_recommand': ['Hold', 'Buy', 'Hold', 'Sell', 'Hold', 'Buy', 'Hold', 'Hold', 'Hold', 'Sell']}\n"
     ]
    },
    {
     "name": "stderr",
     "output_type": "stream",
     "text": [
      "/var/folders/ls/5qzq87350jz6pv6jwnpg6mkm0000gn/T/ipykernel_41216/1730280971.py:9: SettingWithCopyWarning: \n",
      "A value is trying to be set on a copy of a slice from a DataFrame.\n",
      "Try using .loc[row_indexer,col_indexer] = value instead\n",
      "\n",
      "See the caveats in the documentation: https://pandas.pydata.org/pandas-docs/stable/user_guide/indexing.html#returning-a-view-versus-a-copy\n",
      "  df['Moving_Average'] = df['Close'].rolling(window=span).mean()\n",
      "/var/folders/ls/5qzq87350jz6pv6jwnpg6mkm0000gn/T/ipykernel_41216/1730280971.py:10: SettingWithCopyWarning: \n",
      "A value is trying to be set on a copy of a slice from a DataFrame.\n",
      "Try using .loc[row_indexer,col_indexer] = value instead\n",
      "\n",
      "See the caveats in the documentation: https://pandas.pydata.org/pandas-docs/stable/user_guide/indexing.html#returning-a-view-versus-a-copy\n",
      "  df['EMA'] = df['Close'].ewm(span=span, adjust=False).mean()\n",
      "/var/folders/ls/5qzq87350jz6pv6jwnpg6mkm0000gn/T/ipykernel_41216/1730280971.py:11: SettingWithCopyWarning: \n",
      "A value is trying to be set on a copy of a slice from a DataFrame.\n",
      "Try using .loc[row_indexer,col_indexer] = value instead\n",
      "\n",
      "See the caveats in the documentation: https://pandas.pydata.org/pandas-docs/stable/user_guide/indexing.html#returning-a-view-versus-a-copy\n",
      "  df['Mark'] = df['Close'] > df['EMA']\n"
     ]
    }
   ],
   "source": [
    "df['Diff'] = df['Close'] - df['Close'].shift(1)\n",
    "\n",
    "def hold_no_sell(df, annual_risk_free_rate=0.06, span=4):\n",
    "    # span lookback weeks\n",
    "    # risk free rate\n",
    "    df['Moving_Average'] = df['Close'].rolling(window=span).mean()\n",
    "    df['EMA'] = df['Close'].ewm(span=span, adjust=False).mean()\n",
    "    df['Mark'] = df['Close'] > df['EMA']\n",
    "    marks = df['Mark'].values\n",
    "    curr = marks[0]\n",
    "    prices = df['Close'].values\n",
    "    spx_returns = (df['Close'] / prices[0]).values\n",
    "    base = 1.\n",
    "    share = 0.\n",
    "    security_returns = []\n",
    "    strategy = []\n",
    "    ### buy in strategy\n",
    "    for mark, price in zip(marks, prices):\n",
    "        if mark != curr:\n",
    "            if not mark:\n",
    "                share += base / price\n",
    "                base = 0.\n",
    "                strategy.append('Buy')\n",
    "            else:\n",
    "                base += share * price\n",
    "                share = 0.\n",
    "                strategy.append('Sell')\n",
    "        else:\n",
    "            strategy.append('Hold')\n",
    "        curr = mark\n",
    "        security_returns.append(base + share * price)\n",
    "    ratio = (base + share * prices[-1]) / (prices[-1] / prices[0])\n",
    "\n",
    "    # Calculate the mean returns\n",
    "    security_mean_return = np.mean(security_returns)\n",
    "    spx_mean_return = np.mean(spx_returns)\n",
    "\n",
    "    # Calculate the covariance and variance of returns\n",
    "    covariance = np.cov(security_returns, spx_returns)[0, 1]\n",
    "    variance_spx = np.var(spx_returns)\n",
    "\n",
    "    # Calculate beta\n",
    "    beta = covariance / variance_spx\n",
    "\n",
    "    # Calculate alpha\n",
    "    alpha = security_mean_return - (beta * spx_mean_return)\n",
    "\n",
    "    # Calculate the excess return of the security over the risk-free rate\n",
    "    # Sample weekly returns of the security and risk-free rate\n",
    "    annual_security_returns =  np.array([y/x for x, y in zip(security_returns[:-52], security_returns[52:])])\n",
    "\n",
    "    # Calculate the excess return of the security over the risk-free rate\n",
    "    excess_returns = annual_security_returns - annual_risk_free_rate\n",
    "\n",
    "    # Calculate the annualized average excess return\n",
    "    annualized_excess_return = np.mean(excess_returns)  # Approximate number of weeks in a year\n",
    "\n",
    "    # Calculate the annualized standard deviation of returns\n",
    "    annualized_std_dev = np.std(annual_security_returns) # Approximate number of weeks in a year\n",
    "\n",
    "    # Calculate the annual Sharpe Ratio\n",
    "    annual_sharpe_ratio = annualized_excess_return / annualized_std_dev\n",
    "\n",
    "    def calculate_maximum_withdrawal_rate(weekly_returns, target_years, tolerance=1e-6):\n",
    "        withdrawal_rate = 0.01  # Starting withdrawal rate\n",
    "        while True:\n",
    "            # Calculate portfolio balance after target_years with current withdrawal rate\n",
    "            balance = calculate_portfolio_balance(weekly_returns, withdrawal_rate)\n",
    "            if balance > 0:  # If portfolio lasts for target_years, reduce withdrawal rate\n",
    "                withdrawal_rate += tolerance\n",
    "            else:  # If portfolio doesn't last, return previous withdrawal rate\n",
    "                return withdrawal_rate - tolerance\n",
    "\n",
    "    return {\n",
    "        'ratio':ratio, \n",
    "        'origin':(prices[-1]/prices[0]), \n",
    "        'value':security_returns[-1],\n",
    "        'beta': beta, \n",
    "        'alpha': alpha,\n",
    "        'annual_sharp_ratio': annual_sharpe_ratio,\n",
    "        'latest_recommand': strategy[-10:]\n",
    "    }\n",
    "\n",
    "\n",
    "print(df.tail(20))\n",
    "print(buy_and_sell(df.iloc[12:]))\n",
    "\n"
   ]
  },
  {
   "cell_type": "code",
   "execution_count": null,
   "metadata": {},
   "outputs": [],
   "source": []
  },
  {
   "cell_type": "code",
   "execution_count": null,
   "metadata": {},
   "outputs": [],
   "source": []
  },
  {
   "cell_type": "code",
   "execution_count": null,
   "metadata": {},
   "outputs": [],
   "source": []
  }
 ],
 "metadata": {
  "kernelspec": {
   "display_name": "Python 3",
   "language": "python",
   "name": "python3"
  },
  "language_info": {
   "codemirror_mode": {
    "name": "ipython",
    "version": 3
   },
   "file_extension": ".py",
   "mimetype": "text/x-python",
   "name": "python",
   "nbconvert_exporter": "python",
   "pygments_lexer": "ipython3",
   "version": "3.9.6"
  }
 },
 "nbformat": 4,
 "nbformat_minor": 1
}
