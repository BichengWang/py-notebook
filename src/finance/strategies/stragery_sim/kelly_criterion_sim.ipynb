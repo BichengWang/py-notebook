{
 "cells": [
  {
   "cell_type": "markdown",
   "metadata": {},
   "source": [
    "# \n",
    "https://www.youtube.com/watch?v=u-J9JLoK_Ew\n",
    "f: investment rate\n",
    "b: return rate\n",
    "p: win rate\n",
    "q: fail rate"
   ]
  },
  {
   "cell_type": "code",
   "execution_count": 9,
   "metadata": {},
   "outputs": [],
   "source": [
    "p=0.6\n",
    "q=0.4\n",
    "b = 2."
   ]
  },
  {
   "cell_type": "code",
   "execution_count": 10,
   "metadata": {},
   "outputs": [
    {
     "data": {
      "text/plain": [
       "0.39999999999999997"
      ]
     },
     "execution_count": 10,
     "metadata": {},
     "output_type": "execute_result"
    }
   ],
   "source": [
    "e = (p * b - q) / b\n",
    "e"
   ]
  },
  {
   "cell_type": "code",
   "execution_count": 37,
   "metadata": {},
   "outputs": [
    {
     "data": {
      "text/plain": [
       "<module 'sys' (built-in)>"
      ]
     },
     "execution_count": 37,
     "metadata": {},
     "output_type": "execute_result"
    }
   ],
   "source": [
    "from importlib import reload\n",
    "import sys\n",
    "import logging\n",
    "\n",
    "\n",
    "sys.path.append('D:/codes/py-notebook/src')\n",
    "reload(sys)"
   ]
  },
  {
   "cell_type": "code",
   "execution_count": 41,
   "metadata": {},
   "outputs": [
    {
     "ename": "ImportError",
     "evalue": "cannot import name 'KellyCriterionModel' from 'finance.strategies.kelly_criterion_models' (D:\\codes\\py-notebook\\src\\finance\\strategies\\kelly_criterion_models.py)",
     "output_type": "error",
     "traceback": [
      "\u001b[1;31m---------------------------------------------------------------------------\u001b[0m",
      "\u001b[1;31mImportError\u001b[0m                               Traceback (most recent call last)",
      "Cell \u001b[1;32mIn[41], line 7\u001b[0m\n\u001b[0;32m      4\u001b[0m sys\u001b[38;5;241m.\u001b[39mpath\u001b[38;5;241m.\u001b[39mappend(\u001b[38;5;124m'\u001b[39m\u001b[38;5;124mD:/codes/py-notebook/src\u001b[39m\u001b[38;5;124m'\u001b[39m)\n\u001b[0;32m      5\u001b[0m reload(sys)\n\u001b[1;32m----> 7\u001b[0m \u001b[38;5;28;01mfrom\u001b[39;00m \u001b[38;5;21;01mfinance\u001b[39;00m\u001b[38;5;21;01m.\u001b[39;00m\u001b[38;5;21;01mstrategies\u001b[39;00m\u001b[38;5;21;01m.\u001b[39;00m\u001b[38;5;21;01mkelly_criterion_models\u001b[39;00m \u001b[38;5;28;01mimport\u001b[39;00m KellyCriterionModel\n",
      "\u001b[1;31mImportError\u001b[0m: cannot import name 'KellyCriterionModel' from 'finance.strategies.kelly_criterion_models' (D:\\codes\\py-notebook\\src\\finance\\strategies\\kelly_criterion_models.py)"
     ]
    }
   ],
   "source": [
    "\n",
    "\n",
    "import sys\n",
    "from importlib import reload\n",
    "\n",
    "sys.path.append('D:/codes/py-notebook/src')\n",
    "reload(sys)\n",
    "\n",
    "from finance.strategies.kelly_criterion_models import KellyCriterionModel\n"
   ]
  },
  {
   "cell_type": "code",
   "execution_count": 14,
   "metadata": {},
   "outputs": [
    {
     "name": "stdout",
     "output_type": "stream",
     "text": [
      "Note: you may need to restart the kernel to use updated packages.\n"
     ]
    },
    {
     "name": "stderr",
     "output_type": "stream",
     "text": [
      "WARNING: Retrying (Retry(total=4, connect=None, read=None, redirect=None, status=None)) after connection broken by 'ReadTimeoutError(\"HTTPSConnectionPool(host='pypi.org', port=443): Read timed out. (read timeout=15)\")': /simple/src-finance-strategies/\n",
      "ERROR: Could not find a version that satisfies the requirement src.finance.strategies (from versions: none)\n",
      "ERROR: No matching distribution found for src.finance.strategies\n"
     ]
    },
    {
     "ename": "ModuleNotFoundError",
     "evalue": "No module named 'kelly_criterion_models'",
     "output_type": "error",
     "traceback": [
      "\u001b[1;31m---------------------------------------------------------------------------\u001b[0m",
      "\u001b[1;31mModuleNotFoundError\u001b[0m                       Traceback (most recent call last)",
      "Cell \u001b[1;32mIn[14], line 3\u001b[0m\n\u001b[0;32m      1\u001b[0m \u001b[38;5;66;03m# kelly criterion\u001b[39;00m\n\u001b[0;32m      2\u001b[0m get_ipython()\u001b[38;5;241m.\u001b[39mrun_line_magic(\u001b[38;5;124m'\u001b[39m\u001b[38;5;124mpip\u001b[39m\u001b[38;5;124m'\u001b[39m, \u001b[38;5;124m'\u001b[39m\u001b[38;5;124minstall src.finance.strategies\u001b[39m\u001b[38;5;124m'\u001b[39m)\n\u001b[1;32m----> 3\u001b[0m \u001b[38;5;28;01mfrom\u001b[39;00m \u001b[38;5;21;01mkelly_criterion_models\u001b[39;00m \u001b[38;5;28;01mimport\u001b[39;00m KellyGeneralModel\n\u001b[0;32m      4\u001b[0m km \u001b[38;5;241m=\u001b[39m KellyGeneralModel(win_possible\u001b[38;5;241m=\u001b[39m\u001b[38;5;241m0.6\u001b[39m, win_reward\u001b[38;5;241m=\u001b[39m\u001b[38;5;241m1.\u001b[39m, target_reward \u001b[38;5;241m=\u001b[39m \u001b[38;5;241m1.0\u001b[39m, target_loss \u001b[38;5;241m=\u001b[39m \u001b[38;5;241m0.0\u001b[39m, current_price\u001b[38;5;241m=\u001b[39m\u001b[38;5;241m1.0\u001b[39m)\n\u001b[0;32m      5\u001b[0m km\u001b[38;5;241m.\u001b[39mget_investment_ratio()\n",
      "\u001b[1;31mModuleNotFoundError\u001b[0m: No module named 'kelly_criterion_models'"
     ]
    }
   ],
   "source": [
    "# kelly criterion\n",
    "%pip install src.finance.strategies\n",
    "km = KellyGeneralModel(win_possible=0.6, win_reward=1., target_reward = 1.0, target_loss = 0.0, current_price=1.0)\n",
    "km.get_investment_ratio()"
   ]
  },
  {
   "cell_type": "code",
   "execution_count": null,
   "metadata": {},
   "outputs": [],
   "source": []
  }
 ],
 "metadata": {
  "kernelspec": {
   "display_name": "python-notebook",
   "language": "python",
   "name": "python3"
  },
  "language_info": {
   "codemirror_mode": {
    "name": "ipython",
    "version": 3
   },
   "file_extension": ".py",
   "mimetype": "text/x-python",
   "name": "python",
   "nbconvert_exporter": "python",
   "pygments_lexer": "ipython3",
   "version": "3.12.3"
  }
 },
 "nbformat": 4,
 "nbformat_minor": 2
}
