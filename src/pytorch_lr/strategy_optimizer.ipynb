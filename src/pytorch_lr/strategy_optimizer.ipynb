{
 "cells": [
  {
   "cell_type": "markdown",
   "id": "5c009274",
   "metadata": {},
   "source": [
    "# Pytorch Quickstart\n",
    "\n",
    "https://pytorch.org/tutorials/beginner/basics/quickstart_tutorial.html"
   ]
  },
  {
   "cell_type": "markdown",
   "id": "46131a4e",
   "metadata": {},
   "source": [
    "## Input Sample"
   ]
  },
  {
   "cell_type": "code",
   "execution_count": 1,
   "id": "95177eee",
   "metadata": {},
   "outputs": [
    {
     "name": "stdout",
     "output_type": "stream",
     "text": [
      "DataFrame:\n",
      "    feature1  feature2  feature3\n",
      "0       1.0       5.0       9.0\n",
      "1       2.0       6.0      10.0\n",
      "2       3.0       7.0      11.0\n",
      "3       4.0       8.0      12.0\n",
      "NumPy Array:\n",
      " [[ 1.  5.  9.]\n",
      " [ 2.  6. 10.]\n",
      " [ 3.  7. 11.]\n",
      " [ 4.  8. 12.]]\n",
      "PyTorch Tensor:\n",
      " tensor([[ 1.,  5.,  9.],\n",
      "        [ 2.,  6., 10.],\n",
      "        [ 3.,  7., 11.],\n",
      "        [ 4.,  8., 12.]])\n"
     ]
    }
   ],
   "source": [
    "import pandas as pd\n",
    "import torch\n",
    "\n",
    "data = {\n",
    "    'feature1': [1.0, 2.0, 3.0, 4.0],\n",
    "    'feature2': [5.0, 6.0, 7.0, 8.0],\n",
    "    'feature3': [9.0, 10.0, 11.0, 12.0]\n",
    "}\n",
    "\n",
    "df = pd.DataFrame(data)\n",
    "print(\"DataFrame:\\n\", df)\n",
    "\n",
    "numpy_array = df.values\n",
    "print(\"NumPy Array:\\n\", numpy_array)\n",
    "\n",
    "tensor = torch.tensor(numpy_array, dtype=torch.float32)\n",
    "print(\"PyTorch Tensor:\\n\", tensor)\n"
   ]
  },
  {
   "cell_type": "code",
   "execution_count": 2,
   "id": "3ef5e2a4",
   "metadata": {},
   "outputs": [],
   "source": [
    "import torch"
   ]
  },
  {
   "cell_type": "code",
   "execution_count": 3,
   "id": "d7581184",
   "metadata": {},
   "outputs": [
    {
     "name": "stdout",
     "output_type": "stream",
     "text": [
      "tensor([[0.7934, 0.4895, 0.0391],\n",
      "        [0.3918, 0.1688, 0.2176],\n",
      "        [0.2507, 0.8673, 0.1237],\n",
      "        [0.5866, 0.4674, 0.9257],\n",
      "        [0.7513, 0.8348, 0.1053]])\n"
     ]
    }
   ],
   "source": [
    "x = torch.rand(5, 3)\n",
    "print(x)"
   ]
  },
  {
   "cell_type": "code",
   "execution_count": 4,
   "id": "49289116",
   "metadata": {},
   "outputs": [
    {
     "data": {
      "text/plain": [
       "False"
      ]
     },
     "execution_count": 4,
     "metadata": {},
     "output_type": "execute_result"
    }
   ],
   "source": [
    "torch.cuda.is_available()"
   ]
  },
  {
   "cell_type": "code",
   "execution_count": 5,
   "id": "2e7f7730",
   "metadata": {},
   "outputs": [],
   "source": [
    "import torch\n",
    "from torch import nn\n",
    "from torch.utils.data import DataLoader\n",
    "from torchvision import datasets\n",
    "from torchvision.transforms import ToTensor"
   ]
  },
  {
   "cell_type": "code",
   "execution_count": 6,
   "id": "8f108dd3",
   "metadata": {
    "scrolled": false
   },
   "outputs": [],
   "source": [
    "# Download training data from open datasets.\n",
    "training_data = datasets.FashionMNIST(\n",
    "    root=\"../../data\",\n",
    "    train=True,\n",
    "    download=True,\n",
    "    transform=ToTensor(),\n",
    ")\n",
    "\n",
    "# Download test data from open datasets.\n",
    "test_data = datasets.FashionMNIST(\n",
    "    root=\"../../data\",\n",
    "    train=False,\n",
    "    download=True,\n",
    "    transform=ToTensor(),\n",
    ")"
   ]
  },
  {
   "cell_type": "code",
   "execution_count": 7,
   "id": "c19a9716",
   "metadata": {},
   "outputs": [
    {
     "data": {
      "text/plain": [
       "Dataset FashionMNIST\n",
       "    Number of datapoints: 60000\n",
       "    Root location: ../../data\n",
       "    Split: Train\n",
       "    StandardTransform\n",
       "Transform: ToTensor()"
      ]
     },
     "execution_count": 7,
     "metadata": {},
     "output_type": "execute_result"
    }
   ],
   "source": [
    "training_data"
   ]
  },
  {
   "cell_type": "code",
   "execution_count": 8,
   "id": "d955789e",
   "metadata": {},
   "outputs": [
    {
     "name": "stdout",
     "output_type": "stream",
     "text": [
      "Shape of X [N, C, H, W]: torch.Size([64, 1, 28, 28])\n",
      "Shape of y: torch.Size([64]) torch.int64\n"
     ]
    }
   ],
   "source": [
    "batch_size = 64\n",
    "\n",
    "# Create data loaders.\n",
    "train_dataloader = DataLoader(training_data, batch_size=batch_size)\n",
    "test_dataloader = DataLoader(test_data, batch_size=batch_size)\n",
    "\n",
    "for X, y in test_dataloader:\n",
    "    print(f\"Shape of X [N, C, H, W]: {X.shape}\")\n",
    "    print(f\"Shape of y: {y.shape} {y.dtype}\")\n",
    "    break"
   ]
  },
  {
   "cell_type": "code",
   "execution_count": 32,
   "id": "b929fad0",
   "metadata": {},
   "outputs": [
    {
     "name": "stdout",
     "output_type": "stream",
     "text": [
      "Batch features:\n",
      " tensor([[ 2.,  6., 10., 10.],\n",
      "        [ 1.,  5.,  9.,  9.],\n",
      "        [ 3.,  7., 11., 11.],\n",
      "        [ 4.,  8., 12., 12.]])\n",
      "Batch labels:\n",
      " tensor([1.0000, 0.2000, 0.0000, 0.9000])\n",
      "Batch features:\n",
      " tensor([[ 4.,  8., 12., 12.],\n",
      "        [ 3.,  7., 11., 11.],\n",
      "        [ 2.,  6., 10., 10.],\n",
      "        [ 1.,  5.,  9.,  9.]])\n",
      "Batch labels:\n",
      " tensor([1.0000, 0.1000, 0.8000, 0.0000])\n"
     ]
    }
   ],
   "source": [
    "import pandas as pd\n",
    "import torch\n",
    "from torch.utils.data import Dataset, DataLoader\n",
    "\n",
    "# Step 1: Create a sample DataFrame\n",
    "data = pd.DataFrame({\n",
    "    'feature1': [1.0, 2.0, 3.0, 4.0, 1.0, 2.0, 3.0, 4.0],\n",
    "    'feature2': [5.0, 6.0, 7.0, 8.0, 5.0, 6.0, 7.0, 8.0],\n",
    "    'feature3': [9.0, 10.0, 11.0, 12.0, 9.0, 10.0, 11.0, 12.0],\n",
    "    'feature4': [9.0, 10.0, 11.0, 12.0, 9.0, 10.0, 11.0, 12.0],\n",
    "    'label': [0., 1., 0., 1., 0.2, 0.8, 0.1, 0.9]\n",
    "})\n",
    "\n",
    "test_data =pd.DataFrame({\n",
    "    'feature1': [1.0, 2.0, 3.0, 4.0, 1.0, 2.0, 3.0, 4.0],\n",
    "    'feature2': [5.0, 6.0, 7.0, 8.0, 5.0, 6.0, 7.0, 8.0],\n",
    "    'feature3': [9.0, 10.0, 11.0, 12.0, 9.0, 10.0, 11.0, 12.0],\n",
    "    'feature4': [9.0, 10.0, 11.0, 12.0, 9.0, 10.0, 11.0, 12.0],\n",
    "    'label': [0.1, .9, 0.2, .8, 0.2, 0.8, 0.1, 0.9]\n",
    "})\n",
    "\n",
    "# Step 2: Define a custom dataset class\n",
    "class CustomDataset(Dataset):\n",
    "    def __init__(self, dataframe):\n",
    "        self.dataframe = dataframe\n",
    "        self.features = torch.tensor(dataframe.iloc[:, :-1].values, dtype=torch.float32)  # Assuming last column is the label\n",
    "        self.labels = torch.tensor(dataframe.iloc[:, -1].values, dtype=torch.float32)  # Assuming labels are float\n",
    "\n",
    "    def __len__(self):\n",
    "        return len(self.dataframe)\n",
    "\n",
    "    def __getitem__(self, idx):\n",
    "        return self.features[idx], self.labels[idx]\n",
    "\n",
    "# Step 3: Create an instance of the dataset and DataLoader\n",
    "batch_size = 4  # Define your batch size\n",
    "\n",
    "\n",
    "# dataset = CustomDataset(data)\n",
    "train_dataloader = DataLoader(CustomDataset(data), batch_size=batch_size, shuffle=True)\n",
    "test_dataloader = DataLoader(CustomDataset(test_data), batch_size=batch_size, shuffle=True)\n",
    "\n",
    "# Step 4: Iterate through the DataLoader and check the batches\n",
    "for batch_features, batch_labels in train_dataloader:\n",
    "    print(\"Batch features:\\n\", batch_features)\n",
    "    print(\"Batch labels:\\n\", batch_labels)\n"
   ]
  },
  {
   "cell_type": "markdown",
   "id": "d35b5458",
   "metadata": {},
   "source": [
    "## Create Models"
   ]
  },
  {
   "cell_type": "code",
   "execution_count": 110,
   "id": "6fb60a30",
   "metadata": {},
   "outputs": [
    {
     "name": "stdout",
     "output_type": "stream",
     "text": [
      "Using cpu device\n",
      "NeuralNetwork(\n",
      "  (fc1): Linear(in_features=4, out_features=8, bias=True)\n",
      "  (fc2): Linear(in_features=8, out_features=8, bias=True)\n",
      "  (fc3): Linear(in_features=8, out_features=1, bias=True)\n",
      "  (output): Sigmoid()\n",
      "  (relu): ReLU()\n",
      ")\n"
     ]
    }
   ],
   "source": [
    "# Get cpu or gpu device for training.\n",
    "device = \"cuda\" if torch.cuda.is_available() else \"cpu\"\n",
    "print(f\"Using {device} device\")\n",
    "\n",
    "\n",
    "# Define the neural network architecture\n",
    "class NeuralNetwork(nn.Module):\n",
    "    def __init__(self, input_dim=4, hidden_dim=8):\n",
    "        super().__init__()\n",
    "        self.fc1 = nn.Linear(input_dim, hidden_dim)\n",
    "        self.fc2 = nn.Linear(hidden_dim, hidden_dim)\n",
    "        self.fc3 = nn.Linear(hidden_dim, 1)\n",
    "        self.output = nn.Sigmoid()\n",
    "        self.relu = nn.ReLU()\n",
    "\n",
    "    def forward(self, x):\n",
    "        x = self.relu(self.fc1(x))\n",
    "        x = self.relu(self.fc2(x))\n",
    "        x = self.output(self.fc3(x))\n",
    "        return x\n",
    "\n",
    "# class DistNeuralNetwork(nn.Module):\n",
    "#     def __init__(self, input_size, hidden_size):\n",
    "#         super(NeuralNetwork, self).__init__()\n",
    "#         self.fc1 = nn.Linear(input_size, hidden_size)\n",
    "#         self.fc2 = nn.Linear(hidden_size, hidden_size)\n",
    "#         self.mean = nn.Linear(hidden_size, 1)\n",
    "#         self.log_var = nn.Linear(hidden_size, 1)\n",
    "#         self.relu = nn.ReLU()\n",
    "\n",
    "#     def forward(self, x):\n",
    "#         x = self.relu(self.fc1(x))\n",
    "#         x = self.relu(self.fc2(x))\n",
    "#         return x\n",
    "\n",
    "model = NeuralNetwork().to(device)\n",
    "print(model)"
   ]
  },
  {
   "cell_type": "code",
   "execution_count": 111,
   "id": "67b0e8e4",
   "metadata": {},
   "outputs": [
    {
     "data": {
      "image/svg+xml": [
       "<?xml version=\"1.0\" encoding=\"UTF-8\" standalone=\"no\"?>\n",
       "<!DOCTYPE svg PUBLIC \"-//W3C//DTD SVG 1.1//EN\"\n",
       " \"http://www.w3.org/Graphics/SVG/1.1/DTD/svg11.dtd\">\n",
       "<!-- Generated by graphviz version 11.0.0 (20240428.1522)\n",
       " -->\n",
       "<!-- Pages: 1 -->\n",
       "<svg width=\"408pt\" height=\"628pt\"\n",
       " viewBox=\"0.00 0.00 408.00 628.00\" xmlns=\"http://www.w3.org/2000/svg\" xmlns:xlink=\"http://www.w3.org/1999/xlink\">\n",
       "<g id=\"graph0\" class=\"graph\" transform=\"scale(1 1) rotate(0) translate(4 624)\">\n",
       "<polygon fill=\"white\" stroke=\"none\" points=\"-4,4 -4,-624 404,-624 404,4 -4,4\"/>\n",
       "<!-- 5894316256 -->\n",
       "<g id=\"node1\" class=\"node\">\n",
       "<title>5894316256</title>\n",
       "<polygon fill=\"#caff70\" stroke=\"black\" points=\"228,-32.75 158,-32.75 158,0 228,0 228,-32.75\"/>\n",
       "<text text-anchor=\"middle\" x=\"193\" y=\"-7.25\" font-family=\"monospace\" font-size=\"10.00\"> (128, 1)</text>\n",
       "</g>\n",
       "<!-- 5617838832 -->\n",
       "<g id=\"node2\" class=\"node\">\n",
       "<title>5617838832</title>\n",
       "<polygon fill=\"lightgrey\" stroke=\"black\" points=\"249,-89.5 137,-89.5 137,-68.75 249,-68.75 249,-89.5\"/>\n",
       "<text text-anchor=\"middle\" x=\"193\" y=\"-76\" font-family=\"monospace\" font-size=\"10.00\">SigmoidBackward0</text>\n",
       "</g>\n",
       "<!-- 5617838832&#45;&gt;5894316256 -->\n",
       "<g id=\"edge21\" class=\"edge\">\n",
       "<title>5617838832&#45;&gt;5894316256</title>\n",
       "<path fill=\"none\" stroke=\"black\" d=\"M193,-68.36C193,-61.89 193,-53.05 193,-44.55\"/>\n",
       "<polygon fill=\"black\" stroke=\"black\" points=\"196.5,-44.55 193,-34.55 189.5,-44.55 196.5,-44.55\"/>\n",
       "</g>\n",
       "<!-- 5617836096 -->\n",
       "<g id=\"node3\" class=\"node\">\n",
       "<title>5617836096</title>\n",
       "<polygon fill=\"lightgrey\" stroke=\"black\" points=\"243,-146.25 143,-146.25 143,-125.5 243,-125.5 243,-146.25\"/>\n",
       "<text text-anchor=\"middle\" x=\"193\" y=\"-132.75\" font-family=\"monospace\" font-size=\"10.00\">AddmmBackward0</text>\n",
       "</g>\n",
       "<!-- 5617836096&#45;&gt;5617838832 -->\n",
       "<g id=\"edge1\" class=\"edge\">\n",
       "<title>5617836096&#45;&gt;5617838832</title>\n",
       "<path fill=\"none\" stroke=\"black\" d=\"M193,-125.09C193,-118.47 193,-109.47 193,-101.27\"/>\n",
       "<polygon fill=\"black\" stroke=\"black\" points=\"196.5,-101.34 193,-91.34 189.5,-101.34 196.5,-101.34\"/>\n",
       "</g>\n",
       "<!-- 5617837056 -->\n",
       "<g id=\"node4\" class=\"node\">\n",
       "<title>5617837056</title>\n",
       "<polygon fill=\"lightgrey\" stroke=\"black\" points=\"128,-203 28,-203 28,-182.25 128,-182.25 128,-203\"/>\n",
       "<text text-anchor=\"middle\" x=\"78\" y=\"-189.5\" font-family=\"monospace\" font-size=\"10.00\">AccumulateGrad</text>\n",
       "</g>\n",
       "<!-- 5617837056&#45;&gt;5617836096 -->\n",
       "<g id=\"edge2\" class=\"edge\">\n",
       "<title>5617837056&#45;&gt;5617836096</title>\n",
       "<path fill=\"none\" stroke=\"black\" d=\"M98.56,-181.84C116.3,-173.39 142.18,-161.07 162.37,-151.46\"/>\n",
       "<polygon fill=\"black\" stroke=\"black\" points=\"163.73,-154.69 171.25,-147.23 160.72,-148.37 163.73,-154.69\"/>\n",
       "</g>\n",
       "<!-- 5894196176 -->\n",
       "<g id=\"node5\" class=\"node\">\n",
       "<title>5894196176</title>\n",
       "<polygon fill=\"lightblue\" stroke=\"black\" points=\"110,-272.5 46,-272.5 46,-239 110,-239 110,-272.5\"/>\n",
       "<text text-anchor=\"middle\" x=\"78\" y=\"-259\" font-family=\"monospace\" font-size=\"10.00\">fc3.bias</text>\n",
       "<text text-anchor=\"middle\" x=\"78\" y=\"-246.25\" font-family=\"monospace\" font-size=\"10.00\"> (1)</text>\n",
       "</g>\n",
       "<!-- 5894196176&#45;&gt;5617837056 -->\n",
       "<g id=\"edge3\" class=\"edge\">\n",
       "<title>5894196176&#45;&gt;5617837056</title>\n",
       "<path fill=\"none\" stroke=\"black\" d=\"M78,-238.69C78,-231.35 78,-222.57 78,-214.71\"/>\n",
       "<polygon fill=\"black\" stroke=\"black\" points=\"81.5,-214.98 78,-204.98 74.5,-214.98 81.5,-214.98\"/>\n",
       "</g>\n",
       "<!-- 5894285296 -->\n",
       "<g id=\"node6\" class=\"node\">\n",
       "<title>5894285296</title>\n",
       "<polygon fill=\"lightgrey\" stroke=\"black\" points=\"240,-203 146,-203 146,-182.25 240,-182.25 240,-203\"/>\n",
       "<text text-anchor=\"middle\" x=\"193\" y=\"-189.5\" font-family=\"monospace\" font-size=\"10.00\">ReluBackward0</text>\n",
       "</g>\n",
       "<!-- 5894285296&#45;&gt;5617836096 -->\n",
       "<g id=\"edge4\" class=\"edge\">\n",
       "<title>5894285296&#45;&gt;5617836096</title>\n",
       "<path fill=\"none\" stroke=\"black\" d=\"M193,-181.84C193,-175.22 193,-166.22 193,-158.02\"/>\n",
       "<polygon fill=\"black\" stroke=\"black\" points=\"196.5,-158.09 193,-148.09 189.5,-158.09 196.5,-158.09\"/>\n",
       "</g>\n",
       "<!-- 5894287264 -->\n",
       "<g id=\"node7\" class=\"node\">\n",
       "<title>5894287264</title>\n",
       "<polygon fill=\"lightgrey\" stroke=\"black\" points=\"235,-266.12 135,-266.12 135,-245.38 235,-245.38 235,-266.12\"/>\n",
       "<text text-anchor=\"middle\" x=\"185\" y=\"-252.62\" font-family=\"monospace\" font-size=\"10.00\">AddmmBackward0</text>\n",
       "</g>\n",
       "<!-- 5894287264&#45;&gt;5894285296 -->\n",
       "<g id=\"edge5\" class=\"edge\">\n",
       "<title>5894287264&#45;&gt;5894285296</title>\n",
       "<path fill=\"none\" stroke=\"black\" d=\"M186.29,-244.93C187.35,-236.77 188.91,-224.88 190.25,-214.6\"/>\n",
       "<polygon fill=\"black\" stroke=\"black\" points=\"193.72,-215.09 191.55,-204.72 186.78,-214.18 193.72,-215.09\"/>\n",
       "</g>\n",
       "<!-- 5894285536 -->\n",
       "<g id=\"node8\" class=\"node\">\n",
       "<title>5894285536</title>\n",
       "<polygon fill=\"lightgrey\" stroke=\"black\" points=\"100,-335.62 0,-335.62 0,-314.88 100,-314.88 100,-335.62\"/>\n",
       "<text text-anchor=\"middle\" x=\"50\" y=\"-322.12\" font-family=\"monospace\" font-size=\"10.00\">AccumulateGrad</text>\n",
       "</g>\n",
       "<!-- 5894285536&#45;&gt;5894287264 -->\n",
       "<g id=\"edge6\" class=\"edge\">\n",
       "<title>5894285536&#45;&gt;5894287264</title>\n",
       "<path fill=\"none\" stroke=\"black\" d=\"M69.63,-314.43C92.13,-303.19 129.24,-284.63 155.28,-271.61\"/>\n",
       "<polygon fill=\"black\" stroke=\"black\" points=\"156.61,-274.86 163.99,-267.25 153.48,-268.6 156.61,-274.86\"/>\n",
       "</g>\n",
       "<!-- 5617671520 -->\n",
       "<g id=\"node9\" class=\"node\">\n",
       "<title>5617671520</title>\n",
       "<polygon fill=\"lightblue\" stroke=\"black\" points=\"82,-411.5 18,-411.5 18,-378 82,-378 82,-411.5\"/>\n",
       "<text text-anchor=\"middle\" x=\"50\" y=\"-398\" font-family=\"monospace\" font-size=\"10.00\">fc2.bias</text>\n",
       "<text text-anchor=\"middle\" x=\"50\" y=\"-385.25\" font-family=\"monospace\" font-size=\"10.00\"> (4)</text>\n",
       "</g>\n",
       "<!-- 5617671520&#45;&gt;5894285536 -->\n",
       "<g id=\"edge7\" class=\"edge\">\n",
       "<title>5617671520&#45;&gt;5894285536</title>\n",
       "<path fill=\"none\" stroke=\"black\" d=\"M50,-377.75C50,-368.65 50,-357.14 50,-347.32\"/>\n",
       "<polygon fill=\"black\" stroke=\"black\" points=\"53.5,-347.59 50,-337.59 46.5,-347.59 53.5,-347.59\"/>\n",
       "</g>\n",
       "<!-- 5894285248 -->\n",
       "<g id=\"node10\" class=\"node\">\n",
       "<title>5894285248</title>\n",
       "<polygon fill=\"lightgrey\" stroke=\"black\" points=\"212,-335.62 118,-335.62 118,-314.88 212,-314.88 212,-335.62\"/>\n",
       "<text text-anchor=\"middle\" x=\"165\" y=\"-322.12\" font-family=\"monospace\" font-size=\"10.00\">ReluBackward0</text>\n",
       "</g>\n",
       "<!-- 5894285248&#45;&gt;5894287264 -->\n",
       "<g id=\"edge8\" class=\"edge\">\n",
       "<title>5894285248&#45;&gt;5894287264</title>\n",
       "<path fill=\"none\" stroke=\"black\" d=\"M167.87,-314.58C170.75,-304.85 175.28,-289.57 178.96,-277.15\"/>\n",
       "<polygon fill=\"black\" stroke=\"black\" points=\"182.22,-278.44 181.71,-267.85 175.51,-276.45 182.22,-278.44\"/>\n",
       "</g>\n",
       "<!-- 5894284912 -->\n",
       "<g id=\"node11\" class=\"node\">\n",
       "<title>5894284912</title>\n",
       "<polygon fill=\"lightgrey\" stroke=\"black\" points=\"207,-405.12 107,-405.12 107,-384.38 207,-384.38 207,-405.12\"/>\n",
       "<text text-anchor=\"middle\" x=\"157\" y=\"-391.62\" font-family=\"monospace\" font-size=\"10.00\">AddmmBackward0</text>\n",
       "</g>\n",
       "<!-- 5894284912&#45;&gt;5894285248 -->\n",
       "<g id=\"edge9\" class=\"edge\">\n",
       "<title>5894284912&#45;&gt;5894285248</title>\n",
       "<path fill=\"none\" stroke=\"black\" d=\"M158.15,-384.08C159.29,-374.46 161.07,-359.38 162.54,-347.04\"/>\n",
       "<polygon fill=\"black\" stroke=\"black\" points=\"165.98,-347.75 163.68,-337.41 159.03,-346.92 165.98,-347.75\"/>\n",
       "</g>\n",
       "<!-- 5894286736 -->\n",
       "<g id=\"node12\" class=\"node\">\n",
       "<title>5894286736</title>\n",
       "<polygon fill=\"lightgrey\" stroke=\"black\" points=\"113,-474.62 13,-474.62 13,-453.88 113,-453.88 113,-474.62\"/>\n",
       "<text text-anchor=\"middle\" x=\"63\" y=\"-461.12\" font-family=\"monospace\" font-size=\"10.00\">AccumulateGrad</text>\n",
       "</g>\n",
       "<!-- 5894286736&#45;&gt;5894284912 -->\n",
       "<g id=\"edge10\" class=\"edge\">\n",
       "<title>5894286736&#45;&gt;5894284912</title>\n",
       "<path fill=\"none\" stroke=\"black\" d=\"M76.47,-453.58C91.46,-442.81 115.95,-425.23 133.99,-412.27\"/>\n",
       "<polygon fill=\"black\" stroke=\"black\" points=\"135.94,-415.18 142.02,-406.51 131.86,-409.5 135.94,-415.18\"/>\n",
       "</g>\n",
       "<!-- 5826519664 -->\n",
       "<g id=\"node13\" class=\"node\">\n",
       "<title>5826519664</title>\n",
       "<polygon fill=\"lightblue\" stroke=\"black\" points=\"95,-550.5 31,-550.5 31,-517 95,-517 95,-550.5\"/>\n",
       "<text text-anchor=\"middle\" x=\"63\" y=\"-537\" font-family=\"monospace\" font-size=\"10.00\">fc1.bias</text>\n",
       "<text text-anchor=\"middle\" x=\"63\" y=\"-524.25\" font-family=\"monospace\" font-size=\"10.00\"> (4)</text>\n",
       "</g>\n",
       "<!-- 5826519664&#45;&gt;5894286736 -->\n",
       "<g id=\"edge11\" class=\"edge\">\n",
       "<title>5826519664&#45;&gt;5894286736</title>\n",
       "<path fill=\"none\" stroke=\"black\" d=\"M63,-516.75C63,-507.65 63,-496.14 63,-486.32\"/>\n",
       "<polygon fill=\"black\" stroke=\"black\" points=\"66.5,-486.59 63,-476.59 59.5,-486.59 66.5,-486.59\"/>\n",
       "</g>\n",
       "<!-- 5894286880 -->\n",
       "<g id=\"node14\" class=\"node\">\n",
       "<title>5894286880</title>\n",
       "<polygon fill=\"lightgrey\" stroke=\"black\" points=\"207,-474.62 131,-474.62 131,-453.88 207,-453.88 207,-474.62\"/>\n",
       "<text text-anchor=\"middle\" x=\"169\" y=\"-461.12\" font-family=\"monospace\" font-size=\"10.00\">TBackward0</text>\n",
       "</g>\n",
       "<!-- 5894286880&#45;&gt;5894284912 -->\n",
       "<g id=\"edge12\" class=\"edge\">\n",
       "<title>5894286880&#45;&gt;5894284912</title>\n",
       "<path fill=\"none\" stroke=\"black\" d=\"M167.28,-453.58C165.57,-443.96 162.89,-428.88 160.7,-416.54\"/>\n",
       "<polygon fill=\"black\" stroke=\"black\" points=\"164.18,-416.13 158.98,-406.89 157.29,-417.35 164.18,-416.13\"/>\n",
       "</g>\n",
       "<!-- 5894286784 -->\n",
       "<g id=\"node15\" class=\"node\">\n",
       "<title>5894286784</title>\n",
       "<polygon fill=\"lightgrey\" stroke=\"black\" points=\"219,-544.12 119,-544.12 119,-523.38 219,-523.38 219,-544.12\"/>\n",
       "<text text-anchor=\"middle\" x=\"169\" y=\"-530.62\" font-family=\"monospace\" font-size=\"10.00\">AccumulateGrad</text>\n",
       "</g>\n",
       "<!-- 5894286784&#45;&gt;5894286880 -->\n",
       "<g id=\"edge13\" class=\"edge\">\n",
       "<title>5894286784&#45;&gt;5894286880</title>\n",
       "<path fill=\"none\" stroke=\"black\" d=\"M169,-523.08C169,-513.46 169,-498.38 169,-486.04\"/>\n",
       "<polygon fill=\"black\" stroke=\"black\" points=\"172.5,-486.42 169,-476.42 165.5,-486.42 172.5,-486.42\"/>\n",
       "</g>\n",
       "<!-- 5826521504 -->\n",
       "<g id=\"node16\" class=\"node\">\n",
       "<title>5826521504</title>\n",
       "<polygon fill=\"lightblue\" stroke=\"black\" points=\"207,-620 131,-620 131,-586.5 207,-586.5 207,-620\"/>\n",
       "<text text-anchor=\"middle\" x=\"169\" y=\"-606.5\" font-family=\"monospace\" font-size=\"10.00\">fc1.weight</text>\n",
       "<text text-anchor=\"middle\" x=\"169\" y=\"-593.75\" font-family=\"monospace\" font-size=\"10.00\"> (4, 4)</text>\n",
       "</g>\n",
       "<!-- 5826521504&#45;&gt;5894286784 -->\n",
       "<g id=\"edge14\" class=\"edge\">\n",
       "<title>5826521504&#45;&gt;5894286784</title>\n",
       "<path fill=\"none\" stroke=\"black\" d=\"M169,-586.25C169,-577.15 169,-565.64 169,-555.82\"/>\n",
       "<polygon fill=\"black\" stroke=\"black\" points=\"172.5,-556.09 169,-546.09 165.5,-556.09 172.5,-556.09\"/>\n",
       "</g>\n",
       "<!-- 5894285104 -->\n",
       "<g id=\"node17\" class=\"node\">\n",
       "<title>5894285104</title>\n",
       "<polygon fill=\"lightgrey\" stroke=\"black\" points=\"306,-335.62 230,-335.62 230,-314.88 306,-314.88 306,-335.62\"/>\n",
       "<text text-anchor=\"middle\" x=\"268\" y=\"-322.12\" font-family=\"monospace\" font-size=\"10.00\">TBackward0</text>\n",
       "</g>\n",
       "<!-- 5894285104&#45;&gt;5894287264 -->\n",
       "<g id=\"edge15\" class=\"edge\">\n",
       "<title>5894285104&#45;&gt;5894287264</title>\n",
       "<path fill=\"none\" stroke=\"black\" d=\"M256.11,-314.58C242.99,-303.91 221.65,-286.55 205.76,-273.63\"/>\n",
       "<polygon fill=\"black\" stroke=\"black\" points=\"208.28,-271.17 198.31,-267.58 203.86,-276.6 208.28,-271.17\"/>\n",
       "</g>\n",
       "<!-- 5894287168 -->\n",
       "<g id=\"node18\" class=\"node\">\n",
       "<title>5894287168</title>\n",
       "<polygon fill=\"lightgrey\" stroke=\"black\" points=\"325,-405.12 225,-405.12 225,-384.38 325,-384.38 325,-405.12\"/>\n",
       "<text text-anchor=\"middle\" x=\"275\" y=\"-391.62\" font-family=\"monospace\" font-size=\"10.00\">AccumulateGrad</text>\n",
       "</g>\n",
       "<!-- 5894287168&#45;&gt;5894285104 -->\n",
       "<g id=\"edge16\" class=\"edge\">\n",
       "<title>5894287168&#45;&gt;5894285104</title>\n",
       "<path fill=\"none\" stroke=\"black\" d=\"M274,-384.08C273,-374.46 271.44,-359.38 270.16,-347.04\"/>\n",
       "<polygon fill=\"black\" stroke=\"black\" points=\"273.67,-346.99 269.16,-337.41 266.71,-347.72 273.67,-346.99\"/>\n",
       "</g>\n",
       "<!-- 5826519424 -->\n",
       "<g id=\"node19\" class=\"node\">\n",
       "<title>5826519424</title>\n",
       "<polygon fill=\"lightblue\" stroke=\"black\" points=\"313,-481 237,-481 237,-447.5 313,-447.5 313,-481\"/>\n",
       "<text text-anchor=\"middle\" x=\"275\" y=\"-467.5\" font-family=\"monospace\" font-size=\"10.00\">fc2.weight</text>\n",
       "<text text-anchor=\"middle\" x=\"275\" y=\"-454.75\" font-family=\"monospace\" font-size=\"10.00\"> (4, 4)</text>\n",
       "</g>\n",
       "<!-- 5826519424&#45;&gt;5894287168 -->\n",
       "<g id=\"edge17\" class=\"edge\">\n",
       "<title>5826519424&#45;&gt;5894287168</title>\n",
       "<path fill=\"none\" stroke=\"black\" d=\"M275,-447.25C275,-438.15 275,-426.64 275,-416.82\"/>\n",
       "<polygon fill=\"black\" stroke=\"black\" points=\"278.5,-417.09 275,-407.09 271.5,-417.09 278.5,-417.09\"/>\n",
       "</g>\n",
       "<!-- 5894286064 -->\n",
       "<g id=\"node20\" class=\"node\">\n",
       "<title>5894286064</title>\n",
       "<polygon fill=\"lightgrey\" stroke=\"black\" points=\"357,-203 281,-203 281,-182.25 357,-182.25 357,-203\"/>\n",
       "<text text-anchor=\"middle\" x=\"319\" y=\"-189.5\" font-family=\"monospace\" font-size=\"10.00\">TBackward0</text>\n",
       "</g>\n",
       "<!-- 5894286064&#45;&gt;5617836096 -->\n",
       "<g id=\"edge18\" class=\"edge\">\n",
       "<title>5894286064&#45;&gt;5617836096</title>\n",
       "<path fill=\"none\" stroke=\"black\" d=\"M296.47,-181.84C276.76,-173.27 247.89,-160.73 225.65,-151.06\"/>\n",
       "<polygon fill=\"black\" stroke=\"black\" points=\"227.29,-147.96 216.72,-147.18 224.5,-154.38 227.29,-147.96\"/>\n",
       "</g>\n",
       "<!-- 5894286448 -->\n",
       "<g id=\"node21\" class=\"node\">\n",
       "<title>5894286448</title>\n",
       "<polygon fill=\"lightgrey\" stroke=\"black\" points=\"392,-266.12 292,-266.12 292,-245.38 392,-245.38 392,-266.12\"/>\n",
       "<text text-anchor=\"middle\" x=\"342\" y=\"-252.62\" font-family=\"monospace\" font-size=\"10.00\">AccumulateGrad</text>\n",
       "</g>\n",
       "<!-- 5894286448&#45;&gt;5894286064 -->\n",
       "<g id=\"edge19\" class=\"edge\">\n",
       "<title>5894286448&#45;&gt;5894286064</title>\n",
       "<path fill=\"none\" stroke=\"black\" d=\"M338.3,-244.93C335.17,-236.59 330.56,-224.36 326.64,-213.93\"/>\n",
       "<polygon fill=\"black\" stroke=\"black\" points=\"329.94,-212.76 323.14,-204.64 323.39,-215.23 329.94,-212.76\"/>\n",
       "</g>\n",
       "<!-- 5826796736 -->\n",
       "<g id=\"node22\" class=\"node\">\n",
       "<title>5826796736</title>\n",
       "<polygon fill=\"lightblue\" stroke=\"black\" points=\"400,-342 324,-342 324,-308.5 400,-308.5 400,-342\"/>\n",
       "<text text-anchor=\"middle\" x=\"362\" y=\"-328.5\" font-family=\"monospace\" font-size=\"10.00\">fc3.weight</text>\n",
       "<text text-anchor=\"middle\" x=\"362\" y=\"-315.75\" font-family=\"monospace\" font-size=\"10.00\"> (1, 4)</text>\n",
       "</g>\n",
       "<!-- 5826796736&#45;&gt;5894286448 -->\n",
       "<g id=\"edge20\" class=\"edge\">\n",
       "<title>5826796736&#45;&gt;5894286448</title>\n",
       "<path fill=\"none\" stroke=\"black\" d=\"M357.26,-308.25C354.53,-299.05 351.08,-287.39 348.14,-277.49\"/>\n",
       "<polygon fill=\"black\" stroke=\"black\" points=\"351.54,-276.62 345.34,-268.02 344.83,-278.61 351.54,-276.62\"/>\n",
       "</g>\n",
       "</g>\n",
       "</svg>\n"
      ],
      "text/plain": [
       "<graphviz.graphs.Digraph at 0x14ed96dc0>"
      ]
     },
     "execution_count": 111,
     "metadata": {},
     "output_type": "execute_result"
    }
   ],
   "source": [
    "import torchviz \n",
    "import torch.nn.functional as F \n",
    "\n",
    "sample_input = torch.randn(128, 4)\n",
    "model = NeuralNetwork(input_dim=4, hidden_dim=4).to(device)\n",
    "recon_batch = model(sample_input)\n",
    "torchviz.make_dot(recon_batch, params=dict(model.named_parameters()))"
   ]
  },
  {
   "cell_type": "markdown",
   "id": "204c2dfe",
   "metadata": {},
   "source": [
    "### Optimizing the Model Parameters"
   ]
  },
  {
   "cell_type": "code",
   "execution_count": 112,
   "id": "8af2675c",
   "metadata": {},
   "outputs": [],
   "source": [
    "kl_loss = nn.KLDivLoss(reduction='batchmean')\n",
    "mse_loss = nn.MSELoss()\n",
    "optimizer = torch.optim.Adam(model.parameters(), lr=1e-2)"
   ]
  },
  {
   "cell_type": "code",
   "execution_count": 113,
   "id": "917bf734",
   "metadata": {},
   "outputs": [],
   "source": [
    "def train(dataloader, model, loss_fn, optimizer):\n",
    "    size = len(dataloader.dataset)\n",
    "    model.train()\n",
    "    for batch, (X, y) in enumerate(dataloader):\n",
    "        X, y = X.to(device), y.to(device)\n",
    "\n",
    "        # Compute prediction error\n",
    "        outputs = model(X)\n",
    "        # Apply LogSoftmax to the outputs\n",
    "        # log_outputs = torch.log_softmax(outputs, dim=1)\n",
    "        # Calculate loss\n",
    "        # outputs = torch.log_softmax(outputs, dim=1)\n",
    "        # y = torch.softmax(y, dim=1)\n",
    "\n",
    "        loss = loss_fn(outputs, y)\n",
    "        # Backpropagation\n",
    "        optimizer.zero_grad()\n",
    "        loss.backward()\n",
    "        optimizer.step()\n",
    "        if batch % 2 == 0:\n",
    "            loss, current = loss.item(), batch * len(X)\n",
    "            print(f\"loss: {loss:>7f}  [{current:>5d}/{size:>5d}]\")"
   ]
  },
  {
   "cell_type": "code",
   "execution_count": 114,
   "id": "749f8a5d",
   "metadata": {},
   "outputs": [],
   "source": [
    "def test(dataloader, model, loss_fn):\n",
    "    size = len(dataloader.dataset)\n",
    "    num_batches = len(dataloader)\n",
    "    model.eval()\n",
    "    test_loss, correct = 0, 0\n",
    "    with torch.no_grad():\n",
    "        for X, y in dataloader:\n",
    "            X, y = X.to(device), y.to(device)\n",
    "            pred = model(X)\n",
    "            \n",
    "            # pred = torch.log_softmax(pred, dim=1)\n",
    "            # y = torch.softmax(y, dim=1)\n",
    "\n",
    "            test_loss += loss_fn(pred, y).item()\n",
    "            # correct += (pred.argmax(1) == y).type(torch.float).sum().item()\n",
    "            print(f'Predicted: \"{pred}\", Actual: \"{y}\", loss: \"{test_loss}\"')\n",
    "    # test_loss /= num_batches\n",
    "    # # correct /= size\n",
    "    # print(f\"Avg loss: {test_loss:>8f} \\n\")\n"
   ]
  },
  {
   "cell_type": "code",
   "execution_count": 115,
   "id": "776c4d77",
   "metadata": {},
   "outputs": [],
   "source": [
    "\n",
    "def eval(dataloader, model):\n",
    "    model.eval()\n",
    "    with torch.no_grad():\n",
    "        for batch_features, batch_targets in dataloader:\n",
    "            pred = model(batch_features)\n",
    "            pred.view(-1)\n",
    "            # pred = torch.log(torch.abs(pred))\n",
    "            # pred = torch.log(pred)\n",
    "            # predicted, actual = classes[pred[0].argmax(0)], classes[y]\n",
    "            print(f'Predicted: \"{pred}\", Actual: \"{batch_targets}\"')"
   ]
  },
  {
   "cell_type": "code",
   "execution_count": 116,
   "id": "ae822e63",
   "metadata": {},
   "outputs": [
    {
     "name": "stdout",
     "output_type": "stream",
     "text": [
      "Epoch 1\n",
      "-------------------------------\n",
      "loss: 0.187756  [    0/    8]\n",
      "Predicted: \"tensor([[0.5065],\n",
      "        [0.5162],\n",
      "        [0.4871],\n",
      "        [0.4968]])\", Actual: \"tensor([0.8000, 0.2000, 0.9000, 0.1000])\", loss: \"0.125120609998703\"\n",
      "Predicted: \"tensor([[0.5162],\n",
      "        [0.5065],\n",
      "        [0.4871],\n",
      "        [0.4968]])\", Actual: \"tensor([0.1000, 0.9000, 0.8000, 0.2000])\", loss: \"0.250241219997406\"\n",
      "Epoch 2\n",
      "-------------------------------\n",
      "loss: 0.228013  [    0/    8]\n",
      "Predicted: \"tensor([[0.5273],\n",
      "        [0.5201],\n",
      "        [0.5129],\n",
      "        [0.5129]])\", Actual: \"tensor([0.9000, 0.2000, 0.8000, 0.9000])\", loss: \"0.11804071068763733\"\n",
      "Predicted: \"tensor([[0.5345],\n",
      "        [0.5273],\n",
      "        [0.5345],\n",
      "        [0.5201]])\", Actual: \"tensor([0.2000, 0.8000, 0.1000, 0.1000])\", loss: \"0.25558269023895264\"\n",
      "Epoch 3\n",
      "-------------------------------\n",
      "loss: 0.186958  [    0/    8]\n",
      "Predicted: \"tensor([[0.5363],\n",
      "        [0.5227],\n",
      "        [0.5295],\n",
      "        [0.5159]])\", Actual: \"tensor([0.2000, 0.2000, 0.9000, 0.8000])\", loss: \"0.10693378001451492\"\n",
      "Predicted: \"tensor([[0.5363],\n",
      "        [0.5159],\n",
      "        [0.5227],\n",
      "        [0.5295]])\", Actual: \"tensor([0.1000, 0.9000, 0.1000, 0.8000])\", loss: \"0.25147897750139236\"\n",
      "Epoch 4\n",
      "-------------------------------\n",
      "loss: 0.177139  [    0/    8]\n",
      "Predicted: \"tensor([[0.5397],\n",
      "        [0.5335],\n",
      "        [0.5273],\n",
      "        [0.5273]])\", Actual: \"tensor([0.1000, 0.9000, 0.2000, 0.1000])\", loss: \"0.1547265648841858\"\n",
      "Predicted: \"tensor([[0.5211],\n",
      "        [0.5397],\n",
      "        [0.5211],\n",
      "        [0.5335]])\", Actual: \"tensor([0.8000, 0.2000, 0.9000, 0.8000])\", loss: \"0.2530304193496704\"\n",
      "Epoch 5\n",
      "-------------------------------\n",
      "loss: 0.198290  [    0/    8]\n",
      "Predicted: \"tensor([[0.5336],\n",
      "        [0.5397],\n",
      "        [0.5214],\n",
      "        [0.5275]])\", Actual: \"tensor([0.8000, 0.1000, 0.9000, 0.2000])\", loss: \"0.12598013877868652\"\n",
      "Predicted: \"tensor([[0.5336],\n",
      "        [0.5275],\n",
      "        [0.5397],\n",
      "        [0.5214]])\", Actual: \"tensor([0.9000, 0.1000, 0.2000, 0.8000])\", loss: \"0.25196026265621185\"\n",
      "Done!\n"
     ]
    },
    {
     "name": "stderr",
     "output_type": "stream",
     "text": [
      "/opt/homebrew/anaconda3/envs/python-notebook/lib/python3.9/site-packages/torch/nn/modules/loss.py:535: UserWarning: Using a target size (torch.Size([4])) that is different to the input size (torch.Size([4, 1])). This will likely lead to incorrect results due to broadcasting. Please ensure they have the same size.\n",
      "  return F.mse_loss(input, target, reduction=self.reduction)\n"
     ]
    }
   ],
   "source": [
    "epochs = 5\n",
    "for t in range(epochs):\n",
    "    print(f\"Epoch {t+1}\\n-------------------------------\")\n",
    "    train(train_dataloader, model, mse_loss, optimizer)\n",
    "    test(test_dataloader, model, mse_loss)\n",
    "print(\"Done!\")"
   ]
  },
  {
   "cell_type": "code",
   "execution_count": 107,
   "id": "21f0631b",
   "metadata": {},
   "outputs": [
    {
     "name": "stdout",
     "output_type": "stream",
     "text": [
      "Predicted: \"tensor([[0.5086],\n",
      "        [0.5086],\n",
      "        [0.5086],\n",
      "        [0.5086]])\", Actual: \"tensor([0.2000, 0.9000, 0.9000, 0.8000])\"\n",
      "Predicted: \"tensor([[0.5086],\n",
      "        [0.5086],\n",
      "        [0.5086],\n",
      "        [0.5086]])\", Actual: \"tensor([0.8000, 0.1000, 0.1000, 0.2000])\"\n"
     ]
    }
   ],
   "source": [
    "eval(test_dataloader, model)"
   ]
  },
  {
   "cell_type": "markdown",
   "id": "5cbf4014",
   "metadata": {},
   "source": [
    "### Model Save & Load"
   ]
  },
  {
   "cell_type": "code",
   "execution_count": 90,
   "id": "eb6c1f5a",
   "metadata": {},
   "outputs": [
    {
     "name": "stdout",
     "output_type": "stream",
     "text": [
      "Saved PyTorch Model State to model.pth\n"
     ]
    }
   ],
   "source": [
    "torch.save(model.state_dict(), \"model.pth\")\n",
    "print(\"Saved PyTorch Model State to model.pth\")"
   ]
  },
  {
   "cell_type": "code",
   "execution_count": 60,
   "id": "f1353f9c",
   "metadata": {},
   "outputs": [
    {
     "ename": "RuntimeError",
     "evalue": "Error(s) in loading state_dict for NeuralNetwork:\n\tsize mismatch for fc1.weight: copying a param with shape torch.Size([4, 4]) from checkpoint, the shape in current model is torch.Size([8, 4]).\n\tsize mismatch for fc1.bias: copying a param with shape torch.Size([4]) from checkpoint, the shape in current model is torch.Size([8]).\n\tsize mismatch for fc2.weight: copying a param with shape torch.Size([4, 4]) from checkpoint, the shape in current model is torch.Size([8, 8]).\n\tsize mismatch for fc2.bias: copying a param with shape torch.Size([4]) from checkpoint, the shape in current model is torch.Size([8]).\n\tsize mismatch for output.weight: copying a param with shape torch.Size([1, 4]) from checkpoint, the shape in current model is torch.Size([1, 8]).",
     "output_type": "error",
     "traceback": [
      "\u001b[0;31m---------------------------------------------------------------------------\u001b[0m",
      "\u001b[0;31mRuntimeError\u001b[0m                              Traceback (most recent call last)",
      "Cell \u001b[0;32mIn[60], line 2\u001b[0m\n\u001b[1;32m      1\u001b[0m model \u001b[38;5;241m=\u001b[39m NeuralNetwork()\n\u001b[0;32m----> 2\u001b[0m \u001b[43mmodel\u001b[49m\u001b[38;5;241;43m.\u001b[39;49m\u001b[43mload_state_dict\u001b[49m\u001b[43m(\u001b[49m\u001b[43mtorch\u001b[49m\u001b[38;5;241;43m.\u001b[39;49m\u001b[43mload\u001b[49m\u001b[43m(\u001b[49m\u001b[38;5;124;43m\"\u001b[39;49m\u001b[38;5;124;43mmodel.pth\u001b[39;49m\u001b[38;5;124;43m\"\u001b[39;49m\u001b[43m)\u001b[49m\u001b[43m)\u001b[49m\n",
      "File \u001b[0;32m/opt/homebrew/anaconda3/envs/python-notebook/lib/python3.9/site-packages/torch/nn/modules/module.py:2189\u001b[0m, in \u001b[0;36mModule.load_state_dict\u001b[0;34m(self, state_dict, strict, assign)\u001b[0m\n\u001b[1;32m   2184\u001b[0m         error_msgs\u001b[38;5;241m.\u001b[39minsert(\n\u001b[1;32m   2185\u001b[0m             \u001b[38;5;241m0\u001b[39m, \u001b[38;5;124m'\u001b[39m\u001b[38;5;124mMissing key(s) in state_dict: \u001b[39m\u001b[38;5;132;01m{}\u001b[39;00m\u001b[38;5;124m. \u001b[39m\u001b[38;5;124m'\u001b[39m\u001b[38;5;241m.\u001b[39mformat(\n\u001b[1;32m   2186\u001b[0m                 \u001b[38;5;124m'\u001b[39m\u001b[38;5;124m, \u001b[39m\u001b[38;5;124m'\u001b[39m\u001b[38;5;241m.\u001b[39mjoin(\u001b[38;5;124mf\u001b[39m\u001b[38;5;124m'\u001b[39m\u001b[38;5;124m\"\u001b[39m\u001b[38;5;132;01m{\u001b[39;00mk\u001b[38;5;132;01m}\u001b[39;00m\u001b[38;5;124m\"\u001b[39m\u001b[38;5;124m'\u001b[39m \u001b[38;5;28;01mfor\u001b[39;00m k \u001b[38;5;129;01min\u001b[39;00m missing_keys)))\n\u001b[1;32m   2188\u001b[0m \u001b[38;5;28;01mif\u001b[39;00m \u001b[38;5;28mlen\u001b[39m(error_msgs) \u001b[38;5;241m>\u001b[39m \u001b[38;5;241m0\u001b[39m:\n\u001b[0;32m-> 2189\u001b[0m     \u001b[38;5;28;01mraise\u001b[39;00m \u001b[38;5;167;01mRuntimeError\u001b[39;00m(\u001b[38;5;124m'\u001b[39m\u001b[38;5;124mError(s) in loading state_dict for \u001b[39m\u001b[38;5;132;01m{}\u001b[39;00m\u001b[38;5;124m:\u001b[39m\u001b[38;5;130;01m\\n\u001b[39;00m\u001b[38;5;130;01m\\t\u001b[39;00m\u001b[38;5;132;01m{}\u001b[39;00m\u001b[38;5;124m'\u001b[39m\u001b[38;5;241m.\u001b[39mformat(\n\u001b[1;32m   2190\u001b[0m                        \u001b[38;5;28mself\u001b[39m\u001b[38;5;241m.\u001b[39m\u001b[38;5;18m__class__\u001b[39m\u001b[38;5;241m.\u001b[39m\u001b[38;5;18m__name__\u001b[39m, \u001b[38;5;124m\"\u001b[39m\u001b[38;5;130;01m\\n\u001b[39;00m\u001b[38;5;130;01m\\t\u001b[39;00m\u001b[38;5;124m\"\u001b[39m\u001b[38;5;241m.\u001b[39mjoin(error_msgs)))\n\u001b[1;32m   2191\u001b[0m \u001b[38;5;28;01mreturn\u001b[39;00m _IncompatibleKeys(missing_keys, unexpected_keys)\n",
      "\u001b[0;31mRuntimeError\u001b[0m: Error(s) in loading state_dict for NeuralNetwork:\n\tsize mismatch for fc1.weight: copying a param with shape torch.Size([4, 4]) from checkpoint, the shape in current model is torch.Size([8, 4]).\n\tsize mismatch for fc1.bias: copying a param with shape torch.Size([4]) from checkpoint, the shape in current model is torch.Size([8]).\n\tsize mismatch for fc2.weight: copying a param with shape torch.Size([4, 4]) from checkpoint, the shape in current model is torch.Size([8, 8]).\n\tsize mismatch for fc2.bias: copying a param with shape torch.Size([4]) from checkpoint, the shape in current model is torch.Size([8]).\n\tsize mismatch for output.weight: copying a param with shape torch.Size([1, 4]) from checkpoint, the shape in current model is torch.Size([1, 8])."
     ]
    }
   ],
   "source": [
    "model = NeuralNetwork()\n",
    "model.load_state_dict(torch.load(\"model.pth\"))"
   ]
  },
  {
   "cell_type": "code",
   "execution_count": 61,
   "id": "a9aa21ce",
   "metadata": {},
   "outputs": [
    {
     "ename": "KeyError",
     "evalue": "0",
     "output_type": "error",
     "traceback": [
      "\u001b[0;31m---------------------------------------------------------------------------\u001b[0m",
      "\u001b[0;31mKeyError\u001b[0m                                  Traceback (most recent call last)",
      "File \u001b[0;32m/opt/homebrew/anaconda3/envs/python-notebook/lib/python3.9/site-packages/pandas/core/indexes/base.py:3805\u001b[0m, in \u001b[0;36mIndex.get_loc\u001b[0;34m(self, key)\u001b[0m\n\u001b[1;32m   3804\u001b[0m \u001b[38;5;28;01mtry\u001b[39;00m:\n\u001b[0;32m-> 3805\u001b[0m     \u001b[38;5;28;01mreturn\u001b[39;00m \u001b[38;5;28;43mself\u001b[39;49m\u001b[38;5;241;43m.\u001b[39;49m\u001b[43m_engine\u001b[49m\u001b[38;5;241;43m.\u001b[39;49m\u001b[43mget_loc\u001b[49m\u001b[43m(\u001b[49m\u001b[43mcasted_key\u001b[49m\u001b[43m)\u001b[49m\n\u001b[1;32m   3806\u001b[0m \u001b[38;5;28;01mexcept\u001b[39;00m \u001b[38;5;167;01mKeyError\u001b[39;00m \u001b[38;5;28;01mas\u001b[39;00m err:\n",
      "File \u001b[0;32mindex.pyx:167\u001b[0m, in \u001b[0;36mpandas._libs.index.IndexEngine.get_loc\u001b[0;34m()\u001b[0m\n",
      "File \u001b[0;32mindex.pyx:196\u001b[0m, in \u001b[0;36mpandas._libs.index.IndexEngine.get_loc\u001b[0;34m()\u001b[0m\n",
      "File \u001b[0;32mpandas/_libs/hashtable_class_helper.pxi:7081\u001b[0m, in \u001b[0;36mpandas._libs.hashtable.PyObjectHashTable.get_item\u001b[0;34m()\u001b[0m\n",
      "File \u001b[0;32mpandas/_libs/hashtable_class_helper.pxi:7089\u001b[0m, in \u001b[0;36mpandas._libs.hashtable.PyObjectHashTable.get_item\u001b[0;34m()\u001b[0m\n",
      "\u001b[0;31mKeyError\u001b[0m: 0",
      "\nThe above exception was the direct cause of the following exception:\n",
      "\u001b[0;31mKeyError\u001b[0m                                  Traceback (most recent call last)",
      "Cell \u001b[0;32mIn[61], line 15\u001b[0m\n\u001b[1;32m      1\u001b[0m \u001b[38;5;66;03m# classes = [\u001b[39;00m\n\u001b[1;32m      2\u001b[0m \u001b[38;5;66;03m#     \"T-shirt/top\",\u001b[39;00m\n\u001b[1;32m      3\u001b[0m \u001b[38;5;66;03m#     \"Trouser\",\u001b[39;00m\n\u001b[0;32m   (...)\u001b[0m\n\u001b[1;32m     11\u001b[0m \u001b[38;5;66;03m#     \"Ankle boot\",\u001b[39;00m\n\u001b[1;32m     12\u001b[0m \u001b[38;5;66;03m# ]\u001b[39;00m\n\u001b[1;32m     14\u001b[0m model\u001b[38;5;241m.\u001b[39meval()\n\u001b[0;32m---> 15\u001b[0m x, y \u001b[38;5;241m=\u001b[39m \u001b[43mtest_data\u001b[49m\u001b[43m[\u001b[49m\u001b[38;5;241;43m0\u001b[39;49m\u001b[43m]\u001b[49m[\u001b[38;5;241m0\u001b[39m], test_data[\u001b[38;5;241m0\u001b[39m][\u001b[38;5;241m1\u001b[39m]\n\u001b[1;32m     16\u001b[0m \u001b[38;5;28;01mwith\u001b[39;00m torch\u001b[38;5;241m.\u001b[39mno_grad():\n\u001b[1;32m     17\u001b[0m     \u001b[38;5;28;01mfor\u001b[39;00m batch_features, batch_targets \u001b[38;5;129;01min\u001b[39;00m val_dataloader:\n",
      "File \u001b[0;32m/opt/homebrew/anaconda3/envs/python-notebook/lib/python3.9/site-packages/pandas/core/frame.py:4102\u001b[0m, in \u001b[0;36mDataFrame.__getitem__\u001b[0;34m(self, key)\u001b[0m\n\u001b[1;32m   4100\u001b[0m \u001b[38;5;28;01mif\u001b[39;00m \u001b[38;5;28mself\u001b[39m\u001b[38;5;241m.\u001b[39mcolumns\u001b[38;5;241m.\u001b[39mnlevels \u001b[38;5;241m>\u001b[39m \u001b[38;5;241m1\u001b[39m:\n\u001b[1;32m   4101\u001b[0m     \u001b[38;5;28;01mreturn\u001b[39;00m \u001b[38;5;28mself\u001b[39m\u001b[38;5;241m.\u001b[39m_getitem_multilevel(key)\n\u001b[0;32m-> 4102\u001b[0m indexer \u001b[38;5;241m=\u001b[39m \u001b[38;5;28;43mself\u001b[39;49m\u001b[38;5;241;43m.\u001b[39;49m\u001b[43mcolumns\u001b[49m\u001b[38;5;241;43m.\u001b[39;49m\u001b[43mget_loc\u001b[49m\u001b[43m(\u001b[49m\u001b[43mkey\u001b[49m\u001b[43m)\u001b[49m\n\u001b[1;32m   4103\u001b[0m \u001b[38;5;28;01mif\u001b[39;00m is_integer(indexer):\n\u001b[1;32m   4104\u001b[0m     indexer \u001b[38;5;241m=\u001b[39m [indexer]\n",
      "File \u001b[0;32m/opt/homebrew/anaconda3/envs/python-notebook/lib/python3.9/site-packages/pandas/core/indexes/base.py:3812\u001b[0m, in \u001b[0;36mIndex.get_loc\u001b[0;34m(self, key)\u001b[0m\n\u001b[1;32m   3807\u001b[0m     \u001b[38;5;28;01mif\u001b[39;00m \u001b[38;5;28misinstance\u001b[39m(casted_key, \u001b[38;5;28mslice\u001b[39m) \u001b[38;5;129;01mor\u001b[39;00m (\n\u001b[1;32m   3808\u001b[0m         \u001b[38;5;28misinstance\u001b[39m(casted_key, abc\u001b[38;5;241m.\u001b[39mIterable)\n\u001b[1;32m   3809\u001b[0m         \u001b[38;5;129;01mand\u001b[39;00m \u001b[38;5;28many\u001b[39m(\u001b[38;5;28misinstance\u001b[39m(x, \u001b[38;5;28mslice\u001b[39m) \u001b[38;5;28;01mfor\u001b[39;00m x \u001b[38;5;129;01min\u001b[39;00m casted_key)\n\u001b[1;32m   3810\u001b[0m     ):\n\u001b[1;32m   3811\u001b[0m         \u001b[38;5;28;01mraise\u001b[39;00m InvalidIndexError(key)\n\u001b[0;32m-> 3812\u001b[0m     \u001b[38;5;28;01mraise\u001b[39;00m \u001b[38;5;167;01mKeyError\u001b[39;00m(key) \u001b[38;5;28;01mfrom\u001b[39;00m \u001b[38;5;21;01merr\u001b[39;00m\n\u001b[1;32m   3813\u001b[0m \u001b[38;5;28;01mexcept\u001b[39;00m \u001b[38;5;167;01mTypeError\u001b[39;00m:\n\u001b[1;32m   3814\u001b[0m     \u001b[38;5;66;03m# If we have a listlike key, _check_indexing_error will raise\u001b[39;00m\n\u001b[1;32m   3815\u001b[0m     \u001b[38;5;66;03m#  InvalidIndexError. Otherwise we fall through and re-raise\u001b[39;00m\n\u001b[1;32m   3816\u001b[0m     \u001b[38;5;66;03m#  the TypeError.\u001b[39;00m\n\u001b[1;32m   3817\u001b[0m     \u001b[38;5;28mself\u001b[39m\u001b[38;5;241m.\u001b[39m_check_indexing_error(key)\n",
      "\u001b[0;31mKeyError\u001b[0m: 0"
     ]
    }
   ],
   "source": [
    "# classes = [\n",
    "#     \"T-shirt/top\",\n",
    "#     \"Trouser\",\n",
    "#     \"Pullover\",\n",
    "#     \"Dress\",\n",
    "#     \"Coat\",\n",
    "#     \"Sandal\",\n",
    "#     \"Shirt\",\n",
    "#     \"Sneaker\",\n",
    "#     \"Bag\",\n",
    "#     \"Ankle boot\",\n",
    "# ]\n",
    "\n",
    "model.eval()\n",
    "x, y = test_data[0][0], test_data[0][1]\n",
    "with torch.no_grad():\n",
    "    for batch_features, batch_targets in val_dataloader:\n",
    "        mean, log_var = model(batch_features)\n",
    "        predictions = mean\n",
    "    pred, actual = model(x), y\n",
    "    print(f'pred: \"{pred}\"')\n",
    "    # predicted, actual = classes[pred[0].argmax(0)], classes[y]\n",
    "    print(f'Predicted: \"{pred}\", Actual: \"{actual}\"')"
   ]
  },
  {
   "cell_type": "code",
   "execution_count": null,
   "id": "c202a1f7",
   "metadata": {},
   "outputs": [],
   "source": []
  },
  {
   "cell_type": "code",
   "execution_count": null,
   "id": "ae0ebeba",
   "metadata": {},
   "outputs": [],
   "source": []
  },
  {
   "cell_type": "code",
   "execution_count": null,
   "id": "d3bbb700",
   "metadata": {},
   "outputs": [],
   "source": []
  }
 ],
 "metadata": {
  "kernelspec": {
   "display_name": "Python 3 (ipykernel)",
   "language": "python",
   "name": "python3"
  },
  "language_info": {
   "codemirror_mode": {
    "name": "ipython",
    "version": 3
   },
   "file_extension": ".py",
   "mimetype": "text/x-python",
   "name": "python",
   "nbconvert_exporter": "python",
   "pygments_lexer": "ipython3",
   "version": "3.9.18"
  }
 },
 "nbformat": 4,
 "nbformat_minor": 5
}
