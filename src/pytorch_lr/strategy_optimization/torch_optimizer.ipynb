{
 "cells": [
  {
   "cell_type": "markdown",
   "metadata": {},
   "source": [
    "### AR Modeling"
   ]
  },
  {
   "cell_type": "code",
   "execution_count": 4,
   "metadata": {},
   "outputs": [],
   "source": [
    "import torch\n",
    "import torch.nn as nn\n",
    "import torch.optim as optim"
   ]
  },
  {
   "cell_type": "code",
   "execution_count": 5,
   "metadata": {},
   "outputs": [],
   "source": [
    "class ARModel(nn.Module):\n",
    "    def __init__(self, input_size):\n",
    "        super(ARModel, self).__init__()\n",
    "        self.linear = nn.Linear(input_size, 1)  # Linear layer: input_size -> 1 (predict the next value)\n",
    "\n",
    "    def forward(self, x):\n",
    "        out = self.linear(x)  # x is the past 'p' values\n",
    "        return out"
   ]
  },
  {
   "cell_type": "markdown",
   "metadata": {},
   "source": [
    "### Data Gen"
   ]
  },
  {
   "cell_type": "code",
   "execution_count": 10,
   "metadata": {},
   "outputs": [],
   "source": [
    "import numpy as np\n",
    "\n",
    "# Generate synthetic data (e.g., a simple sine wave)\n",
    "time_series = np.sin(np.linspace(0, 100, 1000))\n",
    "\n",
    "# Prepare input-output pairs for the AR model\n",
    "def create_dataset(series, p):\n",
    "    X, y = [], []\n",
    "    for i in range(len(series) - p):\n",
    "        X.append(series[i:i + p])\n",
    "        y.append(series[i + p])\n",
    "    return torch.tensor(X, dtype=torch.float32), torch.tensor(y, dtype=torch.float32)\n",
    "\n",
    "# Hyperparameters\n",
    "p = 5  # Number of lagged time steps (AR(p) model)\n",
    "\n",
    "# Create the dataset\n",
    "X, y = create_dataset(time_series, p)\n"
   ]
  },
  {
   "cell_type": "code",
   "execution_count": 11,
   "metadata": {},
   "outputs": [
    {
     "data": {
      "text/plain": [
       "torch.Size([995, 5])"
      ]
     },
     "execution_count": 11,
     "metadata": {},
     "output_type": "execute_result"
    }
   ],
   "source": [
    "X.shape"
   ]
  },
  {
   "cell_type": "markdown",
   "metadata": {},
   "source": [
    "#### Train"
   ]
  },
  {
   "cell_type": "code",
   "execution_count": 12,
   "metadata": {},
   "outputs": [
    {
     "name": "stdout",
     "output_type": "stream",
     "text": [
      "Epoch [20/200], Loss: 0.0541\n",
      "Epoch [40/200], Loss: 0.0524\n",
      "Epoch [60/200], Loss: 0.0429\n",
      "Epoch [80/200], Loss: 0.0364\n",
      "Epoch [100/200], Loss: 0.0306\n",
      "Epoch [120/200], Loss: 0.0252\n",
      "Epoch [140/200], Loss: 0.0205\n",
      "Epoch [160/200], Loss: 0.0163\n",
      "Epoch [180/200], Loss: 0.0128\n",
      "Epoch [200/200], Loss: 0.0099\n"
     ]
    }
   ],
   "source": [
    "# Define the AR model\n",
    "input_size = p\n",
    "model = ARModel(input_size)\n",
    "\n",
    "# Define the loss function and optimizer\n",
    "criterion = nn.MSELoss()\n",
    "optimizer = optim.Adam(model.parameters(), lr=0.01)\n",
    "\n",
    "# Training loop\n",
    "num_epochs = 200\n",
    "for epoch in range(num_epochs):\n",
    "    model.train()\n",
    "    \n",
    "    # Zero gradients\n",
    "    optimizer.zero_grad()\n",
    "    \n",
    "    # Forward pass: Get the model's prediction\n",
    "    output = model(X)\n",
    "    \n",
    "    # Compute the loss\n",
    "    loss = criterion(output.squeeze(), y)\n",
    "    \n",
    "    # Backward pass: Compute the gradients\n",
    "    loss.backward()\n",
    "    \n",
    "    # Update the parameters\n",
    "    optimizer.step()\n",
    "    \n",
    "    if (epoch + 1) % 20 == 0:\n",
    "        print(f'Epoch [{epoch + 1}/{num_epochs}], Loss: {loss.item():.4f}')"
   ]
  },
  {
   "cell_type": "markdown",
   "metadata": {},
   "source": [
    "### Eval & Pred"
   ]
  },
  {
   "cell_type": "code",
   "execution_count": 13,
   "metadata": {},
   "outputs": [
    {
     "name": "stdout",
     "output_type": "stream",
     "text": [
      "Predicted next value: -0.522720992565155\n"
     ]
    }
   ],
   "source": [
    "# Evaluation mode\n",
    "model.eval()\n",
    "\n",
    "# Make predictions\n",
    "with torch.no_grad():\n",
    "    # Test the model on the last 'p' values of the time series\n",
    "    last_values = torch.tensor(time_series[-p:], dtype=torch.float32).unsqueeze(0)  # Reshape to (1, p)\n",
    "    predicted_value = model(last_values)\n",
    "    \n",
    "    print(f\"Predicted next value: {predicted_value.item()}\")"
   ]
  },
  {
   "cell_type": "code",
   "execution_count": null,
   "metadata": {},
   "outputs": [],
   "source": []
  },
  {
   "cell_type": "code",
   "execution_count": null,
   "metadata": {},
   "outputs": [],
   "source": []
  }
 ],
 "metadata": {
  "kernelspec": {
   "display_name": "python-notebook",
   "language": "python",
   "name": "python3"
  },
  "language_info": {
   "codemirror_mode": {
    "name": "ipython",
    "version": 3
   },
   "file_extension": ".py",
   "mimetype": "text/x-python",
   "name": "python",
   "nbconvert_exporter": "python",
   "pygments_lexer": "ipython3",
   "version": "3.9.18"
  }
 },
 "nbformat": 4,
 "nbformat_minor": 2
}
