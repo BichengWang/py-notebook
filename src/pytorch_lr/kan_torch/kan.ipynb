{
 "cells": [
  {
   "cell_type": "code",
   "execution_count": 1,
   "metadata": {},
   "outputs": [
    {
     "name": "stderr",
     "output_type": "stream",
     "text": [
      "/opt/homebrew/anaconda3/envs/python-notebook/lib/python3.9/site-packages/torch/functional.py:534: UserWarning: torch.meshgrid: in an upcoming release, it will be required to pass the indexing argument. (Triggered internally at /Users/runner/work/_temp/anaconda/conda-bld/pytorch_1723793847620/work/aten/src/ATen/native/TensorShape.cpp:3596.)\n",
      "  return _VF.meshgrid(tensors, **kwargs)  # type: ignore[attr-defined]\n",
      "/opt/homebrew/anaconda3/envs/python-notebook/lib/python3.9/site-packages/torch/nn/modules/loss.py:608: UserWarning: Using a target size (torch.Size([40000])) that is different to the input size (torch.Size([40000, 1])). This will likely lead to incorrect results due to broadcasting. Please ensure they have the same size.\n",
      "  return F.mse_loss(input, target, reduction=self.reduction)\n"
     ]
    }
   ],
   "source": [
    "import torch\n",
    "import torch.nn as nn\n",
    "import numpy as np\n",
    "\n",
    "# Define the univariate functions\n",
    "class UniVariateFunction(nn.Module):\n",
    "    def __init__(self, output_size):\n",
    "        super(UniVariateFunction, self).__init__()\n",
    "        self.linear = nn.Linear(1, output_size)\n",
    "    def forward(self, x):\n",
    "        x = self.linear(x)\n",
    "        return torch.sin(x) # Using sin as an activation function\n",
    "\n",
    "# Define the KAN Model\n",
    "class KAN(nn.Module):\n",
    "    def __init__(self):\n",
    "        super(KAN, self).__init__()\n",
    "        self.phi = nn.ModuleList([UniVariateFunction(1) for _ in range(2)]) # phi functions for x and y\n",
    "        self.Phi = nn.Linear(2, 1) # Phi function to combine outputs\n",
    "    def forward(self, x):\n",
    "        x1, x2 = x[:, 0], x[:, 1]\n",
    "        x1 = self.phi[0](x1.view(-1, 1))\n",
    "        x2 = self.phi[1](x2.view(-1, 1))\n",
    "        out = torch.cat((x1, x2), dim=1)\n",
    "        out = self.Phi(out)\n",
    "        return out\n",
    "\n",
    "# Generate sample data\n",
    "x = torch.linspace(-np.pi, np.pi, 200)\n",
    "y = torch.linspace(-np.pi, np.pi, 200)\n",
    "X, Y = torch.meshgrid(x, y)\n",
    "Z = torch.sin(X) + torch.cos(Y)\n",
    "\n",
    "# Prepare inputs and model\n",
    "inputs = torch.stack([X.flatten(), Y.flatten()], dim=1)\n",
    "model = KAN()\n",
    "criterion = nn.MSELoss()\n",
    "optimizer = torch.optim.Adam(model.parameters(), lr=0.01)\n",
    "\n",
    "# Training loop\n",
    "for epoch in range(10):\n",
    "    optimizer.zero_grad()\n",
    "    outputs = model(inputs)\n",
    "    loss = criterion(outputs, Z.flatten())\n",
    "    loss.backward()\n",
    "    optimizer.step()\n",
    "\n",
    "if epoch % 100 == 0:\n",
    "    print(f'Epoch {epoch}, Loss: {loss.item()}')"
   ]
  },
  {
   "cell_type": "code",
   "execution_count": null,
   "metadata": {},
   "outputs": [],
   "source": []
  }
 ],
 "metadata": {
  "kernelspec": {
   "display_name": "python-notebook",
   "language": "python",
   "name": "python3"
  },
  "language_info": {
   "codemirror_mode": {
    "name": "ipython",
    "version": 3
   },
   "file_extension": ".py",
   "mimetype": "text/x-python",
   "name": "python",
   "nbconvert_exporter": "python",
   "pygments_lexer": "ipython3",
   "version": "3.9.18"
  }
 },
 "nbformat": 4,
 "nbformat_minor": 2
}
