{
 "cells": [
  {
   "cell_type": "code",
   "execution_count": 17,
   "id": "353d1413",
   "metadata": {},
   "outputs": [],
   "source": [
    "def to_tb(n): return n / 1024 / 1024 / 1024 / 1024\n",
    "def to_b(n): return n * 1024 * 1024 * 1024 * 1024"
   ]
  },
  {
   "cell_type": "code",
   "execution_count": 1,
   "id": "498b7b6c",
   "metadata": {},
   "outputs": [],
   "source": [
    "total = 16_000_000_000_000"
   ]
  },
  {
   "cell_type": "code",
   "execution_count": 21,
   "id": "4682936c",
   "metadata": {},
   "outputs": [],
   "source": [
    "total_h = to_tb(total)"
   ]
  },
  {
   "cell_type": "code",
   "execution_count": 22,
   "id": "d348ee03",
   "metadata": {},
   "outputs": [
    {
     "data": {
      "text/plain": [
       "14.551915228366852"
      ]
     },
     "execution_count": 22,
     "metadata": {},
     "output_type": "execute_result"
    }
   ],
   "source": [
    "total_h"
   ]
  },
  {
   "cell_type": "code",
   "execution_count": 5,
   "id": "ec4c10ad",
   "metadata": {},
   "outputs": [],
   "source": [
    "sub_64=64_000\n",
    "sub_4=4_000\n",
    "sub_512=512_000"
   ]
  },
  {
   "cell_type": "code",
   "execution_count": 8,
   "id": "fb0145a6",
   "metadata": {},
   "outputs": [],
   "source": [
    "estimate_4gb = 4 * 1024 * 1024 * 1024"
   ]
  },
  {
   "cell_type": "code",
   "execution_count": 10,
   "id": "6933690f",
   "metadata": {},
   "outputs": [],
   "source": [
    "def cluster_num(num, sub): return num / sub\n",
    "def estimate_num(num, estimate_num): return num / estimate_num"
   ]
  },
  {
   "cell_type": "code",
   "execution_count": 11,
   "id": "bd9b372e",
   "metadata": {},
   "outputs": [
    {
     "data": {
      "text/plain": [
       "250000000.0"
      ]
     },
     "execution_count": 11,
     "metadata": {},
     "output_type": "execute_result"
    }
   ],
   "source": [
    "cluster_num(total, sub_64)"
   ]
  },
  {
   "cell_type": "code",
   "execution_count": 12,
   "id": "86be9b1b",
   "metadata": {},
   "outputs": [
    {
     "data": {
      "text/plain": [
       "3725.290298461914"
      ]
     },
     "execution_count": 12,
     "metadata": {},
     "output_type": "execute_result"
    }
   ],
   "source": [
    "estimate_num(total, estimate_4gb)"
   ]
  },
  {
   "cell_type": "code",
   "execution_count": 18,
   "id": "a21ec171",
   "metadata": {},
   "outputs": [],
   "source": [
    "def small_estimator(sub_num): return 100 * 1000 * sub_num"
   ]
  },
  {
   "cell_type": "code",
   "execution_count": 19,
   "id": "972f2167",
   "metadata": {},
   "outputs": [
    {
     "data": {
      "text/plain": [
       "0.046566128730773926"
      ]
     },
     "execution_count": 19,
     "metadata": {},
     "output_type": "execute_result"
    }
   ],
   "source": [
    "to_tb(small_estimator(sub_512))"
   ]
  },
  {
   "cell_type": "code",
   "execution_count": null,
   "id": "c29f280d",
   "metadata": {},
   "outputs": [],
   "source": []
  }
 ],
 "metadata": {
  "kernelspec": {
   "display_name": "Python 3",
   "language": "python",
   "name": "python3"
  },
  "language_info": {
   "codemirror_mode": {
    "name": "ipython",
    "version": 3
   },
   "file_extension": ".py",
   "mimetype": "text/x-python",
   "name": "python",
   "nbconvert_exporter": "python",
   "pygments_lexer": "ipython3",
   "version": "3.8.8"
  }
 },
 "nbformat": 4,
 "nbformat_minor": 5
}
