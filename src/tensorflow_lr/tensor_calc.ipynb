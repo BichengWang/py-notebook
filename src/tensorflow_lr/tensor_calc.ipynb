{
 "cells": [
  {
   "cell_type": "code",
   "execution_count": 1,
   "metadata": {},
   "outputs": [
    {
     "name": "stdout",
     "output_type": "stream",
     "text": [
      "NumPy version:  2.10.0\n",
      "WARNING:tensorflow:From <ipython-input-1-cec71dc7976a>:5: is_gpu_available (from tensorflow.python.framework.test_util) is deprecated and will be removed in a future version.\n",
      "Instructions for updating:\n",
      "Use `tf.config.list_physical_devices('GPU')` instead.\n",
      "GPU is not available\n",
      "[]\n"
     ]
    }
   ],
   "source": [
    "import tensorflow as tf\n",
    "\n",
    "print(\"NumPy version: \", tf.__version__)\n",
    "\n",
    "if tf.test.is_gpu_available():\n",
    "    print(\"GPU is available\")\n",
    "else:\n",
    "    print(\"GPU is not available\")\n",
    "print(tf.config.list_physical_devices('GPU'))\n"
   ]
  },
  {
   "cell_type": "code",
   "execution_count": 2,
   "metadata": {},
   "outputs": [],
   "source": [
    "import logging\n",
    "import time\n",
    "\n",
    "import pandas as pd\n",
    "import numpy as np\n",
    "from matplotlib import pyplot as plt\n",
    "import seaborn as sns\n",
    "\n",
    "# conda install matplotlib\n",
    "import matplotlib.pyplot as plt\n",
    "\n",
    "import tensorflow_datasets as tfds\n",
    "import tensorflow as tf\n",
    "\n",
    "# https://github.com/sun1638650145/Libraries-and-Extensions-for-TensorFlow-for-Apple-Silicon/releases\n",
    "# python -m pip install --ignore-installed ~/Downloads/tensorflow_text-2.12.0-cp38-cp38-macosx_11_0_arm64.whl\n",
    "import tensorflow_text"
   ]
  },
  {
   "attachments": {},
   "cell_type": "markdown",
   "metadata": {},
   "source": [
    "### Tensor Constant"
   ]
  },
  {
   "cell_type": "code",
   "execution_count": 9,
   "metadata": {},
   "outputs": [
    {
     "data": {
      "text/plain": [
       "<TensorSliceDataset element_spec=(TensorSpec(shape=(3,), dtype=tf.float32, name=None), TensorSpec(shape=(1,), dtype=tf.float32, name=None))>"
      ]
     },
     "execution_count": 9,
     "metadata": {},
     "output_type": "execute_result"
    }
   ],
   "source": [
    "num_samples = 10\n",
    "feature_dim = 3\n",
    "random_features = np.random.randn(num_samples, feature_dim)\n",
    "random_labels = np.random.randint(0, 2, size=(num_samples, 1))\n",
    "\n",
    "features = tf.constant(random_features, dtype=tf.float32)\n",
    "labels = tf.constant(random_labels, dtype=tf.float32)\n",
    "dataset = tf.data.Dataset.from_tensor_slices((features, labels))\n",
    "dataset\n"
   ]
  },
  {
   "cell_type": "code",
   "execution_count": 43,
   "metadata": {},
   "outputs": [],
   "source": [
    "features = tf.constant([\n",
    "    [1, 1, 1],\n",
    "    [1, 1, 1],\n",
    "    [1, 1, 1],\n",
    "    [1, 1, 2],\n",
    "    [1, 1, 2],\n",
    "    [1, 1, 2],\n",
    "    [1, 2, 2],\n",
    "    [1, 2, 2],\n",
    "    [1, 2, 2],\n",
    "    [2, 2, 2],\n",
    "    [2, 2, 2],\n",
    "    [2, 2, 2],\n",
    "], dtype=tf.float32)\n",
    "# higher value means stronger signal from relu\n",
    "X = tf.fill(dims=(12,3),value=3.)-features\n",
    "# price: $0.0, $1.0, $2.0\n",
    "price_labels = tf.constant([\n",
    "    [0],\n",
    "    [1],\n",
    "    [2],\n",
    "    [0],\n",
    "    [1],\n",
    "    [2],\n",
    "    [0],\n",
    "    [1],\n",
    "    [2],\n",
    "    [0],\n",
    "    [1],\n",
    "    [2],\n",
    "], dtype=tf.int32)\n",
    "labels = tf.constant([\n",
    "    [1],\n",
    "    [1],\n",
    "    [1],\n",
    "    [1],\n",
    "    [1],\n",
    "    [0],\n",
    "    [1],\n",
    "    [0],\n",
    "    [0],\n",
    "    [0],\n",
    "    [0],\n",
    "    [0],\n",
    "], dtype=tf.float32)"
   ]
  },
  {
   "cell_type": "code",
   "execution_count": 44,
   "metadata": {},
   "outputs": [
    {
     "name": "stdout",
     "output_type": "stream",
     "text": [
      "(12, 3)\n",
      "(12, 3)\n"
     ]
    }
   ],
   "source": [
    "one_hot_price_labels = tf.one_hot(tf.squeeze(price_labels, axis=-1), depth=3)\n",
    "print(one_hot_price_labels.shape)\n",
    "one_hot_result_label = tf.tile(labels, [1,3])\n",
    "print(one_hot_result_label.shape)"
   ]
  },
  {
   "cell_type": "code",
   "execution_count": 52,
   "metadata": {},
   "outputs": [
    {
     "data": {
      "text/plain": [
       "<tf.Tensor: shape=(12, 3), dtype=float32, numpy=\n",
       "array([[1.        , 0.6666667 , 0.33333334],\n",
       "       [1.        , 0.6666667 , 0.33333334],\n",
       "       [1.        , 0.6666667 , 0.33333334],\n",
       "       [1.        , 0.6666667 , 0.33333334],\n",
       "       [1.        , 0.6666667 , 0.33333334],\n",
       "       [1.        , 0.6666667 , 0.33333334],\n",
       "       [1.        , 0.6666667 , 0.33333334],\n",
       "       [1.        , 0.6666667 , 0.33333334],\n",
       "       [1.        , 0.6666667 , 0.33333334],\n",
       "       [1.        , 0.6666667 , 0.33333334],\n",
       "       [1.        , 0.6666667 , 0.33333334],\n",
       "       [1.        , 0.6666667 , 0.33333334]], dtype=float32)>"
      ]
     },
     "execution_count": 52,
     "metadata": {},
     "output_type": "execute_result"
    }
   ],
   "source": [
    "# delta prob $0~$1, prob $1~$2, prob $2+\n",
    "bias_prob = tf.constant([\n",
    "], dtype=tf.float32)\n",
    "delta_price_prob = tf.constant([\n",
    "    [1.,1.,1.],\n",
    "    [1.,1.,1.],\n",
    "    [1.,1.,1.],\n",
    "    [1.,1.,1.],\n",
    "    [1.,1.,1.],\n",
    "    [1.,1.,1.],\n",
    "    [1.,1.,1.],\n",
    "    [1.,1.,1.],\n",
    "    [1.,1.,1.],\n",
    "    [1.,1.,1.],\n",
    "    [1.,1.,1.],\n",
    "    [1.,1.,1.],\n",
    "], dtype=tf.float32)\n",
    "price_prob = tf.math.cumsum(tf.math.softmax(delta_price_prob, axis=-1), axis=-1, reverse=True)\n",
    "price_prob"
   ]
  },
  {
   "cell_type": "code",
   "execution_count": null,
   "metadata": {},
   "outputs": [
    {
     "data": {
      "text/plain": [
       "<tf.Tensor: shape=(12, 3), dtype=float32, numpy=\n",
       "array([[1.        , 0.6666667 , 0.33333334],\n",
       "       [1.        , 0.6666667 , 0.33333334],\n",
       "       [1.        , 0.6666667 , 0.33333334],\n",
       "       [1.        , 0.6666667 , 0.33333334],\n",
       "       [1.        , 0.6666667 , 0.33333334],\n",
       "       [1.        , 0.6666667 , 0.33333334],\n",
       "       [1.        , 0.6666667 , 0.33333334],\n",
       "       [1.        , 0.6666667 , 0.33333334],\n",
       "       [1.        , 0.6666667 , 0.33333334],\n",
       "       [1.        , 0.6666667 , 0.33333334],\n",
       "       [1.        , 0.6666667 , 0.33333334],\n",
       "       [1.        , 0.6666667 , 0.33333334]], dtype=float32)>"
      ]
     },
     "metadata": {},
     "output_type": "display_data"
    }
   ],
   "source": [
    "# delta prob $0~$1, prob $1~$2, prob $2+\n",
    "bias_prob = tf.constant([\n",
    "], dtype=tf.float32)\n",
    "delta_price_prob = tf.constant([\n",
    "    [1.,1.,1.],\n",
    "    [1.,1.,1.],\n",
    "    [1.,1.,1.],\n",
    "    [1.,1.,1.],\n",
    "    [1.,1.,1.],\n",
    "    [1.,1.,1.],\n",
    "    [1.,1.,1.],\n",
    "    [1.,1.,1.],\n",
    "    [1.,1.,1.],\n",
    "    [1.,1.,1.],\n",
    "    [1.,1.,1.],\n",
    "    [1.,1.,1.],\n",
    "], dtype=tf.float32)\n",
    "price_prob = tf.math.cumsum(tf.math.softmax(delta_price_prob, axis=-1), axis=-1, reverse=True)\n",
    "price_prob"
   ]
  },
  {
   "cell_type": "code",
   "execution_count": null,
   "metadata": {},
   "outputs": [],
   "source": []
  },
  {
   "cell_type": "code",
   "execution_count": 48,
   "metadata": {},
   "outputs": [
    {
     "data": {
      "text/plain": [
       "<tf.Tensor: shape=(12, 3), dtype=float32, numpy=\n",
       "array([[0.33333334, 0.33333334, 0.33333334],\n",
       "       [0.33333334, 0.33333334, 0.33333334],\n",
       "       [0.33333334, 0.33333334, 0.33333334],\n",
       "       [0.33333334, 0.33333334, 0.33333334],\n",
       "       [0.33333334, 0.33333334, 0.33333334],\n",
       "       [0.33333334, 0.33333334, 0.33333334],\n",
       "       [0.33333334, 0.33333334, 0.33333334],\n",
       "       [0.33333334, 0.33333334, 0.33333334],\n",
       "       [0.33333334, 0.33333334, 0.33333334],\n",
       "       [0.33333334, 0.33333334, 0.33333334],\n",
       "       [0.33333334, 0.33333334, 0.33333334],\n",
       "       [0.33333334, 0.33333334, 0.33333334]], dtype=float32)>"
      ]
     },
     "execution_count": 48,
     "metadata": {},
     "output_type": "execute_result"
    }
   ],
   "source": [
    "delta_price_prob"
   ]
  },
  {
   "cell_type": "code",
   "execution_count": 46,
   "metadata": {},
   "outputs": [
    {
     "data": {
      "text/plain": [
       "<tf.Tensor: shape=(12, 3), dtype=float32, numpy=\n",
       "array([[2., 2., 2.],\n",
       "       [2., 2., 2.],\n",
       "       [2., 2., 2.],\n",
       "       [2., 2., 1.],\n",
       "       [2., 2., 1.],\n",
       "       [2., 2., 1.],\n",
       "       [2., 1., 1.],\n",
       "       [2., 1., 1.],\n",
       "       [2., 1., 1.],\n",
       "       [1., 1., 1.],\n",
       "       [1., 1., 1.],\n",
       "       [1., 1., 1.]], dtype=float32)>"
      ]
     },
     "execution_count": 46,
     "metadata": {},
     "output_type": "execute_result"
    }
   ],
   "source": [
    "X"
   ]
  },
  {
   "attachments": {},
   "cell_type": "markdown",
   "metadata": {},
   "source": []
  }
 ],
 "metadata": {
  "kernelspec": {
   "display_name": "Python 3",
   "language": "python",
   "name": "python3"
  },
  "language_info": {
   "codemirror_mode": {
    "name": "ipython",
    "version": 3
   },
   "file_extension": ".py",
   "mimetype": "text/x-python",
   "name": "python",
   "nbconvert_exporter": "python",
   "pygments_lexer": "ipython3",
   "version": "3.8.8"
  },
  "orig_nbformat": 4
 },
 "nbformat": 4,
 "nbformat_minor": 2
}
