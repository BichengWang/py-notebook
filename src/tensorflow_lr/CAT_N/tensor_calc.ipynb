{
 "cells": [
  {
   "cell_type": "code",
   "execution_count": 1,
   "metadata": {},
   "outputs": [
    {
     "ename": "ModuleNotFoundError",
     "evalue": "No module named 'tensorflow'",
     "output_type": "error",
     "traceback": [
      "\u001b[0;31m---------------------------------------------------------------------------\u001b[0m",
      "\u001b[0;31mModuleNotFoundError\u001b[0m                       Traceback (most recent call last)",
      "Cell \u001b[0;32mIn[1], line 1\u001b[0m\n\u001b[0;32m----> 1\u001b[0m \u001b[38;5;28;01mimport\u001b[39;00m \u001b[38;5;21;01mtensorflow\u001b[39;00m \u001b[38;5;28;01mas\u001b[39;00m \u001b[38;5;21;01mtf\u001b[39;00m\n\u001b[1;32m      3\u001b[0m \u001b[38;5;28mprint\u001b[39m(\u001b[38;5;124m\"\u001b[39m\u001b[38;5;124mNumPy version: \u001b[39m\u001b[38;5;124m\"\u001b[39m, tf\u001b[38;5;241m.\u001b[39m__version__)\n\u001b[1;32m      5\u001b[0m \u001b[38;5;28;01mif\u001b[39;00m tf\u001b[38;5;241m.\u001b[39mtest\u001b[38;5;241m.\u001b[39mis_gpu_available():\n",
      "\u001b[0;31mModuleNotFoundError\u001b[0m: No module named 'tensorflow'"
     ]
    }
   ],
   "source": [
    "import tensorflow as tf\n",
    "\n",
    "print(\"NumPy version: \", tf.__version__)\n",
    "\n",
    "if tf.test.is_gpu_available():\n",
    "    print(\"GPU is available\")\n",
    "else:\n",
    "    print(\"GPU is not available\")\n",
    "print(tf.config.list_physical_devices('GPU'))\n"
   ]
  },
  {
   "cell_type": "code",
   "execution_count": 3,
   "metadata": {},
   "outputs": [
    {
     "name": "stdout",
     "output_type": "stream",
     "text": [
      "/bin/bash: python3.10: command not found\n",
      "/bin/bash: python3.10: command not found\n"
     ]
    }
   ],
   "source": [
    "!python3.10 -m pip install --upgrade pip\n",
    "!python3.10 -m pip install --upgrade tensorflow"
   ]
  },
  {
   "cell_type": "code",
   "execution_count": 3,
   "metadata": {},
   "outputs": [
    {
     "name": "stdout",
     "output_type": "stream",
     "text": [
      "1\n"
     ]
    }
   ],
   "source": [
    "print(1)"
   ]
  },
  {
   "cell_type": "code",
   "execution_count": 4,
   "metadata": {},
   "outputs": [],
   "source": [
    "import logging\n",
    "import time\n",
    "\n",
    "import pandas as pd\n",
    "import numpy as np\n",
    "from matplotlib import pyplot as plt\n",
    "import seaborn as sns\n",
    "\n",
    "# conda install matplotlib\n",
    "import matplotlib.pyplot as plt\n",
    "\n",
    "import tensorflow_datasets as tfds\n",
    "import tensorflow as tf\n",
    "\n",
    "# https://github.com/sun1638650145/Libraries-and-Extensions-for-TensorFlow-for-Apple-Silicon/releases\n",
    "# python -m pip install --ignore-installed ~/Downloads/tensorflow_text-2.12.0-cp38-cp38-macosx_11_0_arm64.whl\n",
    "# import tensorflow_text"
   ]
  },
  {
   "attachments": {},
   "cell_type": "markdown",
   "metadata": {},
   "source": [
    "### Tensor Constant"
   ]
  },
  {
   "cell_type": "code",
   "execution_count": 5,
   "metadata": {},
   "outputs": [
    {
     "data": {
      "text/plain": [
       "<_TensorSliceDataset element_spec=(TensorSpec(shape=(3,), dtype=tf.float32, name=None), TensorSpec(shape=(1,), dtype=tf.float32, name=None))>"
      ]
     },
     "execution_count": 5,
     "metadata": {},
     "output_type": "execute_result"
    }
   ],
   "source": [
    "num_samples = 10\n",
    "feature_dim = 3\n",
    "random_features = np.random.randn(num_samples, feature_dim)\n",
    "random_labels = np.random.randint(0, 2, size=(num_samples, 1))\n",
    "\n",
    "features = tf.constant(random_features, dtype=tf.float32)\n",
    "labels = tf.constant(random_labels, dtype=tf.float32)\n",
    "dataset = tf.data.Dataset.from_tensor_slices((features, labels))\n",
    "dataset\n"
   ]
  },
  {
   "cell_type": "code",
   "execution_count": 6,
   "metadata": {},
   "outputs": [],
   "source": [
    "features = tf.constant([\n",
    "    [1, 1, 1],\n",
    "    [1, 1, 1],\n",
    "    [1, 1, 1],\n",
    "    [1, 1, 2],\n",
    "    [1, 1, 2],\n",
    "    [1, 1, 2],\n",
    "    [1, 2, 2],\n",
    "    [1, 2, 2],\n",
    "    [1, 2, 2],\n",
    "    [2, 2, 2],\n",
    "    [2, 2, 2],\n",
    "    [2, 2, 2],\n",
    "], dtype=tf.float32)\n",
    "# higher value means stronger signal from relu\n",
    "X = tf.fill(dims=(12,3),value=3.)-features\n",
    "# price: $0.0, $1.0, $2.0\n",
    "price_labels = tf.constant([\n",
    "    [0],\n",
    "    [1],\n",
    "    [2],\n",
    "    [0],\n",
    "    [1],\n",
    "    [2],\n",
    "    [0],\n",
    "    [1],\n",
    "    [2],\n",
    "    [0],\n",
    "    [1],\n",
    "    [2],\n",
    "], dtype=tf.int32)\n",
    "labels = tf.constant([\n",
    "    [1],\n",
    "    [1],\n",
    "    [1],\n",
    "    [1],\n",
    "    [1],\n",
    "    [0],\n",
    "    [1],\n",
    "    [0],\n",
    "    [0],\n",
    "    [0],\n",
    "    [0],\n",
    "    [0],\n",
    "], dtype=tf.float32)"
   ]
  },
  {
   "cell_type": "code",
   "execution_count": 7,
   "metadata": {},
   "outputs": [
    {
     "name": "stdout",
     "output_type": "stream",
     "text": [
      "(12, 3)\n",
      "(12, 3)\n"
     ]
    }
   ],
   "source": [
    "one_hot_price_labels = tf.one_hot(tf.squeeze(price_labels, axis=-1), depth=3)\n",
    "print(one_hot_price_labels.shape)\n",
    "one_hot_result_label = tf.tile(labels, [1,3])\n",
    "print(one_hot_result_label.shape)"
   ]
  },
  {
   "cell_type": "code",
   "execution_count": 8,
   "metadata": {},
   "outputs": [
    {
     "data": {
      "text/plain": [
       "<tf.Tensor: shape=(12, 3), dtype=float32, numpy=\n",
       "array([[1.        , 0.6666667 , 0.33333334],\n",
       "       [1.        , 0.6666667 , 0.33333334],\n",
       "       [1.        , 0.6666667 , 0.33333334],\n",
       "       [1.        , 0.6666667 , 0.33333334],\n",
       "       [1.        , 0.6666667 , 0.33333334],\n",
       "       [1.        , 0.6666667 , 0.33333334],\n",
       "       [1.        , 0.6666667 , 0.33333334],\n",
       "       [1.        , 0.6666667 , 0.33333334],\n",
       "       [1.        , 0.6666667 , 0.33333334],\n",
       "       [1.        , 0.6666667 , 0.33333334],\n",
       "       [1.        , 0.6666667 , 0.33333334],\n",
       "       [1.        , 0.6666667 , 0.33333334]], dtype=float32)>"
      ]
     },
     "execution_count": 8,
     "metadata": {},
     "output_type": "execute_result"
    }
   ],
   "source": [
    "# delta prob $0~$1, prob $1~$2, prob $2+\n",
    "bias_prob = tf.constant([\n",
    "], dtype=tf.float32)\n",
    "delta_price_prob = tf.constant([\n",
    "    [1.,1.,1.],\n",
    "    [1.,1.,1.],\n",
    "    [1.,1.,1.],\n",
    "    [1.,1.,1.],\n",
    "    [1.,1.,1.],\n",
    "    [1.,1.,1.],\n",
    "    [1.,1.,1.],\n",
    "    [1.,1.,1.],\n",
    "    [1.,1.,1.],\n",
    "    [1.,1.,1.],\n",
    "    [1.,1.,1.],\n",
    "    [1.,1.,1.],\n",
    "], dtype=tf.float32)\n",
    "price_prob = tf.math.cumsum(tf.math.softmax(delta_price_prob, axis=-1), axis=-1, reverse=True)\n",
    "price_prob"
   ]
  },
  {
   "cell_type": "code",
   "execution_count": 9,
   "metadata": {},
   "outputs": [
    {
     "data": {
      "text/plain": [
       "<tf.Tensor: shape=(12, 3), dtype=float32, numpy=\n",
       "array([[1.        , 0.6666667 , 0.33333334],\n",
       "       [1.        , 0.6666667 , 0.33333334],\n",
       "       [1.        , 0.6666667 , 0.33333334],\n",
       "       [1.        , 0.6666667 , 0.33333334],\n",
       "       [1.        , 0.6666667 , 0.33333334],\n",
       "       [1.        , 0.6666667 , 0.33333334],\n",
       "       [1.        , 0.6666667 , 0.33333334],\n",
       "       [1.        , 0.6666667 , 0.33333334],\n",
       "       [1.        , 0.6666667 , 0.33333334],\n",
       "       [1.        , 0.6666667 , 0.33333334],\n",
       "       [1.        , 0.6666667 , 0.33333334],\n",
       "       [1.        , 0.6666667 , 0.33333334]], dtype=float32)>"
      ]
     },
     "execution_count": 9,
     "metadata": {},
     "output_type": "execute_result"
    }
   ],
   "source": [
    "# delta prob $0~$1, prob $1~$2, prob $2+\n",
    "bias_prob = tf.constant([\n",
    "], dtype=tf.float32)\n",
    "delta_price_prob = tf.constant([\n",
    "    [1.,1.,1.],\n",
    "    [1.,1.,1.],\n",
    "    [1.,1.,1.],\n",
    "    [1.,1.,1.],\n",
    "    [1.,1.,1.],\n",
    "    [1.,1.,1.],\n",
    "    [1.,1.,1.],\n",
    "    [1.,1.,1.],\n",
    "    [1.,1.,1.],\n",
    "    [1.,1.,1.],\n",
    "    [1.,1.,1.],\n",
    "    [1.,1.,1.],\n",
    "], dtype=tf.float32)\n",
    "price_prob = tf.math.cumsum(tf.math.softmax(delta_price_prob, axis=-1), axis=-1, reverse=True)\n",
    "price_prob"
   ]
  },
  {
   "cell_type": "code",
   "execution_count": null,
   "metadata": {},
   "outputs": [],
   "source": []
  },
  {
   "cell_type": "code",
   "execution_count": 10,
   "metadata": {},
   "outputs": [
    {
     "data": {
      "text/plain": [
       "<tf.Tensor: shape=(12, 3), dtype=float32, numpy=\n",
       "array([[1., 1., 1.],\n",
       "       [1., 1., 1.],\n",
       "       [1., 1., 1.],\n",
       "       [1., 1., 1.],\n",
       "       [1., 1., 1.],\n",
       "       [1., 1., 1.],\n",
       "       [1., 1., 1.],\n",
       "       [1., 1., 1.],\n",
       "       [1., 1., 1.],\n",
       "       [1., 1., 1.],\n",
       "       [1., 1., 1.],\n",
       "       [1., 1., 1.]], dtype=float32)>"
      ]
     },
     "execution_count": 10,
     "metadata": {},
     "output_type": "execute_result"
    }
   ],
   "source": [
    "delta_price_prob"
   ]
  },
  {
   "cell_type": "code",
   "execution_count": 11,
   "metadata": {},
   "outputs": [
    {
     "data": {
      "text/plain": [
       "<tf.Tensor: shape=(12, 3), dtype=float32, numpy=\n",
       "array([[2., 2., 2.],\n",
       "       [2., 2., 2.],\n",
       "       [2., 2., 2.],\n",
       "       [2., 2., 1.],\n",
       "       [2., 2., 1.],\n",
       "       [2., 2., 1.],\n",
       "       [2., 1., 1.],\n",
       "       [2., 1., 1.],\n",
       "       [2., 1., 1.],\n",
       "       [1., 1., 1.],\n",
       "       [1., 1., 1.],\n",
       "       [1., 1., 1.]], dtype=float32)>"
      ]
     },
     "execution_count": 11,
     "metadata": {},
     "output_type": "execute_result"
    }
   ],
   "source": [
    "X"
   ]
  },
  {
   "cell_type": "code",
   "execution_count": 12,
   "metadata": {},
   "outputs": [],
   "source": [
    "### CAT_Net"
   ]
  },
  {
   "cell_type": "code",
   "execution_count": 19,
   "metadata": {},
   "outputs": [
    {
     "name": "stderr",
     "output_type": "stream",
     "text": [
      "WARNING:absl:At this time, the v2.11+ optimizer `tf.keras.optimizers.Adam` runs slowly on M1/M2 Macs, please use the legacy Keras optimizer instead, located at `tf.keras.optimizers.legacy.Adam`.\n"
     ]
    },
    {
     "name": "stdout",
     "output_type": "stream",
     "text": [
      "Loss: 1.711830496788025, AUC: 0.5555555820465088, PR: 0.5555555820465088\n",
      "Loss: 1.6799752712249756, AUC: 0.5543981790542603, PR: 0.5543981790542603\n",
      "Loss: 1.6940438747406006, AUC: 0.5586419701576233, PR: 0.5586419701576233\n",
      "Loss: 1.6246918439865112, AUC: 0.5584490895271301, PR: 0.5584490895271301\n",
      "Loss: 1.6533546447753906, AUC: 0.5464814901351929, PR: 0.5464814901351929\n",
      "Loss: 1.620566725730896, AUC: 0.5482252836227417, PR: 0.5482252836227417\n",
      "Loss: 1.553983449935913, AUC: 0.5593348145484924, PR: 0.5593348145484924\n",
      "Loss: 1.5567121505737305, AUC: 0.5709635019302368, PR: 0.5709635019302368\n",
      "Loss: 1.544515609741211, AUC: 0.5805326700210571, PR: 0.5805326700210571\n"
     ]
    },
    {
     "ename": "",
     "evalue": "",
     "output_type": "error",
     "traceback": [
      "\u001b[1;31mThe Kernel crashed while executing code in the the current cell or a previous cell. Please review the code in the cell(s) to identify a possible cause of the failure. Click <a href='https://aka.ms/vscodeJupyterKernelCrash'>here</a> for more info. View Jupyter <a href='command:jupyter.viewOutput'>log</a> for further details."
     ]
    },
    {
     "ename": "",
     "evalue": "",
     "output_type": "error",
     "traceback": [
      "\u001b[1;31mCanceled future for execute_request message before replies were done"
     ]
    }
   ],
   "source": [
    "from tensorflow import keras\n",
    "CLASS_NUM = 3\n",
    "\n",
    "sample2 = (X, one_hot_result_label, one_hot_price_labels)\n",
    "\n",
    "class CATCausalModel(tf.keras.Model):\n",
    "    def __init__(self):\n",
    "        super(CATCausalModel, self).__init__()\n",
    "        self.multiply_layer = tf.keras.layers.Multiply()\n",
    "        self.dense_layer = keras.Sequential([\n",
    "            keras.layers.Dense(8, activation='relu',),\n",
    "            keras.layers.Dense(8, activation='relu',),\n",
    "            # make model compariable, last layer either a sigmoid or a causal activation\n",
    "            keras.layers.Dense(CLASS_NUM),\n",
    "        ])\n",
    "        self.softmax_layer = tf.keras.layers.Softmax(axis=-1)\n",
    "        self.cumsum_layer = tf.keras.layers.Lambda(\n",
    "            lambda x: tf.cumsum(x, axis=-1, reverse=True))\n",
    "        \n",
    "    def call(self, x, call_mask=None):\n",
    "        x = self.dense_layer(x)\n",
    "        x = self.softmax_layer(x)\n",
    "        x = self.cumsum_layer(x)\n",
    "#         if call_mask:\n",
    "#             x = self.multiply_layer(tf.cast(call_mask, tf.float32), x)\n",
    "        return x\n",
    "\n",
    "def masked_binary_crossentropy(y_true, y_pred, mask):\n",
    "    masked_true = tf.boolean_mask(y_true, mask)\n",
    "    masked_pred = tf.boolean_mask(y_pred, mask)\n",
    "    loss = tf.keras.losses.binary_crossentropy(masked_true, masked_pred)\n",
    "    return loss\n",
    "\n",
    "model = CATCausalModel()\n",
    "optimizer = tf.keras.optimizers.Adam(learning_rate=0.1)\n",
    "loss_fn = masked_binary_crossentropy\n",
    "auc_metrics = tf.keras.metrics.AUC(name='auc')\n",
    "auprc_metrics = tf.keras.metrics.AUC(name='pr')\n",
    "num_epochs=10\n",
    "for epoch in range(num_epochs):\n",
    "#     print(f\"Epoch {epoch+1}/{num_epochs}\")\n",
    "    # Step 3: Perform forward pass\n",
    "    with tf.GradientTape() as tape:\n",
    "        # Sample a single training example from the training data\n",
    "        x_train, y_true, mask = sample2\n",
    "\n",
    "        # Pass the input features through the model\n",
    "        y_pred = model(x=x_train)\n",
    "        # Step 4: Calculate loss\n",
    "        loss_value = loss_fn(y_true, y_pred, mask)\n",
    "    \n",
    "    # Step 5: Backpropagation and optimization\n",
    "    grads = tape.gradient(loss_value, model.trainable_variables)\n",
    "    optimizer.apply_gradients(zip(grads, model.trainable_variables))\n",
    "    \n",
    "    y_true_clip = tf.clip_by_value(y_true, 0, 1)\n",
    "    y_pred_clip = tf.clip_by_value(y_pred, 0, 1)\n",
    "    auc_metrics.update_state(y_true_clip, y_pred_clip)\n",
    "    auc_val = auc_metrics.result().numpy()\n",
    "    auprc_metrics.update_state(y_true_clip, y_pred_clip)\n",
    "    auprc_val = auprc_metrics.result().numpy()\n",
    "    print(f\"Loss: {loss_value.numpy()}, AUC: {auc_val}, PR: {auprc_val}\")\n",
    "\n",
    "print(model.predict(X))"
   ]
  },
  {
   "attachments": {},
   "cell_type": "markdown",
   "metadata": {},
   "source": []
  }
 ],
 "metadata": {
  "kernelspec": {
   "display_name": "Python 3 (ipykernel)",
   "language": "python",
   "name": "python3"
  },
  "language_info": {
   "codemirror_mode": {
    "name": "ipython",
    "version": 3
   },
   "file_extension": ".py",
   "mimetype": "text/x-python",
   "name": "python",
   "nbconvert_exporter": "python",
   "pygments_lexer": "ipython3",
   "version": "3.10.8"
  },
  "orig_nbformat": 4
 },
 "nbformat": 4,
 "nbformat_minor": 2
}
